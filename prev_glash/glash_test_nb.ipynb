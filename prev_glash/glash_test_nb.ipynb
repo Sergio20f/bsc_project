{
 "cells": [
  {
   "cell_type": "code",
   "execution_count": 1,
   "id": "c35c608b",
   "metadata": {},
   "outputs": [
    {
     "name": "stdout",
     "output_type": "stream",
     "text": [
      "WARNING:tensorflow:From /home/sergiocalvo/anaconda3/envs/tf/lib/python3.9/site-packages/tensorflow/python/compat/v2_compat.py:96: disable_resource_variables (from tensorflow.python.ops.variable_scope) is deprecated and will be removed in a future version.\n",
      "Instructions for updating:\n",
      "non-resource variables are not supported in the long term\n"
     ]
    }
   ],
   "source": [
    "import sys\n",
    "sys.path.append('../')\n",
    "import numpy as np\n",
    "import matplotlib.pyplot as plt\n",
    "import tensorflow.compat.v1 as tf\n",
    "\n",
    "from glash import Glash\n",
    "tf.random.set_random_seed(42)"
   ]
  },
  {
   "cell_type": "code",
   "execution_count": 2,
   "id": "2edbc39b",
   "metadata": {},
   "outputs": [
    {
     "name": "stderr",
     "output_type": "stream",
     "text": [
      "2021-11-03 22:26:33.884203: I tensorflow/compiler/jit/xla_cpu_device.cc:41] Not creating XLA devices, tf_xla_enable_xla_devices not set\n",
      "2021-11-03 22:26:33.884352: I tensorflow/core/platform/cpu_feature_guard.cc:142] This TensorFlow binary is optimized with oneAPI Deep Neural Network Library (oneDNN) to use the following CPU instructions in performance-critical operations:  SSE4.1 SSE4.2 AVX AVX2 FMA\n",
      "To enable them in other operations, rebuild TensorFlow with the appropriate compiler flags.\n",
      "2021-11-03 22:26:33.885421: I tensorflow/core/common_runtime/process_util.cc:146] Creating new thread pool with default inter op setting: 2. Tune using inter_op_parallelism_threads for best performance.\n",
      "2021-11-03 22:26:34.259492: I tensorflow/compiler/mlir/mlir_graph_optimization_pass.cc:116] None of the MLIR optimization passes are enabled (registered 2)\n",
      "2021-11-03 22:26:34.284605: I tensorflow/core/platform/profile_utils/cpu_utils.cc:112] CPU Frequency: 2199995000 Hz\n"
     ]
    }
   ],
   "source": [
    "no_samples = 500\n",
    "\n",
    "test_obj = Glash(no_samples, [no_samples])\n",
    "test_obj.glash_compile()\n",
    "\n",
    "batch_size = 100\n",
    "dataset = [np.random.normal(np.random.randint(0, 10), \n",
    "                            np.round(np.random.uniform(0, 1), decimals=2), \n",
    "                            no_samples) for i in range(1000)]\n",
    "\n",
    "dataset = test_obj.data_processing(dataset, batch_size)\n",
    "\n",
    "test_obj.train_glash(dataset, batch_size)\n",
    "new = np.array([np.random.normal(1, 0.2, no_samples)])\n",
    "test = test_obj.glash_predict(new)"
   ]
  },
  {
   "cell_type": "code",
   "execution_count": 3,
   "id": "d2b7ffc3",
   "metadata": {
    "scrolled": false
   },
   "outputs": [
    {
     "data": {
      "image/png": "[encoded data removed]",
      "text/plain": [
       "<Figure size 432x288 with 1 Axes>"
      ]
     },
     "metadata": {
      "needs_background": "light"
     },
     "output_type": "display_data"
    }
   ],
   "source": [
    "plt.hist(test)\n",
    "plt.show()"
   ]
  },
  {
   "cell_type": "code",
   "execution_count": 4,
   "id": "841b0169",
   "metadata": {
    "scrolled": true
   },
   "outputs": [
    {
     "data": {
      "text/plain": [
       "(array([ 1.,  0.,  3.,  2.,  3.,  5., 11.,  6.,  7.,  9., 13., 13., 14.,\n",
       "        13., 16., 18., 11., 21., 13., 17., 15., 13., 17.,  8., 16., 13.,\n",
       "        19., 15., 16., 18., 18., 13.,  8., 20., 15., 19.,  9., 12., 11.,\n",
       "         3., 13.,  4.,  2.,  0.,  1.,  2.,  2.,  1.,  0.,  1.]),\n",
       " array([0.39725864, 0.40194252, 0.40662643, 0.41131032, 0.41599423,\n",
       "        0.4206781 , 0.42536202, 0.4300459 , 0.4347298 , 0.4394137 ,\n",
       "        0.44409758, 0.4487815 , 0.45346537, 0.45814928, 0.46283317,\n",
       "        0.46751708, 0.47220096, 0.47688484, 0.48156875, 0.48625264,\n",
       "        0.49093655, 0.49562043, 0.50030434, 0.50498825, 0.5096721 ,\n",
       "        0.514356  , 0.5190399 , 0.5237238 , 0.5284077 , 0.5330916 ,\n",
       "        0.5377755 , 0.54245937, 0.5471433 , 0.5518272 , 0.55651104,\n",
       "        0.56119496, 0.56587887, 0.5705628 , 0.57524663, 0.57993054,\n",
       "        0.58461446, 0.58929837, 0.5939822 , 0.59866613, 0.60335004,\n",
       "        0.6080339 , 0.6127178 , 0.6174017 , 0.62208563, 0.6267695 ,\n",
       "        0.6314534 ], dtype=float32),\n",
       " <BarContainer object of 50 artists>)"
      ]
     },
     "execution_count": 4,
     "metadata": {},
     "output_type": "execute_result"
    },
    {
     "data": {
      "image/png": "[encoded data removed]",
      "text/plain": [
       "<Figure size 432x288 with 1 Axes>"
      ]
     },
     "metadata": {
      "needs_background": "light"
     },
     "output_type": "display_data"
    }
   ],
   "source": [
    "new_2 = np.array([np.random.uniform(1, 0.2, no_samples)])\n",
    "test_2 = test_obj.glash_predict(new_2)\n",
    "plt.hist(test_2, bins=50)"
   ]
  },
  {
   "cell_type": "code",
   "execution_count": 5,
   "id": "ace6dac9",
   "metadata": {},
   "outputs": [
    {
     "data": {
      "text/plain": [
       "(array([ 1.,  4.,  6., 18., 16., 25., 27., 34., 31., 30., 25., 27., 29.,\n",
       "        31., 30., 31., 24., 38., 26., 19., 18.,  3.,  2.,  2.,  3.]),\n",
       " array([0.38727868, 0.39734146, 0.4074042 , 0.417467  , 0.42752978,\n",
       "        0.43759254, 0.44765532, 0.45771807, 0.46778086, 0.47784364,\n",
       "        0.4879064 , 0.49796918, 0.50803196, 0.5180947 , 0.5281575 ,\n",
       "        0.5382203 , 0.54828304, 0.5583458 , 0.5684086 , 0.57847136,\n",
       "        0.5885341 , 0.59859693, 0.6086597 , 0.61872244, 0.62878525,\n",
       "        0.638848  ], dtype=float32),\n",
       " <BarContainer object of 25 artists>)"
      ]
     },
     "execution_count": 5,
     "metadata": {},
     "output_type": "execute_result"
    },
    {
     "data": {
      "image/png": "[encoded data removed]",
      "text/plain": [
       "<Figure size 432x288 with 1 Axes>"
      ]
     },
     "metadata": {
      "needs_background": "light"
     },
     "output_type": "display_data"
    }
   ],
   "source": [
    "new_3 = np.array([np.random.uniform(3, 0.1, no_samples)])\n",
    "test_3 = test_obj.glash_predict(new_3)\n",
    "plt.hist(test_3, bins=25)"
   ]
  }
 ],
 "metadata": {
  "kernelspec": {
   "display_name": "Python 3 (ipykernel)",
   "language": "python",
   "name": "python3"
  },
  "language_info": {
   "codemirror_mode": {
    "name": "ipython",
    "version": 3
   },
   "file_extension": ".py",
   "mimetype": "text/x-python",
   "name": "python",
   "nbconvert_exporter": "python",
   "pygments_lexer": "ipython3",
   "version": "3.9.7"
  }
 },
 "nbformat": 4,
 "nbformat_minor": 5
}
