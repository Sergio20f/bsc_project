{
 "cells": [
  {
   "cell_type": "code",
   "execution_count": 1,
   "id": "c35c608b",
   "metadata": {},
   "outputs": [
    {
     "name": "stdout",
     "output_type": "stream",
     "text": [
      "WARNING:tensorflow:From /home/sergiocalvo/anaconda3/envs/tf/lib/python3.9/site-packages/tensorflow/python/compat/v2_compat.py:96: disable_resource_variables (from tensorflow.python.ops.variable_scope) is deprecated and will be removed in a future version.\n",
      "Instructions for updating:\n",
      "non-resource variables are not supported in the long term\n"
     ]
    }
   ],
   "source": [
    "import sys\n",
    "sys.path.append('../')\n",
    "import numpy as np\n",
    "import matplotlib.pyplot as plt\n",
    "import tensorflow.compat.v1 as tf\n",
    "\n",
    "from glash import Glash\n",
    "tf.random.set_random_seed(42)"
   ]
  },
  {
   "cell_type": "code",
   "execution_count": 2,
   "id": "2edbc39b",
   "metadata": {},
   "outputs": [
    {
     "name": "stderr",
     "output_type": "stream",
     "text": [
      "2021-11-03 15:10:11.897659: I tensorflow/compiler/jit/xla_cpu_device.cc:41] Not creating XLA devices, tf_xla_enable_xla_devices not set\n",
      "2021-11-03 15:10:11.897923: I tensorflow/core/platform/cpu_feature_guard.cc:142] This TensorFlow binary is optimized with oneAPI Deep Neural Network Library (oneDNN) to use the following CPU instructions in performance-critical operations:  SSE4.1 SSE4.2 AVX AVX2 FMA\n",
      "To enable them in other operations, rebuild TensorFlow with the appropriate compiler flags.\n",
      "2021-11-03 15:10:11.899323: I tensorflow/core/common_runtime/process_util.cc:146] Creating new thread pool with default inter op setting: 2. Tune using inter_op_parallelism_threads for best performance.\n",
      "2021-11-03 15:10:12.507120: I tensorflow/compiler/mlir/mlir_graph_optimization_pass.cc:116] None of the MLIR optimization passes are enabled (registered 2)\n",
      "2021-11-03 15:10:12.526412: I tensorflow/core/platform/profile_utils/cpu_utils.cc:112] CPU Frequency: 2199995000 Hz\n"
     ]
    }
   ],
   "source": [
    "no_samples = 250\n",
    "\n",
    "test_obj = Glash(no_samples, [no_samples])\n",
    "test_obj.glash_compile()\n",
    "\n",
    "batch_size = 10\n",
    "dataset = [np.random.normal(10, 0.1, no_samples) for i in range(70)]\n",
    "dataset = test_obj.data_processing(dataset, batch_size)\n",
    "\n",
    "test_obj.train_glash(dataset, batch_size)\n",
    "new = np.array([np.random.normal(1, 0.2, no_samples)])\n",
    "test = test_obj.glash_predict(new)"
   ]
  },
  {
   "cell_type": "code",
   "execution_count": 3,
   "id": "d2b7ffc3",
   "metadata": {
    "scrolled": false
   },
   "outputs": [
    {
     "data": {
      "image/png": "[encoded data removed]",
      "text/plain": [
       "<Figure size 432x288 with 1 Axes>"
      ]
     },
     "metadata": {
      "needs_background": "light"
     },
     "output_type": "display_data"
    }
   ],
   "source": [
    "plt.hist(test)\n",
    "plt.show()"
   ]
  },
  {
   "cell_type": "code",
   "execution_count": 4,
   "id": "841b0169",
   "metadata": {
    "scrolled": true
   },
   "outputs": [
    {
     "data": {
      "text/plain": [
       "(array([ 3.,  0.,  0.,  1.,  2.,  0.,  3.,  0.,  2.,  3.,  6.,  5.,  1.,\n",
       "         5.,  5.,  5.,  2.,  6.,  9.,  5.,  6.,  6.,  5.,  4.,  7.,  8.,\n",
       "        11.,  7.,  7., 11.,  7.,  8.,  6., 15.,  9., 11.,  9.,  6.,  6.,\n",
       "         7.,  4.,  2.,  4.,  2.,  9.,  3.,  4.,  1.,  0.,  2.]),\n",
       " array([0.29185766, 0.3006502 , 0.30944276, 0.3182353 , 0.32702783,\n",
       "        0.33582038, 0.34461293, 0.35340548, 0.36219802, 0.37099057,\n",
       "        0.3797831 , 0.38857564, 0.3973682 , 0.40616074, 0.4149533 ,\n",
       "        0.42374584, 0.43253836, 0.4413309 , 0.45012346, 0.458916  ,\n",
       "        0.46770856, 0.4765011 , 0.48529363, 0.49408618, 0.5028787 ,\n",
       "        0.5116713 , 0.5204638 , 0.52925634, 0.5380489 , 0.54684144,\n",
       "        0.555634  , 0.56442654, 0.57321906, 0.58201164, 0.59080416,\n",
       "        0.59959674, 0.60838926, 0.61718184, 0.62597436, 0.6347669 ,\n",
       "        0.64355946, 0.652352  , 0.66114455, 0.6699371 , 0.6787296 ,\n",
       "        0.6875222 , 0.6963147 , 0.7051073 , 0.7138998 , 0.7226924 ,\n",
       "        0.7314849 ], dtype=float32),\n",
       " <BarContainer object of 50 artists>)"
      ]
     },
     "execution_count": 4,
     "metadata": {},
     "output_type": "execute_result"
    },
    {
     "data": {
      "image/png": "[encoded data removed]",
      "text/plain": [
       "<Figure size 432x288 with 1 Axes>"
      ]
     },
     "metadata": {
      "needs_background": "light"
     },
     "output_type": "display_data"
    }
   ],
   "source": [
    "new_2 = np.array([np.random.uniform(1, 0.2, no_samples)])\n",
    "test_2 = test_obj.glash_predict(new_2)\n",
    "plt.hist(test_2, bins=50)"
   ]
  },
  {
   "cell_type": "code",
   "execution_count": 5,
   "id": "ace6dac9",
   "metadata": {},
   "outputs": [
    {
     "data": {
      "text/plain": [
       "(array([ 4.,  7., 23., 26., 34., 41., 55., 32., 22.,  6.]),\n",
       " array([0.2288549 , 0.286309  , 0.34376314, 0.40121725, 0.4586714 ,\n",
       "        0.5161255 , 0.5735796 , 0.6310337 , 0.6884879 , 0.745942  ,\n",
       "        0.8033961 ], dtype=float32),\n",
       " <BarContainer object of 10 artists>)"
      ]
     },
     "execution_count": 5,
     "metadata": {},
     "output_type": "execute_result"
    },
    {
     "data": {
      "image/png": "[encoded data removed]",
      "text/plain": [
       "<Figure size 432x288 with 1 Axes>"
      ]
     },
     "metadata": {
      "needs_background": "light"
     },
     "output_type": "display_data"
    }
   ],
   "source": [
    "new_3 = np.array([np.random.normal(1, 0.2, no_samples)])\n",
    "test_3 = test_obj.glash_predict(new_3)\n",
    "plt.hist(test_3)"
   ]
  }
 ],
 "metadata": {
  "kernelspec": {
   "display_name": "Python 3 (ipykernel)",
   "language": "python",
   "name": "python3"
  },
  "language_info": {
   "codemirror_mode": {
    "name": "ipython",
    "version": 3
   },
   "file_extension": ".py",
   "mimetype": "text/x-python",
   "name": "python",
   "nbconvert_exporter": "python",
   "pygments_lexer": "ipython3",
   "version": "3.9.7"
  }
 },
 "nbformat": 4,
 "nbformat_minor": 5
}
