{
 "cells": [
  {
   "cell_type": "code",
   "execution_count": 1,
   "id": "535fa541",
   "metadata": {},
   "outputs": [
    {
     "name": "stdout",
     "output_type": "stream",
     "text": [
      "WARNING:tensorflow:From /home/sergiocalvo/anaconda3/envs/tf/lib/python3.9/site-packages/tensorflow/python/compat/v2_compat.py:96: disable_resource_variables (from tensorflow.python.ops.variable_scope) is deprecated and will be removed in a future version.\n",
      "Instructions for updating:\n",
      "non-resource variables are not supported in the long term\n"
     ]
    }
   ],
   "source": [
    "import tensorflow.compat.v1 as tf\n",
    "tf.disable_v2_behavior()\n",
    "tf.enable_eager_execution()"
   ]
  },
  {
   "cell_type": "code",
   "execution_count": 2,
   "id": "c35c608b",
   "metadata": {},
   "outputs": [],
   "source": [
    "import numpy as np\n",
    "import matplotlib.pyplot as plt"
   ]
  },
  {
   "cell_type": "code",
   "execution_count": 3,
   "id": "9a62f74f",
   "metadata": {},
   "outputs": [
    {
     "name": "stderr",
     "output_type": "stream",
     "text": [
      "2021-11-02 00:17:04.237985: I tensorflow/compiler/jit/xla_cpu_device.cc:41] Not creating XLA devices, tf_xla_enable_xla_devices not set\n",
      "2021-11-02 00:17:04.238166: I tensorflow/core/platform/cpu_feature_guard.cc:142] This TensorFlow binary is optimized with oneAPI Deep Neural Network Library (oneDNN) to use the following CPU instructions in performance-critical operations:  SSE4.1 SSE4.2 AVX AVX2 FMA\n",
      "To enable them in other operations, rebuild TensorFlow with the appropriate compiler flags.\n",
      "2021-11-02 00:17:04.239142: I tensorflow/core/common_runtime/process_util.cc:146] Creating new thread pool with default inter op setting: 2. Tune using inter_op_parallelism_threads for best performance.\n"
     ]
    }
   ],
   "source": [
    "# GAN = Glash\n",
    "codings_size = 250\n",
    "\n",
    "generator = tf.keras.models.Sequential([\n",
    "    tf.keras.layers.Dense(50, activation='relu', input_shape=[codings_size]),\n",
    "    tf.keras.layers.Dense(100, activation='relu'),\n",
    "    tf.keras.layers.Dense(codings_size, activation='sigmoid')\n",
    "])\n",
    "\n",
    "discriminator = tf.keras.models.Sequential([\n",
    "    tf.keras.layers.Dense(150, activation='relu', input_shape=[codings_size]),\n",
    "    tf.keras.layers.Dense(100, activation='relu'),\n",
    "    tf.keras.layers.Dense(1, activation='sigmoid')\n",
    "])\n",
    "\n",
    "glash = tf.keras.models.Sequential([generator, discriminator])"
   ]
  },
  {
   "cell_type": "code",
   "execution_count": 4,
   "id": "f1aa9a65",
   "metadata": {},
   "outputs": [],
   "source": [
    "discriminator.compile(loss='binary_crossentropy', optimizer='Adam')\n",
    "discriminator.trainable = False\n",
    "glash.compile(loss='binary_crossentropy', optimizer='Adam')"
   ]
  },
  {
   "cell_type": "code",
   "execution_count": 5,
   "id": "18502222",
   "metadata": {},
   "outputs": [
    {
     "name": "stdout",
     "output_type": "stream",
     "text": [
      "(5, 10, 250)\n"
     ]
    }
   ],
   "source": [
    "dataset = np.array(np.split(np.array([np.random.normal(10, 0.1, 250) for i in range(50)]), 5))\n",
    "print(dataset.shape)\n",
    "batch_size = 10"
   ]
  },
  {
   "cell_type": "code",
   "execution_count": 6,
   "id": "88740d12",
   "metadata": {},
   "outputs": [
    {
     "name": "stderr",
     "output_type": "stream",
     "text": [
      "2021-11-02 00:17:04.741120: I tensorflow/compiler/mlir/mlir_graph_optimization_pass.cc:116] None of the MLIR optimization passes are enabled (registered 2)\n",
      "2021-11-02 00:17:04.764618: I tensorflow/core/platform/profile_utils/cpu_utils.cc:112] CPU Frequency: 2199995000 Hz\n"
     ]
    }
   ],
   "source": [
    "def train_gan(gan, dataset, batch_size, codings_size, n_epochs=100):\n",
    "    generator, discriminator = glash.layers\n",
    "    for epoch in range(n_epochs):\n",
    "        for X_batch in dataset:\n",
    "            # training the discriminator\n",
    "            noise = tf.random.normal(shape=[batch_size, codings_size])\n",
    "            generated_images = generator(noise)\n",
    "            X_fake_and_real = tf.concat([generated_images, X_batch], axis=0)\n",
    "            y1 = tf.constant([[0.]]*batch_size+[[1.]]*batch_size)\n",
    "            discriminator.trainable = True\n",
    "            discriminator.train_on_batch(X_fake_and_real, y1)\n",
    "            \n",
    "            # Phase 2 - training the generator\n",
    "            noise = tf.random.normal(shape=[batch_size, codings_size])\n",
    "            y2 = tf.constant([[1.]]*batch_size)\n",
    "            discriminator.trainable = False\n",
    "            glash.train_on_batch(noise, y2)\n",
    "            \n",
    "train_gan(glash, dataset, batch_size, codings_size)"
   ]
  },
  {
   "cell_type": "code",
   "execution_count": 12,
   "id": "05322b3e",
   "metadata": {},
   "outputs": [],
   "source": [
    "new = np.array([np.random.normal(1, 0.2, codings_size)])\n",
    "test = generator.predict(new)"
   ]
  },
  {
   "cell_type": "code",
   "execution_count": 17,
   "id": "29816147",
   "metadata": {},
   "outputs": [
    {
     "data": {
      "text/plain": [
       "(array([21., 18., 23., 26., 21., 18., 32., 23., 41., 27.]),\n",
       " array([0.08220235, 0.1698152 , 0.25742805, 0.3450409 , 0.43265373,\n",
       "        0.5202666 , 0.6078794 , 0.69549227, 0.78310513, 0.87071794,\n",
       "        0.9583308 ], dtype=float32),\n",
       " <BarContainer object of 10 artists>)"
      ]
     },
     "execution_count": 17,
     "metadata": {},
     "output_type": "execute_result"
    },
    {
     "data": {
      "image/png": "[encoded data removed]",
      "text/plain": [
       "<Figure size 432x288 with 1 Axes>"
      ]
     },
     "metadata": {
      "needs_background": "light"
     },
     "output_type": "display_data"
    }
   ],
   "source": [
    "plt.hist(test[0])"
   ]
  },
  {
   "cell_type": "code",
   "execution_count": 16,
   "id": "96e78a79",
   "metadata": {
    "scrolled": true
   },
   "outputs": [
    {
     "data": {
      "text/plain": [
       "(array([10., 13., 23., 59., 52., 45., 29., 12.,  6.,  1.]),\n",
       " array([0.5244324 , 0.63100464, 0.73757687, 0.84414911, 0.95072135,\n",
       "        1.05729358, 1.16386582, 1.27043806, 1.37701029, 1.48358253,\n",
       "        1.59015477]),\n",
       " <BarContainer object of 10 artists>)"
      ]
     },
     "execution_count": 16,
     "metadata": {},
     "output_type": "execute_result"
    },
    {
     "data": {
      "image/png": "[encoded data removed]",
      "text/plain": [
       "<Figure size 432x288 with 1 Axes>"
      ]
     },
     "metadata": {
      "needs_background": "light"
     },
     "output_type": "display_data"
    }
   ],
   "source": [
    "plt.hist(new[0])"
   ]
  },
  {
   "cell_type": "code",
   "execution_count": 17,
   "id": "b4245197",
   "metadata": {},
   "outputs": [],
   "source": [
    "class Glash:\n",
    "\n",
    "    def __init__(self, no_samples, input_shape):\n",
    "        self.no_samples = no_samples\n",
    "        # GAN Architecture\n",
    "        # Generator part\n",
    "        generator = tf.keras.models.Sequential([\n",
    "            tf.keras.layers.Dense(50, activation='relu', input_shape=input_shape),\n",
    "            tf.keras.layers.Dense(100, activation='relu'),\n",
    "            tf.keras.layers.Dense(self.no_samples, activation='sigmoid')\n",
    "        ])\n",
    "\n",
    "        # Discriminator side\n",
    "        discriminator = tf.keras.models.Sequential([\n",
    "            tf.keras.layers.Dense(150, activation='relu', input_shape=[self.no_samples]),\n",
    "            tf.keras.layers.Dense(100, activation='relu'),\n",
    "            tf.keras.layers.Dense(1, activation='sigmoid')\n",
    "        ])\n",
    "        glash = tf.keras.models.Sequential([generator, discriminator])\n",
    "        self.glash = glash\n",
    "        self.generator = generator\n",
    "        self.discriminator = discriminator\n",
    "\n",
    "    def glash_compile(self):\n",
    "        self.discriminator.compile(loss='binary_crossentropy', optimizer='Adam')\n",
    "        self.discriminator.trainable = False\n",
    "        self.glash.compile(loss='binary_crossentropy', optimizer='Adam')\n",
    "        \n",
    "    def data_processing(self, dataset, batch_size):\n",
    "        if type(dataset) == list:\n",
    "            dataset = np.array(dataset)\n",
    "        \n",
    "        if type(dataset) == np.ndarray:\n",
    "            proc_dataset = np.array(np.split(dataset, int(len(dataset)/batch_size)))\n",
    "        \n",
    "        else:\n",
    "            return \"Input dataset has the wrong format\"\n",
    "        \n",
    "        return proc_dataset\n",
    "\n",
    "    def train_glash(self, dataset, batch_size, no_epochs=100):\n",
    "        generator, discriminator = self.glash.layers\n",
    "        for epoch in range(no_epochs):\n",
    "            for X_batch in dataset:\n",
    "                # Phase 1- Training the discriminator\n",
    "                noise = tf.random.normal(shape=[batch_size, self.no_samples])\n",
    "                generated_dist = generator(noise)\n",
    "                X_fake_and_real = tf.concat([generated_dist, X_batch], axis=0)\n",
    "                y1 = tf.constant([[0.]] * batch_size + [[1.]] * batch_size)\n",
    "                discriminator.trainable = True\n",
    "                discriminator.train_on_batch(X_fake_and_real, y1)\n",
    "\n",
    "                # Phase 2 - Training the generator\n",
    "                noise = tf.random.normal(shape=[batch_size, self.no_samples])\n",
    "                y2 = tf.constant([[1.]] * batch_size)\n",
    "                discriminator.trainable = False\n",
    "                self.glash.train_on_batch(noise, y2)\n",
    "\n",
    "    def glash_predict(self, sample):\n",
    "        return self.generator(sample)"
   ]
  },
  {
   "cell_type": "code",
   "execution_count": 20,
   "id": "2edbc39b",
   "metadata": {},
   "outputs": [],
   "source": [
    "test_obj = Glash(250, [250])\n",
    "test_obj.glash_compile()\n",
    "\n",
    "#dataset = np.array(np.split(np.array([np.random.normal(10, 0.1, 250) for i in range(50)]), 5))\n",
    "batch_size = 10\n",
    "dataset = [np.random.normal(10, 0.1, 250) for i in range(50)]\n",
    "dataset = test_obj.data_processing(dataset, batch_size)\n",
    "\n",
    "test_obj.train_glash(dataset, batch_size)\n",
    "new = np.array([np.random.normal(1, 0.2, 250)])\n",
    "test = test_obj.glash_predict(new)"
   ]
  },
  {
   "cell_type": "code",
   "execution_count": 21,
   "id": "d2b7ffc3",
   "metadata": {},
   "outputs": [
    {
     "data": {
      "image/png": "[encoded data removed]",
      "text/plain": [
       "<Figure size 432x288 with 1 Axes>"
      ]
     },
     "metadata": {
      "needs_background": "light"
     },
     "output_type": "display_data"
    }
   ],
   "source": [
    "plt.hist(test)\n",
    "plt.show()"
   ]
  }
 ],
 "metadata": {
  "kernelspec": {
   "display_name": "Python 3 (ipykernel)",
   "language": "python",
   "name": "python3"
  },
  "language_info": {
   "codemirror_mode": {
    "name": "ipython",
    "version": 3
   },
   "file_extension": ".py",
   "mimetype": "text/x-python",
   "name": "python",
   "nbconvert_exporter": "python",
   "pygments_lexer": "ipython3",
   "version": "3.9.7"
  }
 },
 "nbformat": 4,
 "nbformat_minor": 5
}
