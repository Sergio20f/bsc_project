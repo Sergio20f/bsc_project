{
 "cells": [
  {
   "cell_type": "code",
   "execution_count": 1,
   "id": "55d07cb3",
   "metadata": {},
   "outputs": [
    {
     "name": "stderr",
     "output_type": "stream",
     "text": [
      "2022-02-22 22:23:26.651823: I tensorflow/stream_executor/platform/default/dso_loader.cc:49] Successfully opened dynamic library libcudart.so.10.1\n"
     ]
    }
   ],
   "source": [
    "import numpy as np\n",
    "import matplotlib.pyplot as plt\n",
    "import sys\n",
    "\n",
    "sys.path.append('../')\n",
    "\n",
    "from helpers import *"
   ]
  },
  {
   "cell_type": "code",
   "execution_count": 2,
   "id": "2e1f66e7",
   "metadata": {},
   "outputs": [],
   "source": [
    "ht = np.random.normal(0, 1, 500)\n",
    "ht_2 = np.random.normal(0, 1, 500)"
   ]
  },
  {
   "cell_type": "code",
   "execution_count": 3,
   "id": "ce605a0f",
   "metadata": {
    "scrolled": true
   },
   "outputs": [
    {
     "data": {
      "image/png": "[encoded data removed]",
      "text/plain": [
       "<Figure size 432x288 with 1 Axes>"
      ]
     },
     "metadata": {
      "needs_background": "light"
     },
     "output_type": "display_data"
    }
   ],
   "source": [
    "plot_ht = plt.hist(ht, bins=30, alpha=0.7, label=\"Histogram 1\")\n",
    "plot_ht_2 = plt.hist(ht_2, bins=30, alpha=0.4, label=\"Histogram 2\")\n",
    "plt.legend()\n",
    "\n",
    "new_x = align_hist(plot_ht, plot_ht_2, 30)"
   ]
  },
  {
   "cell_type": "code",
   "execution_count": 4,
   "id": "e0f21fdd",
   "metadata": {},
   "outputs": [
    {
     "data": {
      "image/png": "[encoded data removed]",
      "text/plain": [
       "<Figure size 432x288 with 1 Axes>"
      ]
     },
     "metadata": {
      "needs_background": "light"
     },
     "output_type": "display_data"
    }
   ],
   "source": [
    "plot_ht = plt.hist(ht, bins=new_x, alpha=0.7, label=\"Histogram 1\")\n",
    "plot_ht_2 = plt.hist(ht_2, bins=new_x, alpha=0.4, label=\"Histogram 2\")\n",
    "\n",
    "new_new_x = norm_hist(plot_ht[0], new_x)"
   ]
  },
  {
   "cell_type": "code",
   "execution_count": 5,
   "id": "d4ae003b",
   "metadata": {},
   "outputs": [
    {
     "data": {
      "image/png": "[encoded data removed]",
      "text/plain": [
       "<Figure size 432x288 with 1 Axes>"
      ]
     },
     "metadata": {
      "needs_background": "light"
     },
     "output_type": "display_data"
    }
   ],
   "source": [
    "plot_ht = plt.hist(ht, bins=new_new_x, alpha=0.7, label=\"Histogram 1\")\n",
    "plot_ht_2 = plt.hist(ht_2, bins=new_new_x, alpha=0.4, label=\"Histogram 2\")"
   ]
  },
  {
   "cell_type": "code",
   "execution_count": 6,
   "id": "50b6d198",
   "metadata": {},
   "outputs": [
    {
     "data": {
      "text/plain": [
       "37.44695545925187"
      ]
     },
     "execution_count": 6,
     "metadata": {},
     "output_type": "execute_result"
    }
   ],
   "source": [
    "h1 = plot_ht[0]; h2 = plot_ht_2[0]\n",
    "\n",
    "chi_squared(h1, h2)"
   ]
  }
 ],
 "metadata": {
  "kernelspec": {
   "display_name": "Python 3 (ipykernel)",
   "language": "python",
   "name": "python3"
  },
  "language_info": {
   "codemirror_mode": {
    "name": "ipython",
    "version": 3
   },
   "file_extension": ".py",
   "mimetype": "text/x-python",
   "name": "python",
   "nbconvert_exporter": "python",
   "pygments_lexer": "ipython3",
   "version": "3.9.7"
  }
 },
 "nbformat": 4,
 "nbformat_minor": 5
}
