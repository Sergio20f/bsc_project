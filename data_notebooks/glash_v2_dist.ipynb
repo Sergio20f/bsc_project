{
 "cells": [
  {
   "cell_type": "code",
   "execution_count": 1,
   "id": "1d353efd",
   "metadata": {},
   "outputs": [
    {
     "name": "stderr",
     "output_type": "stream",
     "text": [
      "2022-04-17 15:34:23.864361: I tensorflow/stream_executor/platform/default/dso_loader.cc:49] Successfully opened dynamic library libcudart.so.10.1\n"
     ]
    }
   ],
   "source": [
    "import numpy as np\n",
    "import matplotlib.pyplot as plt\n",
    "import pandas as pd\n",
    "import sys\n",
    "import tensorflow as tf\n",
    "import cv2\n",
    "import os\n",
    "\n",
    "os.environ['TF_CPP_MIN_LOG_LEVEL'] = '3'  # or any {'0', '1', '2'}\n",
    "sys.path.append('../')\n",
    "tf.random.set_seed(42)\n",
    "\n",
    "from helpers import *\n",
    "#from glash_v2 import glash_discriminator, glash_generator, Glash"
   ]
  },
  {
   "cell_type": "code",
   "execution_count": 2,
   "id": "56c68650",
   "metadata": {},
   "outputs": [],
   "source": [
    "def glash_discriminator(n=2, act_fun_1=tf.keras.activations.relu):\n",
    "    \"\"\"\n",
    "    Discriminator network side of the GAN. It consists of a sequence of fully connected dense layers that output a\n",
    "    probability of the input being real (1) or fake (0). It aims to distinguish between real and fake distributions\n",
    "    (generation samples from the generative network).\n",
    "\n",
    "    Arguments:\n",
    "        - n: number of samples it takes as an input in 1D\n",
    "    \"\"\"\n",
    "    model = tf.keras.Sequential([\n",
    "        tf.keras.layers.Input(shape=(n,)),\n",
    "        tf.keras.layers.Dense(15, activation=act_fun_1,\n",
    "                              kernel_initializer='he_uniform'),\n",
    "        tf.keras.layers.Dense(10, activation=act_fun_1,\n",
    "                              kernel_initializer='he_uniform'),\n",
    "        #tf.keras.layers.Dense(50, activation=act_fun_1,\n",
    "        #                     kernel_initializer='he_uniform'),\n",
    "        tf.keras.layers.Dense(1, activation='sigmoid')\n",
    "    ], name='glash_discriminator')\n",
    "\n",
    "    return model\n",
    "    \n",
    "\n",
    "def glash_generator(latent_dim=5, act_fun_1=tf.keras.activations.relu, act_fun_2=tf.keras.activations.relu):\n",
    "    \"\"\"\n",
    "    Generative network component of the GAN. It consists of a sequence of fully connected dense layers that output a\n",
    "    newly generated distribution. It aims to generate a distribution that is close to the input distribution improving\n",
    "    its weights and biases until the discriminator network is no longer able to recognise fake from real data.\n",
    "\n",
    "    Arguments:\n",
    "        - latent_dim: number of dimensions of the latent space\n",
    "    \"\"\"\n",
    "    model = tf.keras.Sequential([\n",
    "        tf.keras.layers.Input(shape=(latent_dim,)),\n",
    "        tf.keras.layers.Dense(15, activation=act_fun_1,\n",
    "                              kernel_initializer='he_uniform'),\n",
    "        tf.keras.layers.Dense(10, activation=act_fun_1,\n",
    "                             kernel_initializer='he_uniform'),\n",
    "        tf.keras.layers.Dense(2, activation=act_fun_2) # Test different activation functions for different shapes\n",
    "    ], name='glash_generator')\n",
    "\n",
    "    return model\n",
    "\n",
    "\n",
    "class Glash(tf.keras.Model):\n",
    "\n",
    "    def __init__(self, discriminator, generator, latent_dim=5):\n",
    "        super(Glash, self).__init__()\n",
    "        self.discriminator = discriminator\n",
    "        self.generator = generator\n",
    "        self.latent_dim = latent_dim\n",
    "\n",
    "    def compile(self, optimizerD, optimizerG, loss_fn, loss_fn_2):\n",
    "        super(Glash, self).compile()\n",
    "        self.optimizerD = optimizerD\n",
    "        self.optimizerG = optimizerG\n",
    "        self.loss_fn = loss_fn\n",
    "        self.loss_fn_2 = loss_fn_2\n",
    "\n",
    "    def train_step(self, real_data):\n",
    "        if isinstance(real_data, tuple):\n",
    "            real_data = real_data[0]\n",
    "\n",
    "        # Generate fake data with the appropriate shape and batch size\n",
    "        batch_size = tf.shape(real_data)[0]\n",
    "        noise = tf.random.normal(shape=(batch_size, self.latent_dim))\n",
    "        fake_data = self.generator(noise)\n",
    "\n",
    "        # Combine real and fake data for training the discriminator\n",
    "        combined_data = tf.concat([real_data, fake_data], axis=0)\n",
    "        labels = tf.concat([tf.ones((batch_size, 1)), tf.zeros((batch_size, 1))], axis=0)\n",
    "\n",
    "        # Training the discriminator\n",
    "        with tf.GradientTape() as tape:\n",
    "            predictions = self.discriminator(combined_data)\n",
    "            d_loss = self.loss_fn(labels, predictions)\n",
    "\n",
    "        # Update the weights of the discriminator\n",
    "        grads = tape.gradient(d_loss, self.discriminator.trainable_weights)\n",
    "        self.optimizerD.apply_gradients(zip(grads, self.discriminator.trainable_weights))\n",
    "\n",
    "        # Generate fake labels to train the generator\n",
    "        misleading_labels = tf.ones((batch_size, 1))\n",
    "        noise = tf.random.normal(shape=(batch_size, self.latent_dim))\n",
    "\n",
    "        # Training the generator\n",
    "        with tf.GradientTape() as tape:\n",
    "            fake_predictions = self.discriminator(self.generator(noise))\n",
    "            g_loss = self.loss_fn_2(misleading_labels, fake_predictions)\n",
    "\n",
    "        # Update the weights of the generator\n",
    "        grads = tape.gradient(g_loss, self.generator.trainable_weights)\n",
    "        self.optimizerG.apply_gradients(zip(grads, self.generator.trainable_weights))\n",
    "\n",
    "        return {'d_loss': d_loss, 'g_loss': g_loss, 'fake_pred': fake_predictions}\n",
    "    \n",
    "    def call(self, noise):\n",
    "        return self.generator(noise)"
   ]
  },
  {
   "cell_type": "code",
   "execution_count": 3,
   "id": "4202d56d",
   "metadata": {},
   "outputs": [],
   "source": [
    "mean = (1, 1)\n",
    "cov = [[0.5, 0], [0, 0.5]] # Should be symmetric\n",
    "x = np.random.multivariate_normal(mean, cov, 4000).astype('float32')"
   ]
  },
  {
   "cell_type": "code",
   "execution_count": 4,
   "id": "274e06ab",
   "metadata": {
    "scrolled": true
   },
   "outputs": [
    {
     "data": {
      "text/plain": [
       "(array([[ 0.,  0.,  0.,  0.,  0.,  0.,  0.,  0.,  1.,  0.,  0.,  0.,  0.,\n",
       "          1.,  0.,  0.,  0.,  0.,  0.,  0.,  0.,  0.,  0.,  0.,  0.],\n",
       "        [ 0.,  0.,  0.,  0.,  0.,  0.,  0.,  0.,  0.,  0.,  0.,  0.,  0.,\n",
       "          0.,  0.,  0.,  0.,  1.,  0.,  0.,  0.,  0.,  0.,  0.,  0.],\n",
       "        [ 0.,  0.,  0.,  0.,  0.,  0.,  0.,  1.,  1.,  1.,  1.,  1.,  1.,\n",
       "          3.,  0.,  1.,  1.,  1.,  1.,  0.,  0.,  0.,  0.,  0.,  0.],\n",
       "        [ 0.,  0.,  0.,  0.,  0.,  0.,  0.,  0.,  0.,  1.,  1.,  0.,  1.,\n",
       "          4.,  5.,  2.,  3.,  0.,  0.,  0.,  0.,  0.,  0.,  0.,  0.],\n",
       "        [ 0.,  0.,  0.,  0.,  1.,  0.,  0.,  0.,  0.,  1.,  4.,  2.,  1.,\n",
       "          4.,  5.,  1.,  2.,  1.,  1.,  2.,  0.,  0.,  0.,  0.,  0.],\n",
       "        [ 0.,  0.,  0.,  1.,  1.,  0.,  0.,  4.,  5.,  3.,  7.,  3.,  3.,\n",
       "         10.,  7.,  9.,  5.,  5.,  2.,  4.,  1.,  0.,  0.,  0.,  0.],\n",
       "        [ 0.,  0.,  0.,  0.,  0.,  0.,  0.,  3.,  1.,  7.,  5., 10., 17.,\n",
       "         12., 15., 16.,  7., 10.,  3.,  3.,  0.,  2.,  0.,  1.,  0.],\n",
       "        [ 0.,  0.,  0.,  0.,  0.,  0.,  0.,  3.,  6.,  9., 13., 15., 16.,\n",
       "         17., 20., 12., 10.,  8.,  9.,  3.,  2.,  1.,  0.,  0.,  0.],\n",
       "        [ 0.,  0.,  0.,  0.,  0.,  2.,  4.,  9., 12., 13., 27., 15., 24.,\n",
       "         15., 21., 32., 14., 10.,  7.,  7.,  6.,  0.,  0.,  1.,  0.],\n",
       "        [ 0.,  0.,  0.,  0.,  1.,  2.,  2.,  8.,  7., 12., 24., 37., 35.,\n",
       "         38., 42., 24., 24., 20.,  7.,  6.,  4.,  2.,  0.,  1.,  0.],\n",
       "        [ 0.,  0.,  0.,  0.,  0.,  1.,  4.,  5., 17., 19., 28., 42., 51.,\n",
       "         50., 32., 30., 30., 24., 13.,  8.,  4.,  2.,  1.,  0.,  0.],\n",
       "        [ 0.,  0.,  0.,  0.,  0.,  5.,  7.,  5., 18., 31., 26., 39., 46.,\n",
       "         59., 48., 58., 39., 18., 19., 12.,  7.,  2.,  0.,  0.,  0.],\n",
       "        [ 0.,  0.,  0.,  0.,  1.,  3.,  7.,  7., 16., 24., 33., 49., 41.,\n",
       "         55., 50., 41., 43., 23., 19., 11.,  4.,  1.,  0.,  1.,  0.],\n",
       "        [ 2.,  0.,  0.,  0.,  2.,  3.,  9.,  9., 19., 22., 21., 39., 42.,\n",
       "         60., 50., 50., 47., 28., 13.,  9.,  6.,  3.,  1.,  0.,  1.],\n",
       "        [ 0.,  0.,  0.,  0.,  2.,  2.,  6., 11., 13., 20., 30., 37., 35.,\n",
       "         42., 51., 56., 42., 15., 13.,  8.,  2.,  4.,  1.,  0.,  1.],\n",
       "        [ 0.,  0.,  1.,  0.,  2.,  2.,  3.,  7., 20., 18., 24., 30., 41.,\n",
       "         40., 35., 20., 36., 27., 12.,  8.,  6.,  2.,  1.,  0.,  0.],\n",
       "        [ 0.,  0.,  0.,  1.,  0.,  0.,  2.,  2., 11.,  6., 16., 30., 40.,\n",
       "         34., 21., 24., 23., 16., 12.,  7.,  5.,  5.,  0.,  1.,  0.],\n",
       "        [ 0.,  1.,  0.,  0.,  0.,  1.,  2.,  2.,  4.,  6., 25., 22., 26.,\n",
       "         15., 16., 14., 19., 12.,  5.,  3.,  0.,  0.,  0.,  0.,  0.],\n",
       "        [ 0.,  0.,  0.,  0.,  0.,  1.,  2.,  1.,  5.,  7., 12., 13., 18.,\n",
       "          5., 21., 18., 11.,  8.,  3.,  2.,  1.,  0.,  1.,  0.,  0.],\n",
       "        [ 0.,  0.,  0.,  0.,  0.,  0.,  2.,  0.,  4.,  3.,  7., 11.,  8.,\n",
       "          5.,  6.,  6.,  3.,  5.,  4.,  0.,  2.,  1.,  1.,  0.,  0.],\n",
       "        [ 0.,  0.,  0.,  0.,  0.,  0.,  2.,  3.,  1.,  4.,  1.,  2.,  2.,\n",
       "          1.,  5.,  2.,  5.,  1.,  1.,  0.,  0.,  0.,  0.,  0.,  0.],\n",
       "        [ 0.,  0.,  0.,  0.,  0.,  0.,  0.,  2.,  0.,  2.,  2.,  5.,  3.,\n",
       "          1.,  8.,  5.,  1.,  1.,  2.,  0.,  0.,  0.,  0.,  0.,  0.],\n",
       "        [ 0.,  0.,  0.,  0.,  0.,  0.,  1.,  0.,  0.,  0.,  1.,  2.,  0.,\n",
       "          1.,  2.,  2.,  2.,  1.,  0.,  0.,  0.,  0.,  0.,  0.,  0.],\n",
       "        [ 0.,  0.,  0.,  0.,  0.,  0.,  0.,  0.,  0.,  0.,  0.,  0.,  1.,\n",
       "          0.,  1.,  1.,  3.,  0.,  0.,  0.,  0.,  0.,  0.,  0.,  0.],\n",
       "        [ 0.,  0.,  0.,  0.,  0.,  0.,  0.,  0.,  0.,  0.,  0.,  0.,  0.,\n",
       "          1.,  2.,  0.,  1.,  0.,  0.,  0.,  0.,  0.,  0.,  0.,  0.]]),\n",
       " array([-1.52262378, -1.32479455, -1.12696532, -0.9291361 , -0.73130687,\n",
       "        -0.53347764, -0.33564841, -0.13781919,  0.06001004,  0.25783927,\n",
       "         0.4556685 ,  0.65349772,  0.85132695,  1.04915618,  1.24698541,\n",
       "         1.44481463,  1.64264386,  1.84047309,  2.03830232,  2.23613154,\n",
       "         2.43396077,  2.63179   ,  2.82961923,  3.02744845,  3.22527768,\n",
       "         3.42310691]),\n",
       " array([-1.95500517e+00, -1.73760159e+00, -1.52019802e+00, -1.30279445e+00,\n",
       "        -1.08539087e+00, -8.67987299e-01, -6.50583725e-01, -4.33180151e-01,\n",
       "        -2.15776577e-01,  1.62699699e-03,  2.19030571e-01,  4.36434145e-01,\n",
       "         6.53837719e-01,  8.71241293e-01,  1.08864487e+00,  1.30604844e+00,\n",
       "         1.52345201e+00,  1.74085559e+00,  1.95825916e+00,  2.17566274e+00,\n",
       "         2.39306631e+00,  2.61046988e+00,  2.82787346e+00,  3.04527703e+00,\n",
       "         3.26268061e+00,  3.48008418e+00]),\n",
       " <matplotlib.collections.QuadMesh at 0x7f8c35eaa7f0>)"
      ]
     },
     "execution_count": 4,
     "metadata": {},
     "output_type": "execute_result"
    },
    {
     "data": {
      "image/png": "[encoded data removed]",
      "text/plain": [
       "<Figure size 432x288 with 1 Axes>"
      ]
     },
     "metadata": {
      "needs_background": "light"
     },
     "output_type": "display_data"
    }
   ],
   "source": [
    "plt.hist2d(x[:, :1].reshape(4000,), x[:, 1:2].reshape(4000,), bins=25)"
   ]
  },
  {
   "cell_type": "code",
   "execution_count": 5,
   "id": "c9066aed",
   "metadata": {
    "scrolled": true
   },
   "outputs": [
    {
     "name": "stderr",
     "output_type": "stream",
     "text": [
      "2022-04-17 15:34:25.357868: I tensorflow/compiler/jit/xla_cpu_device.cc:41] Not creating XLA devices, tf_xla_enable_xla_devices not set\n",
      "2022-04-17 15:34:25.360617: I tensorflow/stream_executor/platform/default/dso_loader.cc:49] Successfully opened dynamic library libcuda.so.1\n",
      "2022-04-17 15:34:25.443179: I tensorflow/stream_executor/cuda/cuda_gpu_executor.cc:941] successful NUMA node read from SysFS had negative value (-1), but there must be at least one NUMA node, so returning NUMA node zero\n",
      "2022-04-17 15:34:25.443513: I tensorflow/core/common_runtime/gpu/gpu_device.cc:1720] Found device 0 with properties: \n",
      "pciBusID: 0000:01:00.0 name: NVIDIA GeForce RTX 2060 computeCapability: 7.5\n",
      "coreClock: 1.2GHz coreCount: 30 deviceMemorySize: 5.79GiB deviceMemoryBandwidth: 312.97GiB/s\n",
      "2022-04-17 15:34:25.443564: I tensorflow/stream_executor/platform/default/dso_loader.cc:49] Successfully opened dynamic library libcudart.so.10.1\n",
      "2022-04-17 15:34:25.446123: I tensorflow/stream_executor/platform/default/dso_loader.cc:49] Successfully opened dynamic library libcublas.so.10\n",
      "2022-04-17 15:34:25.446203: I tensorflow/stream_executor/platform/default/dso_loader.cc:49] Successfully opened dynamic library libcublasLt.so.10\n",
      "2022-04-17 15:34:25.448761: I tensorflow/stream_executor/platform/default/dso_loader.cc:49] Successfully opened dynamic library libcufft.so.10\n",
      "2022-04-17 15:34:25.449354: I tensorflow/stream_executor/platform/default/dso_loader.cc:49] Successfully opened dynamic library libcurand.so.10\n",
      "2022-04-17 15:34:25.451532: I tensorflow/stream_executor/platform/default/dso_loader.cc:49] Successfully opened dynamic library libcusolver.so.10\n",
      "2022-04-17 15:34:25.452786: I tensorflow/stream_executor/platform/default/dso_loader.cc:49] Successfully opened dynamic library libcusparse.so.10\n",
      "2022-04-17 15:34:25.457690: I tensorflow/stream_executor/platform/default/dso_loader.cc:49] Successfully opened dynamic library libcudnn.so.7\n",
      "2022-04-17 15:34:25.457858: I tensorflow/stream_executor/cuda/cuda_gpu_executor.cc:941] successful NUMA node read from SysFS had negative value (-1), but there must be at least one NUMA node, so returning NUMA node zero\n",
      "2022-04-17 15:34:25.458098: I tensorflow/stream_executor/cuda/cuda_gpu_executor.cc:941] successful NUMA node read from SysFS had negative value (-1), but there must be at least one NUMA node, so returning NUMA node zero\n",
      "2022-04-17 15:34:25.458237: I tensorflow/core/common_runtime/gpu/gpu_device.cc:1862] Adding visible gpu devices: 0\n",
      "2022-04-17 15:34:25.458731: I tensorflow/core/platform/cpu_feature_guard.cc:142] This TensorFlow binary is optimized with oneAPI Deep Neural Network Library (oneDNN) to use the following CPU instructions in performance-critical operations:  SSE4.1 SSE4.2 AVX AVX2 FMA\n",
      "To enable them in other operations, rebuild TensorFlow with the appropriate compiler flags.\n",
      "2022-04-17 15:34:25.459649: I tensorflow/stream_executor/cuda/cuda_gpu_executor.cc:941] successful NUMA node read from SysFS had negative value (-1), but there must be at least one NUMA node, so returning NUMA node zero\n",
      "2022-04-17 15:34:25.459791: I tensorflow/core/common_runtime/gpu/gpu_device.cc:1720] Found device 0 with properties: \n",
      "pciBusID: 0000:01:00.0 name: NVIDIA GeForce RTX 2060 computeCapability: 7.5\n",
      "coreClock: 1.2GHz coreCount: 30 deviceMemorySize: 5.79GiB deviceMemoryBandwidth: 312.97GiB/s\n",
      "2022-04-17 15:34:25.459822: I tensorflow/stream_executor/platform/default/dso_loader.cc:49] Successfully opened dynamic library libcudart.so.10.1\n",
      "2022-04-17 15:34:25.459846: I tensorflow/stream_executor/platform/default/dso_loader.cc:49] Successfully opened dynamic library libcublas.so.10\n",
      "2022-04-17 15:34:25.459864: I tensorflow/stream_executor/platform/default/dso_loader.cc:49] Successfully opened dynamic library libcublasLt.so.10\n",
      "2022-04-17 15:34:25.459880: I tensorflow/stream_executor/platform/default/dso_loader.cc:49] Successfully opened dynamic library libcufft.so.10\n",
      "2022-04-17 15:34:25.459896: I tensorflow/stream_executor/platform/default/dso_loader.cc:49] Successfully opened dynamic library libcurand.so.10\n",
      "2022-04-17 15:34:25.459912: I tensorflow/stream_executor/platform/default/dso_loader.cc:49] Successfully opened dynamic library libcusolver.so.10\n",
      "2022-04-17 15:34:25.459928: I tensorflow/stream_executor/platform/default/dso_loader.cc:49] Successfully opened dynamic library libcusparse.so.10\n",
      "2022-04-17 15:34:25.459946: I tensorflow/stream_executor/platform/default/dso_loader.cc:49] Successfully opened dynamic library libcudnn.so.7\n",
      "2022-04-17 15:34:25.460003: I tensorflow/stream_executor/cuda/cuda_gpu_executor.cc:941] successful NUMA node read from SysFS had negative value (-1), but there must be at least one NUMA node, so returning NUMA node zero\n",
      "2022-04-17 15:34:25.460203: I tensorflow/stream_executor/cuda/cuda_gpu_executor.cc:941] successful NUMA node read from SysFS had negative value (-1), but there must be at least one NUMA node, so returning NUMA node zero\n",
      "2022-04-17 15:34:25.460316: I tensorflow/core/common_runtime/gpu/gpu_device.cc:1862] Adding visible gpu devices: 0\n",
      "2022-04-17 15:34:25.460349: I tensorflow/stream_executor/platform/default/dso_loader.cc:49] Successfully opened dynamic library libcudart.so.10.1\n",
      "2022-04-17 15:34:25.882274: I tensorflow/core/common_runtime/gpu/gpu_device.cc:1261] Device interconnect StreamExecutor with strength 1 edge matrix:\n",
      "2022-04-17 15:34:25.882295: I tensorflow/core/common_runtime/gpu/gpu_device.cc:1267]      0 \n",
      "2022-04-17 15:34:25.882300: I tensorflow/core/common_runtime/gpu/gpu_device.cc:1280] 0:   N \n",
      "2022-04-17 15:34:25.882462: I tensorflow/stream_executor/cuda/cuda_gpu_executor.cc:941] successful NUMA node read from SysFS had negative value (-1), but there must be at least one NUMA node, so returning NUMA node zero\n",
      "2022-04-17 15:34:25.882618: I tensorflow/stream_executor/cuda/cuda_gpu_executor.cc:941] successful NUMA node read from SysFS had negative value (-1), but there must be at least one NUMA node, so returning NUMA node zero\n",
      "2022-04-17 15:34:25.882741: I tensorflow/stream_executor/cuda/cuda_gpu_executor.cc:941] successful NUMA node read from SysFS had negative value (-1), but there must be at least one NUMA node, so returning NUMA node zero\n",
      "2022-04-17 15:34:25.882841: I tensorflow/core/common_runtime/gpu/gpu_device.cc:1406] Created TensorFlow device (/job:localhost/replica:0/task:0/device:GPU:0 with 4972 MB memory) -> physical GPU (device: 0, name: NVIDIA GeForce RTX 2060, pci bus id: 0000:01:00.0, compute capability: 7.5)\n",
      "2022-04-17 15:34:25.883053: I tensorflow/compiler/jit/xla_gpu_device.cc:99] Not creating XLA devices, tf_xla_enable_xla_devices not set\n"
     ]
    }
   ],
   "source": [
    "train_data = tf.data.Dataset.from_tensor_slices(x)\n",
    "train_data = train_data.batch(32).prefetch(32)"
   ]
  },
  {
   "cell_type": "code",
   "execution_count": 6,
   "id": "d5e69c9d",
   "metadata": {},
   "outputs": [],
   "source": [
    "glash = Glash(glash_discriminator(), glash_generator())\n",
    "glash.compile(\n",
    "    tf.keras.optimizers.Adam(),\n",
    "    tf.keras.optimizers.Adam(),\n",
    "    tf.keras.losses.BinaryCrossentropy(from_logits=True), # discriminator\n",
    "    tf.keras.losses.BinaryCrossentropy(from_logits=True)\n",
    "    #tf.keras.losses.mean_squared_error # generator\n",
    ")"
   ]
  },
  {
   "cell_type": "code",
   "execution_count": 7,
   "id": "d83e5712",
   "metadata": {
    "scrolled": true
   },
   "outputs": [
    {
     "name": "stderr",
     "output_type": "stream",
     "text": [
      "2022-04-17 15:34:26.540088: I tensorflow/compiler/mlir/mlir_graph_optimization_pass.cc:116] None of the MLIR optimization passes are enabled (registered 2)\n",
      "2022-04-17 15:34:26.560320: I tensorflow/core/platform/profile_utils/cpu_utils.cc:112] CPU Frequency: 2199995000 Hz\n",
      "2022-04-17 15:34:26.657391: I tensorflow/stream_executor/platform/default/dso_loader.cc:49] Successfully opened dynamic library libcublas.so.10\n"
     ]
    }
   ],
   "source": [
    "generated_point_list = []\n",
    "\n",
    "cbk = tf.keras.callbacks.LambdaCallback(on_epoch_end=lambda epoch, logs: show_samples(generated_point_list, epoch, glash.generator, x))\n",
    "\n",
    "history = glash.fit(train_data, epochs=1000, callbacks=[cbk], verbose=False)"
   ]
  },
  {
   "cell_type": "code",
   "execution_count": 8,
   "id": "45c5c256",
   "metadata": {
    "scrolled": true
   },
   "outputs": [
    {
     "data": {
      "text/plain": [
       "<matplotlib.legend.Legend at 0x7f8c20369310>"
      ]
     },
     "execution_count": 8,
     "metadata": {},
     "output_type": "execute_result"
    },
    {
     "data": {
      "image/png": "[encoded data removed]",
      "text/plain": [
       "<Figure size 432x288 with 1 Axes>"
      ]
     },
     "metadata": {
      "needs_background": "light"
     },
     "output_type": "display_data"
    }
   ],
   "source": [
    "plt.plot(history.history['d_loss'], color='blue', label='discriminator loss')\n",
    "line = plt.plot(history.history['g_loss'], color='red')\n",
    "line[0].set_label(\"generator loss\")\n",
    "\n",
    "plt.xlabel('Epochs')\n",
    "plt.ylabel('Losses')\n",
    "plt.legend()"
   ]
  },
  {
   "cell_type": "raw",
   "id": "4793e20a",
   "metadata": {},
   "source": [
    "plt.plot(history.history['d_loss'][3800:], color='blue', label='discriminator loss')\n",
    "line = plt.plot(history.history['g_loss'][3800:], color='red')\n",
    "line[0].set_label(\"generator loss\")\n",
    "\n",
    "plt.xlabel('Epochs')\n",
    "plt.ylabel('Losses')\n",
    "plt.legend()"
   ]
  },
  {
   "cell_type": "code",
   "execution_count": 9,
   "id": "6a52ced0",
   "metadata": {},
   "outputs": [
    {
     "data": {
      "text/plain": [
       "(4000, 2)"
      ]
     },
     "execution_count": 9,
     "metadata": {},
     "output_type": "execute_result"
    }
   ],
   "source": [
    "noise = toy_data(4000, 0, 1).astype('float32')\n",
    "noise.shape"
   ]
  },
  {
   "cell_type": "code",
   "execution_count": 10,
   "id": "b25bd722",
   "metadata": {},
   "outputs": [
    {
     "data": {
      "text/plain": [
       "array([[0.90850245, 0.89085048, 0.39226937, 0.11528184, 0.58581947],\n",
       "       [0.36154765, 0.86974602, 0.61867056, 0.88452091, 0.67351491],\n",
       "       [0.61295679, 0.48668265, 0.28461306, 0.63396339, 0.81691398],\n",
       "       ...,\n",
       "       [0.05508195, 0.43413823, 0.33264023, 0.51005586, 0.40065885],\n",
       "       [0.98484968, 0.04543734, 0.01486199, 0.96796996, 0.36923754],\n",
       "       [0.57917298, 0.15985018, 0.59165934, 0.27012546, 0.84722295]])"
      ]
     },
     "execution_count": 10,
     "metadata": {},
     "output_type": "execute_result"
    }
   ],
   "source": [
    "np.random.uniform(0,1,(4000,5))"
   ]
  },
  {
   "cell_type": "code",
   "execution_count": 11,
   "id": "b377de56",
   "metadata": {
    "scrolled": true
   },
   "outputs": [
    {
     "data": {
      "text/plain": [
       "(array([[ 0.,  0.,  0.,  0.,  4.,  0.,  0.,  0.,  0.,  0.,  0.,  0.,  0.,\n",
       "          0.,  0.,  0.,  0.,  0.,  0.,  0.,  0.,  0.,  0.,  0.,  0.],\n",
       "        [ 0.,  0.,  0.,  2., 65.,  5.,  2.,  0.,  0.,  0.,  0.,  0.,  0.,\n",
       "          0.,  0.,  0.,  0.,  0.,  0.,  0.,  0.,  0.,  0.,  0.,  0.],\n",
       "        [ 0.,  0.,  0., 53., 38., 14.,  4.,  1.,  0.,  0.,  0.,  0.,  0.,\n",
       "          0.,  0.,  0.,  0.,  0.,  0.,  0.,  0.,  0.,  0.,  0.,  0.],\n",
       "        [ 0.,  0.,  0., 76., 56., 36., 17., 17.,  2.,  0.,  0.,  0.,  0.,\n",
       "          0.,  0.,  0.,  0.,  0.,  0.,  0.,  0.,  0.,  0.,  0.,  0.],\n",
       "        [ 0.,  0.,  0., 80., 52., 42., 29., 23.,  9.,  3.,  1.,  0.,  0.,\n",
       "          0.,  0.,  0.,  0.,  0.,  0.,  0.,  0.,  0.,  0.,  0.,  0.],\n",
       "        [ 0.,  0., 15., 68., 56., 58., 40., 33., 29.,  7.,  2.,  1.,  0.,\n",
       "          0.,  0.,  0.,  0.,  0.,  0.,  0.,  0.,  0.,  0.,  0.,  0.],\n",
       "        [ 0.,  0., 30., 53., 54., 64., 36., 47., 34., 14., 10.,  4.,  0.,\n",
       "          0.,  0.,  0.,  0.,  0.,  0.,  0.,  0.,  0.,  0.,  0.,  0.],\n",
       "        [ 0.,  0., 26., 42., 51., 65., 65., 46., 40., 23., 13.,  5.,  5.,\n",
       "          2.,  2.,  0.,  0.,  0.,  0.,  0.,  0.,  0.,  0.,  0.,  0.],\n",
       "        [ 0.,  1., 41., 39., 42., 53., 60., 42., 38., 19., 13.,  4.,  2.,\n",
       "          9.,  0.,  0.,  0.,  0.,  0.,  0.,  0.,  0.,  0.,  0.,  0.],\n",
       "        [ 0., 10., 35., 38., 42., 54., 70., 52., 34., 34.,  8.,  8.,  3.,\n",
       "          7.,  5.,  2.,  0.,  0.,  0.,  0.,  0.,  0.,  0.,  0.,  0.],\n",
       "        [ 5., 28., 17., 30., 36., 44., 42., 38., 28., 19., 13.,  9.,  4.,\n",
       "          5.,  2.,  3.,  1.,  0.,  0.,  0.,  0.,  0.,  0.,  0.,  0.],\n",
       "        [ 6.,  6.,  5., 15., 29., 48., 40., 41., 39., 31., 15.,  7.,  3.,\n",
       "          6.,  2.,  3.,  2.,  0.,  1.,  1.,  0.,  0.,  0.,  0.,  0.],\n",
       "        [ 1.,  2.,  3.,  8., 14., 34., 38., 34., 33., 23., 17., 10.,  4.,\n",
       "          1.,  4.,  0.,  2.,  2.,  3.,  1.,  0.,  0.,  0.,  0.,  0.],\n",
       "        [ 0.,  0.,  1.,  1.,  8., 18., 32., 22., 32., 26., 15., 10.,  8.,\n",
       "          5.,  5.,  0.,  4.,  0.,  0.,  0.,  0.,  1.,  0.,  0.,  0.],\n",
       "        [ 0.,  0.,  1.,  2.,  3.,  9., 14., 28., 24., 18., 14.,  9.,  5.,\n",
       "          6.,  2.,  2.,  3.,  2.,  0.,  0.,  0.,  1.,  0.,  0.,  0.],\n",
       "        [ 0.,  0.,  0.,  1.,  4., 10.,  9., 10., 15., 15., 10.,  5.,  5.,\n",
       "          3.,  2.,  5.,  3.,  2.,  1.,  2.,  0.,  0.,  0.,  0.,  0.],\n",
       "        [ 0.,  0.,  0.,  0.,  0.,  3.,  1., 10., 10., 12., 14., 14.,  7.,\n",
       "          5.,  1.,  2.,  1.,  2.,  2.,  0.,  0.,  0.,  0.,  0.,  0.],\n",
       "        [ 0.,  0.,  0.,  0.,  0.,  0.,  0.,  3.,  7.,  7., 10.,  5.,  7.,\n",
       "          8.,  4.,  2.,  0.,  4.,  2.,  0.,  0.,  0.,  0.,  0.,  0.],\n",
       "        [ 0.,  0.,  0.,  0.,  0.,  0.,  0.,  0.,  6.,  7.,  7.,  7.,  7.,\n",
       "          3.,  3.,  4.,  2.,  1.,  2.,  0.,  0.,  0.,  0.,  0.,  0.],\n",
       "        [ 0.,  0.,  0.,  0.,  0.,  0.,  1.,  0.,  0.,  4.,  4.,  3.,  3.,\n",
       "          1.,  1.,  2.,  1.,  0.,  0.,  0.,  1.,  0.,  0.,  0.,  0.],\n",
       "        [ 0.,  0.,  0.,  0.,  0.,  0.,  0.,  0.,  1.,  0.,  6.,  1.,  1.,\n",
       "          3.,  1.,  0.,  3.,  1.,  1.,  0.,  0.,  0.,  0.,  0.,  0.],\n",
       "        [ 0.,  0.,  0.,  0.,  0.,  0.,  0.,  0.,  0.,  0.,  2.,  5.,  3.,\n",
       "          2.,  1.,  1.,  0.,  3.,  1.,  1.,  0.,  1.,  0.,  0.,  0.],\n",
       "        [ 0.,  0.,  0.,  0.,  0.,  0.,  0.,  0.,  0.,  0.,  0.,  3.,  1.,\n",
       "          3.,  0.,  1.,  0.,  0.,  0.,  0.,  1.,  0.,  0.,  0.,  0.],\n",
       "        [ 0.,  0.,  0.,  0.,  0.,  0.,  0.,  0.,  0.,  0.,  0.,  1.,  1.,\n",
       "          1.,  0.,  1.,  0.,  1.,  0.,  1.,  0.,  0.,  0.,  0.,  0.],\n",
       "        [ 0.,  0.,  0.,  0.,  0.,  0.,  0.,  0.,  0.,  0.,  0.,  0.,  0.,\n",
       "          2.,  1.,  0.,  1.,  1.,  1.,  0.,  0.,  0.,  0.,  0.,  1.]]),\n",
       " array([0.22572419, 0.27247814, 0.31923208, 0.36598603, 0.41273998,\n",
       "        0.45949392, 0.50624787, 0.55300182, 0.59975576, 0.64650971,\n",
       "        0.69326366, 0.7400176 , 0.78677155, 0.8335255 , 0.88027944,\n",
       "        0.92703339, 0.97378734, 1.02054128, 1.06729523, 1.11404917,\n",
       "        1.16080312, 1.20755707, 1.25431101, 1.30106496, 1.34781891,\n",
       "        1.39457285]),\n",
       " array([0.83444583, 0.96043674, 1.08642764, 1.21241854, 1.33840944,\n",
       "        1.46440034, 1.59039124, 1.71638214, 1.84237304, 1.96836394,\n",
       "        2.09435484, 2.22034575, 2.34633665, 2.47232755, 2.59831845,\n",
       "        2.72430935, 2.85030025, 2.97629115, 3.10228205, 3.22827295,\n",
       "        3.35426385, 3.48025476, 3.60624566, 3.73223656, 3.85822746,\n",
       "        3.98421836]),\n",
       " <matplotlib.collections.QuadMesh at 0x7f8c202abee0>)"
      ]
     },
     "execution_count": 11,
     "metadata": {},
     "output_type": "execute_result"
    },
    {
     "data": {
      "image/png": "[encoded data removed]",
      "text/plain": [
       "<Figure size 432x288 with 1 Axes>"
      ]
     },
     "metadata": {
      "needs_background": "light"
     },
     "output_type": "display_data"
    }
   ],
   "source": [
    "test = glash(np.random.uniform(0,1,(4000,5)))\n",
    "x_test = tf.reshape(test[:, :1], (4000,))\n",
    "y_test = tf.reshape(test[:, 1:2], (4000,))\n",
    "\n",
    "plt.hist2d(x_test, y_test, bins=25)"
   ]
  },
  {
   "cell_type": "code",
   "execution_count": 12,
   "id": "f846c605",
   "metadata": {},
   "outputs": [
    {
     "data": {
      "text/plain": [
       "<matplotlib.legend.Legend at 0x7f8c20202820>"
      ]
     },
     "execution_count": 12,
     "metadata": {},
     "output_type": "execute_result"
    },
    {
     "data": {
      "image/png": "[encoded data removed]",
      "text/plain": [
       "<Figure size 432x288 with 1 Axes>"
      ]
     },
     "metadata": {
      "needs_background": "light"
     },
     "output_type": "display_data"
    }
   ],
   "source": [
    "a = x_test.numpy()\n",
    "plt.hist(a, alpha=0.7, bins=30, label=\"Simulated Distribution x-axis\")\n",
    "plt.hist(x[:, :1].reshape(4000,), alpha=0.4, bins=30, label=\"Original Distribution x-axis\")\n",
    "plt.legend()\n",
    "#print(len(a), len(x[:, :1].reshape(4000,)))"
   ]
  },
  {
   "cell_type": "code",
   "execution_count": 13,
   "id": "8e710f10",
   "metadata": {
    "scrolled": true
   },
   "outputs": [
    {
     "data": {
      "text/plain": [
       "<matplotlib.legend.Legend at 0x7f8c200c0130>"
      ]
     },
     "execution_count": 13,
     "metadata": {},
     "output_type": "execute_result"
    },
    {
     "data": {
      "image/png": "[encoded data removed]",
      "text/plain": [
       "<Figure size 432x288 with 1 Axes>"
      ]
     },
     "metadata": {
      "needs_background": "light"
     },
     "output_type": "display_data"
    }
   ],
   "source": [
    "b = y_test.numpy()\n",
    "plt.hist(b, alpha=0.7, bins=30, label=\"Simulated Distribution y-axis\")\n",
    "plt.hist(x[:, 1:2].reshape(4000,), alpha=0.4, bins=30, label=\"Original Distribution y-axis\")\n",
    "plt.legend()\n",
    "#print(len(b), len(x[:, 1:2].reshape(4000,)))"
   ]
  },
  {
   "cell_type": "code",
   "execution_count": 14,
   "id": "e8990c79",
   "metadata": {
    "scrolled": true
   },
   "outputs": [
    {
     "data": {
      "text/plain": [
       "(array([[ 0.,  0.,  0.,  0.,  4.,  0.,  0.,  0.,  0.,  0.,  0.,  0.,  0.,\n",
       "          0.,  0.,  0.,  0.,  0.,  0.,  0.,  0.,  0.,  0.,  0.,  0.],\n",
       "        [ 0.,  0.,  0.,  2., 65.,  5.,  2.,  0.,  0.,  0.,  0.,  0.,  0.,\n",
       "          0.,  0.,  0.,  0.,  0.,  0.,  0.,  0.,  0.,  0.,  0.,  0.],\n",
       "        [ 0.,  0.,  0., 53., 38., 14.,  4.,  1.,  0.,  0.,  0.,  0.,  0.,\n",
       "          0.,  0.,  0.,  0.,  0.,  0.,  0.,  0.,  0.,  0.,  0.,  0.],\n",
       "        [ 0.,  0.,  0., 76., 56., 36., 17., 17.,  2.,  0.,  0.,  0.,  0.,\n",
       "          0.,  0.,  0.,  0.,  0.,  0.,  0.,  0.,  0.,  0.,  0.,  0.],\n",
       "        [ 0.,  0.,  0., 80., 52., 42., 29., 23.,  9.,  3.,  1.,  0.,  0.,\n",
       "          0.,  0.,  0.,  0.,  0.,  0.,  0.,  0.,  0.,  0.,  0.,  0.],\n",
       "        [ 0.,  0., 15., 68., 56., 58., 40., 33., 29.,  7.,  2.,  1.,  0.,\n",
       "          0.,  0.,  0.,  0.,  0.,  0.,  0.,  0.,  0.,  0.,  0.,  0.],\n",
       "        [ 0.,  0., 30., 53., 54., 64., 36., 47., 34., 14., 10.,  4.,  0.,\n",
       "          0.,  0.,  0.,  0.,  0.,  0.,  0.,  0.,  0.,  0.,  0.,  0.],\n",
       "        [ 0.,  0., 26., 42., 51., 65., 65., 46., 40., 23., 13.,  5.,  5.,\n",
       "          2.,  2.,  0.,  0.,  0.,  0.,  0.,  0.,  0.,  0.,  0.,  0.],\n",
       "        [ 0.,  1., 41., 39., 42., 53., 60., 42., 38., 19., 13.,  4.,  2.,\n",
       "          9.,  0.,  0.,  0.,  0.,  0.,  0.,  0.,  0.,  0.,  0.,  0.],\n",
       "        [ 0., 10., 35., 38., 42., 54., 70., 52., 34., 34.,  8.,  8.,  3.,\n",
       "          7.,  5.,  2.,  0.,  0.,  0.,  0.,  0.,  0.,  0.,  0.,  0.],\n",
       "        [ 5., 28., 17., 30., 36., 44., 42., 38., 28., 19., 13.,  9.,  4.,\n",
       "          5.,  2.,  3.,  1.,  0.,  0.,  0.,  0.,  0.,  0.,  0.,  0.],\n",
       "        [ 6.,  6.,  5., 15., 29., 48., 40., 41., 39., 31., 15.,  7.,  3.,\n",
       "          6.,  2.,  3.,  2.,  0.,  1.,  1.,  0.,  0.,  0.,  0.,  0.],\n",
       "        [ 1.,  2.,  3.,  8., 14., 34., 38., 34., 33., 23., 17., 10.,  4.,\n",
       "          1.,  4.,  0.,  2.,  2.,  3.,  1.,  0.,  0.,  0.,  0.,  0.],\n",
       "        [ 0.,  0.,  1.,  1.,  8., 18., 32., 22., 32., 26., 15., 10.,  8.,\n",
       "          5.,  5.,  0.,  4.,  0.,  0.,  0.,  0.,  1.,  0.,  0.,  0.],\n",
       "        [ 0.,  0.,  1.,  2.,  3.,  9., 14., 28., 24., 18., 14.,  9.,  5.,\n",
       "          6.,  2.,  2.,  3.,  2.,  0.,  0.,  0.,  1.,  0.,  0.,  0.],\n",
       "        [ 0.,  0.,  0.,  1.,  4., 10.,  9., 10., 15., 15., 10.,  5.,  5.,\n",
       "          3.,  2.,  5.,  3.,  2.,  1.,  2.,  0.,  0.,  0.,  0.,  0.],\n",
       "        [ 0.,  0.,  0.,  0.,  0.,  3.,  1., 10., 10., 12., 14., 14.,  7.,\n",
       "          5.,  1.,  2.,  1.,  2.,  2.,  0.,  0.,  0.,  0.,  0.,  0.],\n",
       "        [ 0.,  0.,  0.,  0.,  0.,  0.,  0.,  3.,  7.,  7., 10.,  5.,  7.,\n",
       "          8.,  4.,  2.,  0.,  4.,  2.,  0.,  0.,  0.,  0.,  0.,  0.],\n",
       "        [ 0.,  0.,  0.,  0.,  0.,  0.,  0.,  0.,  6.,  7.,  7.,  7.,  7.,\n",
       "          3.,  3.,  4.,  2.,  1.,  2.,  0.,  0.,  0.,  0.,  0.,  0.],\n",
       "        [ 0.,  0.,  0.,  0.,  0.,  0.,  1.,  0.,  0.,  4.,  4.,  3.,  3.,\n",
       "          1.,  1.,  2.,  1.,  0.,  0.,  0.,  1.,  0.,  0.,  0.,  0.],\n",
       "        [ 0.,  0.,  0.,  0.,  0.,  0.,  0.,  0.,  1.,  0.,  6.,  1.,  1.,\n",
       "          3.,  1.,  0.,  3.,  1.,  1.,  0.,  0.,  0.,  0.,  0.,  0.],\n",
       "        [ 0.,  0.,  0.,  0.,  0.,  0.,  0.,  0.,  0.,  0.,  2.,  5.,  3.,\n",
       "          2.,  1.,  1.,  0.,  3.,  1.,  1.,  0.,  1.,  0.,  0.,  0.],\n",
       "        [ 0.,  0.,  0.,  0.,  0.,  0.,  0.,  0.,  0.,  0.,  0.,  3.,  1.,\n",
       "          3.,  0.,  1.,  0.,  0.,  0.,  0.,  1.,  0.,  0.,  0.,  0.],\n",
       "        [ 0.,  0.,  0.,  0.,  0.,  0.,  0.,  0.,  0.,  0.,  0.,  1.,  1.,\n",
       "          1.,  0.,  1.,  0.,  1.,  0.,  1.,  0.,  0.,  0.,  0.,  0.],\n",
       "        [ 0.,  0.,  0.,  0.,  0.,  0.,  0.,  0.,  0.,  0.,  0.,  0.,  0.,\n",
       "          2.,  1.,  0.,  1.,  1.,  1.,  0.,  0.,  0.,  0.,  0.,  1.]]),\n",
       " array([0.22572419, 0.27247814, 0.31923208, 0.36598603, 0.41273998,\n",
       "        0.45949392, 0.50624787, 0.55300182, 0.59975576, 0.64650971,\n",
       "        0.69326366, 0.7400176 , 0.78677155, 0.8335255 , 0.88027944,\n",
       "        0.92703339, 0.97378734, 1.02054128, 1.06729523, 1.11404917,\n",
       "        1.16080312, 1.20755707, 1.25431101, 1.30106496, 1.34781891,\n",
       "        1.39457285]),\n",
       " array([0.83444583, 0.96043674, 1.08642764, 1.21241854, 1.33840944,\n",
       "        1.46440034, 1.59039124, 1.71638214, 1.84237304, 1.96836394,\n",
       "        2.09435484, 2.22034575, 2.34633665, 2.47232755, 2.59831845,\n",
       "        2.72430935, 2.85030025, 2.97629115, 3.10228205, 3.22827295,\n",
       "        3.35426385, 3.48025476, 3.60624566, 3.73223656, 3.85822746,\n",
       "        3.98421836]),\n",
       " <matplotlib.collections.QuadMesh at 0x7f8c20058c40>)"
      ]
     },
     "execution_count": 14,
     "metadata": {},
     "output_type": "execute_result"
    },
    {
     "data": {
      "image/png": "[encoded data removed]",
      "text/plain": [
       "<Figure size 432x288 with 1 Axes>"
      ]
     },
     "metadata": {
      "needs_background": "light"
     },
     "output_type": "display_data"
    }
   ],
   "source": [
    "plt.hist2d(a, b, bins=25)"
   ]
  },
  {
   "cell_type": "code",
   "execution_count": 15,
   "id": "59140663",
   "metadata": {},
   "outputs": [],
   "source": [
    "stats_gen_x = stats_dist(a, prnt=False)\n",
    "stats_gen_y = stats_dist(b, prnt=False)\n",
    "\n",
    "stats_or_x = stats_dist(x[:, :1].reshape(4000,), prnt=False)\n",
    "stats_or_y = stats_dist(x[:, 1:2].reshape(4000,), prnt=False)"
   ]
  },
  {
   "cell_type": "code",
   "execution_count": 16,
   "id": "8b888f18",
   "metadata": {
    "scrolled": true
   },
   "outputs": [
    {
     "data": {
      "text/html": [
       "<style  type=\"text/css\" >\n",
       "#T_1b385d6e_be5c_11ec_aee9_09a8f6eaa0fdrow0_col0,#T_1b385d6e_be5c_11ec_aee9_09a8f6eaa0fdrow1_col0,#T_1b385d6e_be5c_11ec_aee9_09a8f6eaa0fdrow2_col0,#T_1b385d6e_be5c_11ec_aee9_09a8f6eaa0fdrow3_col0{\n",
       "            font-weight:  bold;\n",
       "        }</style><table id=\"T_1b385d6e_be5c_11ec_aee9_09a8f6eaa0fd\" ><thead>    <tr>        <th class=\"blank level0\" ></th>        <th class=\"col_heading level0 col0\" > </th>        <th class=\"col_heading level0 col1\" >original_x_dim</th>        <th class=\"col_heading level0 col2\" >generated_x_dim</th>        <th class=\"col_heading level0 col3\" >original_y_dim</th>        <th class=\"col_heading level0 col4\" >generated_y_dim</th>    </tr></thead><tbody>\n",
       "                <tr>\n",
       "                        <th id=\"T_1b385d6e_be5c_11ec_aee9_09a8f6eaa0fdlevel0_row0\" class=\"row_heading level0 row0\" >0</th>\n",
       "                        <td id=\"T_1b385d6e_be5c_11ec_aee9_09a8f6eaa0fdrow0_col0\" class=\"data row0 col0\" >Mean:</td>\n",
       "                        <td id=\"T_1b385d6e_be5c_11ec_aee9_09a8f6eaa0fdrow0_col1\" class=\"data row0 col1\" >0.989357</td>\n",
       "                        <td id=\"T_1b385d6e_be5c_11ec_aee9_09a8f6eaa0fdrow0_col2\" class=\"data row0 col2\" >0.657238</td>\n",
       "                        <td id=\"T_1b385d6e_be5c_11ec_aee9_09a8f6eaa0fdrow0_col3\" class=\"data row0 col3\" >0.997451</td>\n",
       "                        <td id=\"T_1b385d6e_be5c_11ec_aee9_09a8f6eaa0fdrow0_col4\" class=\"data row0 col4\" >1.693854</td>\n",
       "            </tr>\n",
       "            <tr>\n",
       "                        <th id=\"T_1b385d6e_be5c_11ec_aee9_09a8f6eaa0fdlevel0_row1\" class=\"row_heading level0 row1\" >1</th>\n",
       "                        <td id=\"T_1b385d6e_be5c_11ec_aee9_09a8f6eaa0fdrow1_col0\" class=\"data row1 col0\" >Standard Deviation:</td>\n",
       "                        <td id=\"T_1b385d6e_be5c_11ec_aee9_09a8f6eaa0fdrow1_col1\" class=\"data row1 col1\" >0.713135</td>\n",
       "                        <td id=\"T_1b385d6e_be5c_11ec_aee9_09a8f6eaa0fdrow1_col2\" class=\"data row1 col2\" >0.196059</td>\n",
       "                        <td id=\"T_1b385d6e_be5c_11ec_aee9_09a8f6eaa0fdrow1_col3\" class=\"data row1 col3\" >0.704198</td>\n",
       "                        <td id=\"T_1b385d6e_be5c_11ec_aee9_09a8f6eaa0fdrow1_col4\" class=\"data row1 col4\" >0.400759</td>\n",
       "            </tr>\n",
       "            <tr>\n",
       "                        <th id=\"T_1b385d6e_be5c_11ec_aee9_09a8f6eaa0fdlevel0_row2\" class=\"row_heading level0 row2\" >2</th>\n",
       "                        <td id=\"T_1b385d6e_be5c_11ec_aee9_09a8f6eaa0fdrow2_col0\" class=\"data row2 col0\" > Variance:</td>\n",
       "                        <td id=\"T_1b385d6e_be5c_11ec_aee9_09a8f6eaa0fdrow2_col1\" class=\"data row2 col1\" >0.508562</td>\n",
       "                        <td id=\"T_1b385d6e_be5c_11ec_aee9_09a8f6eaa0fdrow2_col2\" class=\"data row2 col2\" >0.038439</td>\n",
       "                        <td id=\"T_1b385d6e_be5c_11ec_aee9_09a8f6eaa0fdrow2_col3\" class=\"data row2 col3\" >0.495895</td>\n",
       "                        <td id=\"T_1b385d6e_be5c_11ec_aee9_09a8f6eaa0fdrow2_col4\" class=\"data row2 col4\" >0.160608</td>\n",
       "            </tr>\n",
       "            <tr>\n",
       "                        <th id=\"T_1b385d6e_be5c_11ec_aee9_09a8f6eaa0fdlevel0_row3\" class=\"row_heading level0 row3\" >3</th>\n",
       "                        <td id=\"T_1b385d6e_be5c_11ec_aee9_09a8f6eaa0fdrow3_col0\" class=\"data row3 col0\" >Covariance:</td>\n",
       "                        <td id=\"T_1b385d6e_be5c_11ec_aee9_09a8f6eaa0fdrow3_col1\" class=\"data row3 col1\" >0.508689</td>\n",
       "                        <td id=\"T_1b385d6e_be5c_11ec_aee9_09a8f6eaa0fdrow3_col2\" class=\"data row3 col2\" >0.038449</td>\n",
       "                        <td id=\"T_1b385d6e_be5c_11ec_aee9_09a8f6eaa0fdrow3_col3\" class=\"data row3 col3\" >0.496019</td>\n",
       "                        <td id=\"T_1b385d6e_be5c_11ec_aee9_09a8f6eaa0fdrow3_col4\" class=\"data row3 col4\" >0.160648</td>\n",
       "            </tr>\n",
       "    </tbody></table>"
      ],
      "text/plain": [
       "<pandas.io.formats.style.Styler at 0x7f8bd801bf40>"
      ]
     },
     "execution_count": 16,
     "metadata": {},
     "output_type": "execute_result"
    }
   ],
   "source": [
    "stats_df = df_generator(stats_or_x,\n",
    "                        stats_gen_x,\n",
    "                        stats_or_y,\n",
    "                        stats_gen_y,\n",
    "                        np.array([\"Mean:\", \"Standard Deviation:\",\n",
    "                                  \" Variance:\", \"Covariance:\"]),\n",
    "                        df_style)\n",
    "\n",
    "stats_df"
   ]
  },
  {
   "cell_type": "code",
   "execution_count": 17,
   "id": "8f10586c",
   "metadata": {},
   "outputs": [
    {
     "data": {
      "text/plain": [
       "2280.5135550965542"
      ]
     },
     "execution_count": 17,
     "metadata": {},
     "output_type": "execute_result"
    }
   ],
   "source": [
    "# OpenCV function that compares 2 histograms, here specifically using the chi_square method to compute the distance\n",
    "cv2.compareHist(x[:, :1].reshape(4000,), a, cv2.HISTCMP_CHISQR)"
   ]
  },
  {
   "cell_type": "code",
   "execution_count": 18,
   "id": "24f5c944",
   "metadata": {},
   "outputs": [
    {
     "name": "stdout",
     "output_type": "stream",
     "text": [
      "506.16339535731396\n"
     ]
    },
    {
     "data": {
      "image/png": "[encoded data removed]",
      "text/plain": [
       "<Figure size 432x288 with 1 Axes>"
      ]
     },
     "metadata": {
      "needs_background": "light"
     },
     "output_type": "display_data"
    }
   ],
   "source": [
    "np_sample_1 = np.random.normal(stats_gen_x[0], stats_gen_x[1], 4000).astype(\"float32\")\n",
    "\n",
    "plt.hist(a, alpha=0.7, bins=30, label=\"Simulated Distribution x-axis\")\n",
    "plt.hist(np_sample_1, alpha=0.4, bins=30, label=\"Numpy generated distribution (same parameters)\")\n",
    "plt.legend()\n",
    "\n",
    "print(cv2.compareHist(a, np_sample_1, cv2.HISTCMP_CHISQR))"
   ]
  },
  {
   "cell_type": "code",
   "execution_count": 19,
   "id": "598516fe",
   "metadata": {},
   "outputs": [
    {
     "name": "stdout",
     "output_type": "stream",
     "text": [
      "759.9744004093067\n"
     ]
    },
    {
     "data": {
      "image/png": "[encoded data removed]",
      "text/plain": [
       "<Figure size 432x288 with 1 Axes>"
      ]
     },
     "metadata": {
      "needs_background": "light"
     },
     "output_type": "display_data"
    }
   ],
   "source": [
    "np_sample_2 = np.random.normal(stats_gen_y[0], stats_gen_y[1], 4000).astype(\"float32\")\n",
    "\n",
    "plt.hist(b, alpha=0.7, bins=30, label=\"Simulated Distribution y-axis\")\n",
    "plt.hist(np_sample_2, alpha=0.4, bins=30, label=\"Numpy generated distribution (same parameters)\")\n",
    "plt.legend()\n",
    "\n",
    "print(cv2.compareHist(b, np_sample_2, cv2.HISTCMP_CHISQR))"
   ]
  },
  {
   "cell_type": "raw",
   "id": "9be74e98",
   "metadata": {},
   "source": [
    "# Cell to save the model and/or load a previous one\n",
    "\n",
    "from tensorflow.keras.models import load_model\n",
    "\n",
    "glash.save('0std-glash', save_format='tf')\n",
    "test_model = load_model('0std-glash')"
   ]
  },
  {
   "cell_type": "code",
   "execution_count": 24,
   "id": "1e521a04",
   "metadata": {},
   "outputs": [
    {
     "data": {
      "image/png": "[encoded data removed]",
      "text/plain": [
       "<Figure size 432x288 with 1 Axes>"
      ]
     },
     "metadata": {
      "needs_background": "light"
     },
     "output_type": "display_data"
    }
   ],
   "source": [
    "plot_ht = plt.hist(a, bins=30, alpha=0.7, label=\"Generated x distribution\")\n",
    "plot_ht_2 = plt.hist(np_sample_1, bins=30, alpha=0.4, label=\"Original x distribution\")\n",
    "plt.legend()\n",
    "\n",
    "new_x = align_hist(plot_ht, plot_ht_2, 30)"
   ]
  },
  {
   "cell_type": "code",
   "execution_count": 25,
   "id": "7dd49400",
   "metadata": {},
   "outputs": [
    {
     "data": {
      "image/png": "[encoded data removed]",
      "text/plain": [
       "<Figure size 432x288 with 1 Axes>"
      ]
     },
     "metadata": {
      "needs_background": "light"
     },
     "output_type": "display_data"
    }
   ],
   "source": [
    "plot_ht = plt.hist(a, bins=new_x, alpha=0.7, label=\"Generated x distribution\")\n",
    "plot_ht_2 = plt.hist(np_sample_1, bins=new_x, alpha=0.4, label=\"Original x distribution\")\n",
    "plt.legend()\n",
    "\n",
    "new_new_x = norm_hist(plot_ht[0], new_x)"
   ]
  },
  {
   "cell_type": "code",
   "execution_count": 26,
   "id": "77c2eb55",
   "metadata": {},
   "outputs": [
    {
     "data": {
      "text/plain": [
       "<matplotlib.legend.Legend at 0x7f8c20138e20>"
      ]
     },
     "execution_count": 26,
     "metadata": {},
     "output_type": "execute_result"
    },
    {
     "data": {
      "image/png": "[encoded data removed]",
      "text/plain": [
       "<Figure size 432x288 with 1 Axes>"
      ]
     },
     "metadata": {
      "needs_background": "light"
     },
     "output_type": "display_data"
    }
   ],
   "source": [
    "# Only possible with close enough histograms\n",
    "plot_ht = plt.hist(a, bins=new_new_x, alpha=0.7, label=\"Histogram 1\")\n",
    "plot_ht_2 = plt.hist(np_sample_1, bins=new_new_x, alpha=0.4, label=\"Histogram 2\")\n",
    "plt.legend()"
   ]
  },
  {
   "cell_type": "code",
   "execution_count": 27,
   "id": "36c1f009",
   "metadata": {},
   "outputs": [
    {
     "data": {
      "text/plain": [
       "415.232025339798"
      ]
     },
     "execution_count": 27,
     "metadata": {},
     "output_type": "execute_result"
    }
   ],
   "source": [
    "h1 = plot_ht[0]; h2 = plot_ht_2[0]\n",
    "\n",
    "chi_squared(h1, h2)"
   ]
  },
  {
   "cell_type": "raw",
   "id": "ba10c3d6",
   "metadata": {},
   "source": [
    "Experiment N(1, 0):\n",
    "- Good convergence but a slight std deviation -> with 2 Binary crossentropy loss function D(25, 1), G(100, 10, 2), selu, 300 epochs\n",
    "\n",
    "- Same results -> same setup, relu instead\n",
    "\n",
    "- Good convergence, bad distributions when compared to numpy generation -> same setup, D(50, 1)\n",
    "\n",
    "- D too complex D(100, 10, 1) makes the generator have large loss, generated distributions wrong mean correct std.\n",
    "\n",
    "- D(10, 10, 1) decent convergence (pretty good actually), correct mean, however non-zero std. When we look at the generated distributions compared to numpy generated distributions, virtually 0 chi-squared.\n",
    "\n",
    "- Really similar results (slightly worse) with D(50, 10, 1)\n",
    "\n",
    "- G(100, 2) gives non-zero std good convergence and probability of fake preds seems to be tending to 0.5 eventually (more epochs might be helpful)\n",
    "\n",
    "- G(10, 10, 2), non-zero std, good convergence, really accurate mean and good chi-square with numpy generated\n",
    "\n",
    "- Best results since the start of the recording, 0 std, mean fairly close to +-0.01 - G(10, 10, 2), D(50, 10, 1), 300 epochs, relu for all activation functions, chi-square = 8\n",
    "\n",
    "- Repeated the experiment for consistency check, the mean gets closer as the number of epochs increases (500 epocs currently), let's try 1000\n",
    "\n",
    "- The mean shifted from being to the right to being to the left...\n",
    "\n",
    "- Changed D -> D(20, 10, 1) improved performance for 1000 epochs, std still 0, mean gets closer, virtually the same mean for y-dimension\n",
    "\n",
    "- Again, even better results currently, only parameter changed was D -> D(15, 10, 1) there seems to be a pattern that improves the model as the number of hidden neurons in the first layer goes down to a point.\n",
    "\n",
    "- Nicest convergence plot so far, however, the means seem to have a bigger offeset. This time D(10, 10, 1) was used.\n",
    "\n",
    "- Reducing the number of epochs to 750 does not seem to change performance.\n",
    "\n",
    "- Sweet spot D(15, 10, 1), G(10, 10, 2), 1000 epochs\n",
    "\n",
    "- G(15, 10, 2) better for large covariance\n",
    "\n",
    "- D(20, 10, 1) (slight better fits with numpy gaussians) -> D(30, 15, 1)"
   ]
  }
 ],
 "metadata": {
  "kernelspec": {
   "display_name": "Python 3 (ipykernel)",
   "language": "python",
   "name": "python3"
  },
  "language_info": {
   "codemirror_mode": {
    "name": "ipython",
    "version": 3
   },
   "file_extension": ".py",
   "mimetype": "text/x-python",
   "name": "python",
   "nbconvert_exporter": "python",
   "pygments_lexer": "ipython3",
   "version": "3.8.0"
  }
 },
 "nbformat": 4,
 "nbformat_minor": 5
}
