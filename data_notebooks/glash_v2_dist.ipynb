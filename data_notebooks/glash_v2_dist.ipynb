{
 "cells": [
  {
   "cell_type": "code",
   "execution_count": 1,
   "id": "1d353efd",
   "metadata": {},
   "outputs": [
    {
     "name": "stderr",
     "output_type": "stream",
     "text": [
      "2022-02-22 22:39:35.296524: I tensorflow/stream_executor/platform/default/dso_loader.cc:49] Successfully opened dynamic library libcudart.so.10.1\n"
     ]
    }
   ],
   "source": [
    "import numpy as np\n",
    "import matplotlib.pyplot as plt\n",
    "import pandas as pd\n",
    "import sys\n",
    "import tensorflow as tf\n",
    "import cv2\n",
    "import os\n",
    "\n",
    "os.environ['TF_CPP_MIN_LOG_LEVEL'] = '3'  # or any {'0', '1', '2'}\n",
    "sys.path.append('../')\n",
    "tf.random.set_seed(42)\n",
    "\n",
    "from helpers import *\n",
    "#from glash_v2 import glash_discriminator, glash_generator, Glash"
   ]
  },
  {
   "cell_type": "code",
   "execution_count": 2,
   "id": "56c68650",
   "metadata": {},
   "outputs": [],
   "source": [
    "def glash_discriminator(n=2, act_fun_1=tf.keras.activations.relu):\n",
    "    \"\"\"\n",
    "    Discriminator network side of the GAN. It consists of a sequence of fully connected dense layers that output a\n",
    "    probability of the input being real (1) or fake (0). It aims to distinguish between real and fake distributions\n",
    "    (generation samples from the generative network).\n",
    "\n",
    "    Arguments:\n",
    "        - n: number of samples it takes as an input in 1D\n",
    "    \"\"\"\n",
    "    model = tf.keras.Sequential([\n",
    "        tf.keras.layers.Input(shape=(n,)),\n",
    "        tf.keras.layers.Dense(15, activation=act_fun_1,\n",
    "                              kernel_initializer='he_uniform'),\n",
    "        tf.keras.layers.Dense(10, activation=act_fun_1,\n",
    "                              kernel_initializer='he_uniform'),\n",
    "        #tf.keras.layers.Dense(50, activation=act_fun_1,\n",
    "        #                     kernel_initializer='he_uniform'),\n",
    "        tf.keras.layers.Dense(1, activation='sigmoid')\n",
    "    ], name='glash_discriminator')\n",
    "\n",
    "    return model\n",
    "    \n",
    "\n",
    "def glash_generator(latent_dim=5, act_fun_1=tf.keras.activations.relu, act_fun_2=tf.keras.activations.relu):\n",
    "    \"\"\"\n",
    "    Generative network component of the GAN. It consists of a sequence of fully connected dense layers that output a\n",
    "    newly generated distribution. It aims to generate a distribution that is close to the input distribution improving\n",
    "    its weights and biases until the discriminator network is no longer able to recognise fake from real data.\n",
    "\n",
    "    Arguments:\n",
    "        - latent_dim: number of dimensions of the latent space\n",
    "    \"\"\"\n",
    "    model = tf.keras.Sequential([\n",
    "        tf.keras.layers.Input(shape=(latent_dim,)),\n",
    "        tf.keras.layers.Dense(10, activation=act_fun_1,\n",
    "                              kernel_initializer='he_uniform'),\n",
    "        tf.keras.layers.Dense(10, activation=act_fun_1,\n",
    "                             kernel_initializer='he_uniform'),\n",
    "        tf.keras.layers.Dense(2, activation=act_fun_2) # Test different activation functions for different shapes\n",
    "    ], name='glash_generator')\n",
    "\n",
    "    return model\n",
    "\n",
    "\n",
    "class Glash(tf.keras.Model):\n",
    "\n",
    "    def __init__(self, discriminator, generator, latent_dim=5):\n",
    "        super(Glash, self).__init__()\n",
    "        self.discriminator = discriminator\n",
    "        self.generator = generator\n",
    "        self.latent_dim = latent_dim\n",
    "\n",
    "    def compile(self, optimizerD, optimizerG, loss_fn, loss_fn_2):\n",
    "        super(Glash, self).compile()\n",
    "        self.optimizerD = optimizerD\n",
    "        self.optimizerG = optimizerG\n",
    "        self.loss_fn = loss_fn\n",
    "        self.loss_fn_2 = loss_fn_2\n",
    "\n",
    "    def train_step(self, real_data):\n",
    "        if isinstance(real_data, tuple):\n",
    "            real_data = real_data[0]\n",
    "\n",
    "        # Generate fake data with the appropriate shape and batch size\n",
    "        batch_size = tf.shape(real_data)[0]\n",
    "        noise = tf.random.normal(shape=(batch_size, self.latent_dim))\n",
    "        fake_data = self.generator(noise)\n",
    "\n",
    "        # Combine real and fake data for training the discriminator\n",
    "        combined_data = tf.concat([real_data, fake_data], axis=0)\n",
    "        labels = tf.concat([tf.ones((batch_size, 1)), tf.zeros((batch_size, 1))], axis=0)\n",
    "\n",
    "        # Training the discriminator\n",
    "        with tf.GradientTape() as tape:\n",
    "            predictions = self.discriminator(combined_data)\n",
    "            d_loss = self.loss_fn(labels, predictions)\n",
    "\n",
    "        # Update the weights of the discriminator\n",
    "        grads = tape.gradient(d_loss, self.discriminator.trainable_weights)\n",
    "        self.optimizerD.apply_gradients(zip(grads, self.discriminator.trainable_weights))\n",
    "\n",
    "        # Generate fake labels to train the generator\n",
    "        misleading_labels = tf.ones((batch_size, 1))\n",
    "        noise = tf.random.normal(shape=(batch_size, self.latent_dim))\n",
    "\n",
    "        # Training the generator\n",
    "        with tf.GradientTape() as tape:\n",
    "            fake_predictions = self.discriminator(self.generator(noise))\n",
    "            g_loss = self.loss_fn_2(misleading_labels, fake_predictions)\n",
    "\n",
    "        # Update the weights of the generator\n",
    "        grads = tape.gradient(g_loss, self.generator.trainable_weights)\n",
    "        self.optimizerG.apply_gradients(zip(grads, self.generator.trainable_weights))\n",
    "\n",
    "        return {'d_loss': d_loss, 'g_loss': g_loss, 'fake_pred': fake_predictions}\n",
    "    \n",
    "    def call(self, noise):\n",
    "        return self.generator(noise)"
   ]
  },
  {
   "cell_type": "code",
   "execution_count": 3,
   "id": "4202d56d",
   "metadata": {},
   "outputs": [],
   "source": [
    "mean = (1, 1)\n",
    "cov = [[0, 0], [0, 0]] # Should be symmetric\n",
    "x = np.random.multivariate_normal(mean, cov, 4000).astype('float32')"
   ]
  },
  {
   "cell_type": "code",
   "execution_count": 4,
   "id": "274e06ab",
   "metadata": {
    "scrolled": true
   },
   "outputs": [
    {
     "data": {
      "text/plain": [
       "(array([[   0.,    0.,    0.,    0.,    0.,    0.,    0.,    0.,    0.,\n",
       "            0.,    0.,    0.,    0.,    0.,    0.,    0.,    0.,    0.,\n",
       "            0.,    0.,    0.,    0.,    0.,    0.,    0.],\n",
       "        [   0.,    0.,    0.,    0.,    0.,    0.,    0.,    0.,    0.,\n",
       "            0.,    0.,    0.,    0.,    0.,    0.,    0.,    0.,    0.,\n",
       "            0.,    0.,    0.,    0.,    0.,    0.,    0.],\n",
       "        [   0.,    0.,    0.,    0.,    0.,    0.,    0.,    0.,    0.,\n",
       "            0.,    0.,    0.,    0.,    0.,    0.,    0.,    0.,    0.,\n",
       "            0.,    0.,    0.,    0.,    0.,    0.,    0.],\n",
       "        [   0.,    0.,    0.,    0.,    0.,    0.,    0.,    0.,    0.,\n",
       "            0.,    0.,    0.,    0.,    0.,    0.,    0.,    0.,    0.,\n",
       "            0.,    0.,    0.,    0.,    0.,    0.,    0.],\n",
       "        [   0.,    0.,    0.,    0.,    0.,    0.,    0.,    0.,    0.,\n",
       "            0.,    0.,    0.,    0.,    0.,    0.,    0.,    0.,    0.,\n",
       "            0.,    0.,    0.,    0.,    0.,    0.,    0.],\n",
       "        [   0.,    0.,    0.,    0.,    0.,    0.,    0.,    0.,    0.,\n",
       "            0.,    0.,    0.,    0.,    0.,    0.,    0.,    0.,    0.,\n",
       "            0.,    0.,    0.,    0.,    0.,    0.,    0.],\n",
       "        [   0.,    0.,    0.,    0.,    0.,    0.,    0.,    0.,    0.,\n",
       "            0.,    0.,    0.,    0.,    0.,    0.,    0.,    0.,    0.,\n",
       "            0.,    0.,    0.,    0.,    0.,    0.,    0.],\n",
       "        [   0.,    0.,    0.,    0.,    0.,    0.,    0.,    0.,    0.,\n",
       "            0.,    0.,    0.,    0.,    0.,    0.,    0.,    0.,    0.,\n",
       "            0.,    0.,    0.,    0.,    0.,    0.,    0.],\n",
       "        [   0.,    0.,    0.,    0.,    0.,    0.,    0.,    0.,    0.,\n",
       "            0.,    0.,    0.,    0.,    0.,    0.,    0.,    0.,    0.,\n",
       "            0.,    0.,    0.,    0.,    0.,    0.,    0.],\n",
       "        [   0.,    0.,    0.,    0.,    0.,    0.,    0.,    0.,    0.,\n",
       "            0.,    0.,    0.,    0.,    0.,    0.,    0.,    0.,    0.,\n",
       "            0.,    0.,    0.,    0.,    0.,    0.,    0.],\n",
       "        [   0.,    0.,    0.,    0.,    0.,    0.,    0.,    0.,    0.,\n",
       "            0.,    0.,    0.,    0.,    0.,    0.,    0.,    0.,    0.,\n",
       "            0.,    0.,    0.,    0.,    0.,    0.,    0.],\n",
       "        [   0.,    0.,    0.,    0.,    0.,    0.,    0.,    0.,    0.,\n",
       "            0.,    0.,    0.,    0.,    0.,    0.,    0.,    0.,    0.,\n",
       "            0.,    0.,    0.,    0.,    0.,    0.,    0.],\n",
       "        [   0.,    0.,    0.,    0.,    0.,    0.,    0.,    0.,    0.,\n",
       "            0.,    0.,    0., 4000.,    0.,    0.,    0.,    0.,    0.,\n",
       "            0.,    0.,    0.,    0.,    0.,    0.,    0.],\n",
       "        [   0.,    0.,    0.,    0.,    0.,    0.,    0.,    0.,    0.,\n",
       "            0.,    0.,    0.,    0.,    0.,    0.,    0.,    0.,    0.,\n",
       "            0.,    0.,    0.,    0.,    0.,    0.,    0.],\n",
       "        [   0.,    0.,    0.,    0.,    0.,    0.,    0.,    0.,    0.,\n",
       "            0.,    0.,    0.,    0.,    0.,    0.,    0.,    0.,    0.,\n",
       "            0.,    0.,    0.,    0.,    0.,    0.,    0.],\n",
       "        [   0.,    0.,    0.,    0.,    0.,    0.,    0.,    0.,    0.,\n",
       "            0.,    0.,    0.,    0.,    0.,    0.,    0.,    0.,    0.,\n",
       "            0.,    0.,    0.,    0.,    0.,    0.,    0.],\n",
       "        [   0.,    0.,    0.,    0.,    0.,    0.,    0.,    0.,    0.,\n",
       "            0.,    0.,    0.,    0.,    0.,    0.,    0.,    0.,    0.,\n",
       "            0.,    0.,    0.,    0.,    0.,    0.,    0.],\n",
       "        [   0.,    0.,    0.,    0.,    0.,    0.,    0.,    0.,    0.,\n",
       "            0.,    0.,    0.,    0.,    0.,    0.,    0.,    0.,    0.,\n",
       "            0.,    0.,    0.,    0.,    0.,    0.,    0.],\n",
       "        [   0.,    0.,    0.,    0.,    0.,    0.,    0.,    0.,    0.,\n",
       "            0.,    0.,    0.,    0.,    0.,    0.,    0.,    0.,    0.,\n",
       "            0.,    0.,    0.,    0.,    0.,    0.,    0.],\n",
       "        [   0.,    0.,    0.,    0.,    0.,    0.,    0.,    0.,    0.,\n",
       "            0.,    0.,    0.,    0.,    0.,    0.,    0.,    0.,    0.,\n",
       "            0.,    0.,    0.,    0.,    0.,    0.,    0.],\n",
       "        [   0.,    0.,    0.,    0.,    0.,    0.,    0.,    0.,    0.,\n",
       "            0.,    0.,    0.,    0.,    0.,    0.,    0.,    0.,    0.,\n",
       "            0.,    0.,    0.,    0.,    0.,    0.,    0.],\n",
       "        [   0.,    0.,    0.,    0.,    0.,    0.,    0.,    0.,    0.,\n",
       "            0.,    0.,    0.,    0.,    0.,    0.,    0.,    0.,    0.,\n",
       "            0.,    0.,    0.,    0.,    0.,    0.,    0.],\n",
       "        [   0.,    0.,    0.,    0.,    0.,    0.,    0.,    0.,    0.,\n",
       "            0.,    0.,    0.,    0.,    0.,    0.,    0.,    0.,    0.,\n",
       "            0.,    0.,    0.,    0.,    0.,    0.,    0.],\n",
       "        [   0.,    0.,    0.,    0.,    0.,    0.,    0.,    0.,    0.,\n",
       "            0.,    0.,    0.,    0.,    0.,    0.,    0.,    0.,    0.,\n",
       "            0.,    0.,    0.,    0.,    0.,    0.,    0.],\n",
       "        [   0.,    0.,    0.,    0.,    0.,    0.,    0.,    0.,    0.,\n",
       "            0.,    0.,    0.,    0.,    0.,    0.,    0.,    0.,    0.,\n",
       "            0.,    0.,    0.,    0.,    0.,    0.,    0.]]),\n",
       " array([0.5 , 0.54, 0.58, 0.62, 0.66, 0.7 , 0.74, 0.78, 0.82, 0.86, 0.9 ,\n",
       "        0.94, 0.98, 1.02, 1.06, 1.1 , 1.14, 1.18, 1.22, 1.26, 1.3 , 1.34,\n",
       "        1.38, 1.42, 1.46, 1.5 ]),\n",
       " array([0.5 , 0.54, 0.58, 0.62, 0.66, 0.7 , 0.74, 0.78, 0.82, 0.86, 0.9 ,\n",
       "        0.94, 0.98, 1.02, 1.06, 1.1 , 1.14, 1.18, 1.22, 1.26, 1.3 , 1.34,\n",
       "        1.38, 1.42, 1.46, 1.5 ]),\n",
       " <matplotlib.collections.QuadMesh at 0x7f63b8a023d0>)"
      ]
     },
     "execution_count": 4,
     "metadata": {},
     "output_type": "execute_result"
    },
    {
     "data": {
      "image/png": "[encoded data removed]",
      "text/plain": [
       "<Figure size 432x288 with 1 Axes>"
      ]
     },
     "metadata": {
      "needs_background": "light"
     },
     "output_type": "display_data"
    }
   ],
   "source": [
    "plt.hist2d(x[:, :1].reshape(4000,), x[:, 1:2].reshape(4000,), bins=25)"
   ]
  },
  {
   "cell_type": "code",
   "execution_count": 5,
   "id": "c9066aed",
   "metadata": {
    "scrolled": true
   },
   "outputs": [
    {
     "name": "stderr",
     "output_type": "stream",
     "text": [
      "2022-02-22 22:39:50.272692: I tensorflow/compiler/jit/xla_cpu_device.cc:41] Not creating XLA devices, tf_xla_enable_xla_devices not set\n",
      "2022-02-22 22:39:50.374274: I tensorflow/stream_executor/platform/default/dso_loader.cc:49] Successfully opened dynamic library libcuda.so.1\n",
      "2022-02-22 22:39:50.622193: I tensorflow/stream_executor/cuda/cuda_gpu_executor.cc:941] successful NUMA node read from SysFS had negative value (-1), but there must be at least one NUMA node, so returning NUMA node zero\n",
      "2022-02-22 22:39:50.623501: I tensorflow/core/common_runtime/gpu/gpu_device.cc:1720] Found device 0 with properties: \n",
      "pciBusID: 0000:01:00.0 name: NVIDIA GeForce RTX 2060 computeCapability: 7.5\n",
      "coreClock: 1.2GHz coreCount: 30 deviceMemorySize: 5.79GiB deviceMemoryBandwidth: 312.97GiB/s\n",
      "2022-02-22 22:39:50.623592: I tensorflow/stream_executor/platform/default/dso_loader.cc:49] Successfully opened dynamic library libcudart.so.10.1\n",
      "2022-02-22 22:39:50.916971: I tensorflow/stream_executor/platform/default/dso_loader.cc:49] Successfully opened dynamic library libcublas.so.10\n",
      "2022-02-22 22:39:50.917196: I tensorflow/stream_executor/platform/default/dso_loader.cc:49] Successfully opened dynamic library libcublasLt.so.10\n",
      "2022-02-22 22:39:51.088825: I tensorflow/stream_executor/platform/default/dso_loader.cc:49] Successfully opened dynamic library libcufft.so.10\n",
      "2022-02-22 22:39:51.163720: I tensorflow/stream_executor/platform/default/dso_loader.cc:49] Successfully opened dynamic library libcurand.so.10\n",
      "2022-02-22 22:39:51.485572: I tensorflow/stream_executor/platform/default/dso_loader.cc:49] Successfully opened dynamic library libcusolver.so.10\n",
      "2022-02-22 22:39:51.575722: I tensorflow/stream_executor/platform/default/dso_loader.cc:49] Successfully opened dynamic library libcusparse.so.10\n",
      "2022-02-22 22:39:52.132802: I tensorflow/stream_executor/platform/default/dso_loader.cc:49] Successfully opened dynamic library libcudnn.so.7\n",
      "2022-02-22 22:39:52.132992: I tensorflow/stream_executor/cuda/cuda_gpu_executor.cc:941] successful NUMA node read from SysFS had negative value (-1), but there must be at least one NUMA node, so returning NUMA node zero\n",
      "2022-02-22 22:39:52.133600: I tensorflow/stream_executor/cuda/cuda_gpu_executor.cc:941] successful NUMA node read from SysFS had negative value (-1), but there must be at least one NUMA node, so returning NUMA node zero\n",
      "2022-02-22 22:39:52.134040: I tensorflow/core/common_runtime/gpu/gpu_device.cc:1862] Adding visible gpu devices: 0\n",
      "2022-02-22 22:39:52.165820: I tensorflow/core/platform/cpu_feature_guard.cc:142] This TensorFlow binary is optimized with oneAPI Deep Neural Network Library (oneDNN) to use the following CPU instructions in performance-critical operations:  SSE4.1 SSE4.2 AVX AVX2 FMA\n",
      "To enable them in other operations, rebuild TensorFlow with the appropriate compiler flags.\n",
      "2022-02-22 22:39:52.246740: I tensorflow/stream_executor/cuda/cuda_gpu_executor.cc:941] successful NUMA node read from SysFS had negative value (-1), but there must be at least one NUMA node, so returning NUMA node zero\n",
      "2022-02-22 22:39:52.247304: I tensorflow/core/common_runtime/gpu/gpu_device.cc:1720] Found device 0 with properties: \n",
      "pciBusID: 0000:01:00.0 name: NVIDIA GeForce RTX 2060 computeCapability: 7.5\n",
      "coreClock: 1.2GHz coreCount: 30 deviceMemorySize: 5.79GiB deviceMemoryBandwidth: 312.97GiB/s\n",
      "2022-02-22 22:39:52.247362: I tensorflow/stream_executor/platform/default/dso_loader.cc:49] Successfully opened dynamic library libcudart.so.10.1\n",
      "2022-02-22 22:39:52.247400: I tensorflow/stream_executor/platform/default/dso_loader.cc:49] Successfully opened dynamic library libcublas.so.10\n",
      "2022-02-22 22:39:52.247424: I tensorflow/stream_executor/platform/default/dso_loader.cc:49] Successfully opened dynamic library libcublasLt.so.10\n",
      "2022-02-22 22:39:52.247447: I tensorflow/stream_executor/platform/default/dso_loader.cc:49] Successfully opened dynamic library libcufft.so.10\n",
      "2022-02-22 22:39:52.247473: I tensorflow/stream_executor/platform/default/dso_loader.cc:49] Successfully opened dynamic library libcurand.so.10\n",
      "2022-02-22 22:39:52.247510: I tensorflow/stream_executor/platform/default/dso_loader.cc:49] Successfully opened dynamic library libcusolver.so.10\n",
      "2022-02-22 22:39:52.247547: I tensorflow/stream_executor/platform/default/dso_loader.cc:49] Successfully opened dynamic library libcusparse.so.10\n",
      "2022-02-22 22:39:52.247582: I tensorflow/stream_executor/platform/default/dso_loader.cc:49] Successfully opened dynamic library libcudnn.so.7\n",
      "2022-02-22 22:39:52.247710: I tensorflow/stream_executor/cuda/cuda_gpu_executor.cc:941] successful NUMA node read from SysFS had negative value (-1), but there must be at least one NUMA node, so returning NUMA node zero\n",
      "2022-02-22 22:39:52.248296: I tensorflow/stream_executor/cuda/cuda_gpu_executor.cc:941] successful NUMA node read from SysFS had negative value (-1), but there must be at least one NUMA node, so returning NUMA node zero\n",
      "2022-02-22 22:39:52.248874: I tensorflow/core/common_runtime/gpu/gpu_device.cc:1862] Adding visible gpu devices: 0\n",
      "2022-02-22 22:39:52.297095: I tensorflow/stream_executor/platform/default/dso_loader.cc:49] Successfully opened dynamic library libcudart.so.10.1\n",
      "2022-02-22 22:39:57.812073: I tensorflow/core/common_runtime/gpu/gpu_device.cc:1261] Device interconnect StreamExecutor with strength 1 edge matrix:\n",
      "2022-02-22 22:39:57.812124: I tensorflow/core/common_runtime/gpu/gpu_device.cc:1267]      0 \n",
      "2022-02-22 22:39:57.812139: I tensorflow/core/common_runtime/gpu/gpu_device.cc:1280] 0:   N \n",
      "2022-02-22 22:39:57.832085: I tensorflow/stream_executor/cuda/cuda_gpu_executor.cc:941] successful NUMA node read from SysFS had negative value (-1), but there must be at least one NUMA node, so returning NUMA node zero\n",
      "2022-02-22 22:39:57.833327: I tensorflow/stream_executor/cuda/cuda_gpu_executor.cc:941] successful NUMA node read from SysFS had negative value (-1), but there must be at least one NUMA node, so returning NUMA node zero\n",
      "2022-02-22 22:39:57.834445: I tensorflow/stream_executor/cuda/cuda_gpu_executor.cc:941] successful NUMA node read from SysFS had negative value (-1), but there must be at least one NUMA node, so returning NUMA node zero\n",
      "2022-02-22 22:39:57.835469: I tensorflow/core/common_runtime/gpu/gpu_device.cc:1406] Created TensorFlow device (/job:localhost/replica:0/task:0/device:GPU:0 with 5001 MB memory) -> physical GPU (device: 0, name: NVIDIA GeForce RTX 2060, pci bus id: 0000:01:00.0, compute capability: 7.5)\n",
      "2022-02-22 22:39:57.920871: I tensorflow/compiler/jit/xla_gpu_device.cc:99] Not creating XLA devices, tf_xla_enable_xla_devices not set\n"
     ]
    }
   ],
   "source": [
    "train_data = tf.data.Dataset.from_tensor_slices(x)\n",
    "train_data = train_data.batch(32).prefetch(32)"
   ]
  },
  {
   "cell_type": "code",
   "execution_count": 6,
   "id": "d5e69c9d",
   "metadata": {},
   "outputs": [],
   "source": [
    "glash = Glash(glash_discriminator(), glash_generator())\n",
    "glash.compile(\n",
    "    tf.keras.optimizers.Adam(),\n",
    "    tf.keras.optimizers.Adam(),\n",
    "    tf.keras.losses.BinaryCrossentropy(from_logits=True), # discriminator\n",
    "    tf.keras.losses.BinaryCrossentropy(from_logits=True)\n",
    "    #tf.keras.losses.mean_squared_error # generator\n",
    ")"
   ]
  },
  {
   "cell_type": "code",
   "execution_count": 7,
   "id": "d83e5712",
   "metadata": {
    "scrolled": true
   },
   "outputs": [
    {
     "name": "stderr",
     "output_type": "stream",
     "text": [
      "2022-02-22 22:39:59.570028: I tensorflow/compiler/mlir/mlir_graph_optimization_pass.cc:116] None of the MLIR optimization passes are enabled (registered 2)\n",
      "2022-02-22 22:39:59.634874: I tensorflow/core/platform/profile_utils/cpu_utils.cc:112] CPU Frequency: 2199995000 Hz\n",
      "2022-02-22 22:39:59.978968: I tensorflow/stream_executor/platform/default/dso_loader.cc:49] Successfully opened dynamic library libcublas.so.10\n"
     ]
    }
   ],
   "source": [
    "generated_point_list = []\n",
    "\n",
    "cbk = tf.keras.callbacks.LambdaCallback(on_epoch_end=lambda epoch, logs: show_samples(generated_point_list, epoch, glash.generator, x))\n",
    "\n",
    "history = glash.fit(train_data, epochs=1000, callbacks=[cbk], verbose=False)"
   ]
  },
  {
   "cell_type": "code",
   "execution_count": 8,
   "id": "45c5c256",
   "metadata": {
    "scrolled": true
   },
   "outputs": [
    {
     "data": {
      "text/plain": [
       "<matplotlib.legend.Legend at 0x7f63b01f3850>"
      ]
     },
     "execution_count": 8,
     "metadata": {},
     "output_type": "execute_result"
    },
    {
     "data": {
      "image/png": "[encoded data removed]",
      "text/plain": [
       "<Figure size 432x288 with 1 Axes>"
      ]
     },
     "metadata": {
      "needs_background": "light"
     },
     "output_type": "display_data"
    }
   ],
   "source": [
    "plt.plot(history.history['d_loss'], color='blue', label='discriminator loss')\n",
    "line = plt.plot(history.history['g_loss'], color='red')\n",
    "line[0].set_label(\"generator loss\")\n",
    "\n",
    "plt.xlabel('Epochs')\n",
    "plt.ylabel('Losses')\n",
    "plt.legend()"
   ]
  },
  {
   "cell_type": "code",
   "execution_count": 9,
   "id": "6a52ced0",
   "metadata": {},
   "outputs": [
    {
     "data": {
      "text/plain": [
       "(4000, 2)"
      ]
     },
     "execution_count": 9,
     "metadata": {},
     "output_type": "execute_result"
    }
   ],
   "source": [
    "noise = toy_data(4000, 0, 1).astype('float32')\n",
    "noise.shape"
   ]
  },
  {
   "cell_type": "code",
   "execution_count": 10,
   "id": "b25bd722",
   "metadata": {},
   "outputs": [
    {
     "data": {
      "text/plain": [
       "array([[0.00294768, 0.25379038, 0.12868552, 0.09434648, 0.18247704],\n",
       "       [0.97587326, 0.66456154, 0.14453769, 0.08478163, 0.77219094],\n",
       "       [0.57326759, 0.13807459, 0.46336109, 0.36274051, 0.83206471],\n",
       "       ...,\n",
       "       [0.06138433, 0.54268853, 0.87363206, 0.74085253, 0.77235458],\n",
       "       [0.34836425, 0.22865934, 0.31723641, 0.94945973, 0.89979406],\n",
       "       [0.5278653 , 0.77141335, 0.93335273, 0.85417565, 0.6980536 ]])"
      ]
     },
     "execution_count": 10,
     "metadata": {},
     "output_type": "execute_result"
    }
   ],
   "source": [
    "np.random.uniform(0,1,(4000,5))"
   ]
  },
  {
   "cell_type": "code",
   "execution_count": 11,
   "id": "b377de56",
   "metadata": {
    "scrolled": true
   },
   "outputs": [
    {
     "data": {
      "text/plain": [
       "(array([[   0.,    0.,    0.,    0.,    0.,    0.,    0.,    0.,    0.,\n",
       "            0.,    0.,    0.,    0.,    0.,    0.,    0.,    0.,    0.,\n",
       "            0.,    0.,    0.,    0.,    0.,    0.,    0.],\n",
       "        [   0.,    0.,    0.,    0.,    0.,    0.,    0.,    0.,    0.,\n",
       "            0.,    0.,    0.,    0.,    0.,    0.,    0.,    0.,    0.,\n",
       "            0.,    0.,    0.,    0.,    0.,    0.,    0.],\n",
       "        [   0.,    0.,    0.,    0.,    0.,    0.,    0.,    0.,    0.,\n",
       "            0.,    0.,    0.,    0.,    0.,    0.,    0.,    0.,    0.,\n",
       "            0.,    0.,    0.,    0.,    0.,    0.,    0.],\n",
       "        [   0.,    0.,    0.,    0.,    0.,    0.,    0.,    0.,    0.,\n",
       "            0.,    0.,    0.,    0.,    0.,    0.,    0.,    0.,    0.,\n",
       "            0.,    0.,    0.,    0.,    0.,    0.,    0.],\n",
       "        [   0.,    0.,    0.,    0.,    0.,    0.,    0.,    0.,    0.,\n",
       "            0.,    0.,    0.,    0.,    0.,    0.,    0.,    0.,    0.,\n",
       "            0.,    0.,    0.,    0.,    0.,    0.,    0.],\n",
       "        [   0.,    0.,    0.,    0.,    0.,    0.,    0.,    0.,    0.,\n",
       "            0.,    0.,    0.,    0.,    0.,    0.,    0.,    0.,    0.,\n",
       "            0.,    0.,    0.,    0.,    0.,    0.,    0.],\n",
       "        [   0.,    0.,    0.,    0.,    0.,    0.,    0.,    0.,    0.,\n",
       "            0.,    0.,    0.,    0.,    0.,    0.,    0.,    0.,    0.,\n",
       "            0.,    0.,    0.,    0.,    0.,    0.,    0.],\n",
       "        [   0.,    0.,    0.,    0.,    0.,    0.,    0.,    0.,    0.,\n",
       "            0.,    0.,    0.,    0.,    0.,    0.,    0.,    0.,    0.,\n",
       "            0.,    0.,    0.,    0.,    0.,    0.,    0.],\n",
       "        [   0.,    0.,    0.,    0.,    0.,    0.,    0.,    0.,    0.,\n",
       "            0.,    0.,    0.,    0.,    0.,    0.,    0.,    0.,    0.,\n",
       "            0.,    0.,    0.,    0.,    0.,    0.,    0.],\n",
       "        [   0.,    0.,    0.,    0.,    0.,    0.,    0.,    0.,    0.,\n",
       "            0.,    0.,    0.,    0.,    0.,    0.,    0.,    0.,    0.,\n",
       "            0.,    0.,    0.,    0.,    0.,    0.,    0.],\n",
       "        [   0.,    0.,    0.,    0.,    0.,    0.,    0.,    0.,    0.,\n",
       "            0.,    0.,    0.,    0.,    0.,    0.,    0.,    0.,    0.,\n",
       "            0.,    0.,    0.,    0.,    0.,    0.,    0.],\n",
       "        [   0.,    0.,    0.,    0.,    0.,    0.,    0.,    0.,    0.,\n",
       "            0.,    0.,    0.,    0.,    0.,    0.,    0.,    0.,    0.,\n",
       "            0.,    0.,    0.,    0.,    0.,    0.,    0.],\n",
       "        [   0.,    0.,    0.,    0.,    0.,    0.,    0.,    0.,    0.,\n",
       "            0.,    0.,    0., 4000.,    0.,    0.,    0.,    0.,    0.,\n",
       "            0.,    0.,    0.,    0.,    0.,    0.,    0.],\n",
       "        [   0.,    0.,    0.,    0.,    0.,    0.,    0.,    0.,    0.,\n",
       "            0.,    0.,    0.,    0.,    0.,    0.,    0.,    0.,    0.,\n",
       "            0.,    0.,    0.,    0.,    0.,    0.,    0.],\n",
       "        [   0.,    0.,    0.,    0.,    0.,    0.,    0.,    0.,    0.,\n",
       "            0.,    0.,    0.,    0.,    0.,    0.,    0.,    0.,    0.,\n",
       "            0.,    0.,    0.,    0.,    0.,    0.,    0.],\n",
       "        [   0.,    0.,    0.,    0.,    0.,    0.,    0.,    0.,    0.,\n",
       "            0.,    0.,    0.,    0.,    0.,    0.,    0.,    0.,    0.,\n",
       "            0.,    0.,    0.,    0.,    0.,    0.,    0.],\n",
       "        [   0.,    0.,    0.,    0.,    0.,    0.,    0.,    0.,    0.,\n",
       "            0.,    0.,    0.,    0.,    0.,    0.,    0.,    0.,    0.,\n",
       "            0.,    0.,    0.,    0.,    0.,    0.,    0.],\n",
       "        [   0.,    0.,    0.,    0.,    0.,    0.,    0.,    0.,    0.,\n",
       "            0.,    0.,    0.,    0.,    0.,    0.,    0.,    0.,    0.,\n",
       "            0.,    0.,    0.,    0.,    0.,    0.,    0.],\n",
       "        [   0.,    0.,    0.,    0.,    0.,    0.,    0.,    0.,    0.,\n",
       "            0.,    0.,    0.,    0.,    0.,    0.,    0.,    0.,    0.,\n",
       "            0.,    0.,    0.,    0.,    0.,    0.,    0.],\n",
       "        [   0.,    0.,    0.,    0.,    0.,    0.,    0.,    0.,    0.,\n",
       "            0.,    0.,    0.,    0.,    0.,    0.,    0.,    0.,    0.,\n",
       "            0.,    0.,    0.,    0.,    0.,    0.,    0.],\n",
       "        [   0.,    0.,    0.,    0.,    0.,    0.,    0.,    0.,    0.,\n",
       "            0.,    0.,    0.,    0.,    0.,    0.,    0.,    0.,    0.,\n",
       "            0.,    0.,    0.,    0.,    0.,    0.,    0.],\n",
       "        [   0.,    0.,    0.,    0.,    0.,    0.,    0.,    0.,    0.,\n",
       "            0.,    0.,    0.,    0.,    0.,    0.,    0.,    0.,    0.,\n",
       "            0.,    0.,    0.,    0.,    0.,    0.,    0.],\n",
       "        [   0.,    0.,    0.,    0.,    0.,    0.,    0.,    0.,    0.,\n",
       "            0.,    0.,    0.,    0.,    0.,    0.,    0.,    0.,    0.,\n",
       "            0.,    0.,    0.,    0.,    0.,    0.,    0.],\n",
       "        [   0.,    0.,    0.,    0.,    0.,    0.,    0.,    0.,    0.,\n",
       "            0.,    0.,    0.,    0.,    0.,    0.,    0.,    0.,    0.,\n",
       "            0.,    0.,    0.,    0.,    0.,    0.,    0.],\n",
       "        [   0.,    0.,    0.,    0.,    0.,    0.,    0.,    0.,    0.,\n",
       "            0.,    0.,    0.,    0.,    0.,    0.,    0.,    0.,    0.,\n",
       "            0.,    0.,    0.,    0.,    0.,    0.,    0.]]),\n",
       " array([0.5112772, 0.5512772, 0.5912772, 0.6312772, 0.6712772, 0.7112772,\n",
       "        0.7512772, 0.7912772, 0.8312772, 0.8712772, 0.9112772, 0.9512772,\n",
       "        0.9912772, 1.0312772, 1.0712772, 1.1112772, 1.1512772, 1.1912772,\n",
       "        1.2312772, 1.2712772, 1.3112772, 1.3512772, 1.3912772, 1.4312772,\n",
       "        1.4712772, 1.5112772]),\n",
       " array([0.50090837, 0.54090837, 0.58090837, 0.62090837, 0.66090837,\n",
       "        0.70090837, 0.74090837, 0.78090837, 0.82090837, 0.86090837,\n",
       "        0.90090837, 0.94090837, 0.98090837, 1.02090837, 1.06090837,\n",
       "        1.10090837, 1.14090837, 1.18090837, 1.22090837, 1.26090837,\n",
       "        1.30090837, 1.34090837, 1.38090837, 1.42090837, 1.46090837,\n",
       "        1.50090837]),\n",
       " <matplotlib.collections.QuadMesh at 0x7f63b0556880>)"
      ]
     },
     "execution_count": 11,
     "metadata": {},
     "output_type": "execute_result"
    },
    {
     "data": {
      "image/png": "[encoded data removed]",
      "text/plain": [
       "<Figure size 432x288 with 1 Axes>"
      ]
     },
     "metadata": {
      "needs_background": "light"
     },
     "output_type": "display_data"
    }
   ],
   "source": [
    "test = glash(np.random.uniform(0,1,(4000,5)))\n",
    "x_test = tf.reshape(test[:, :1], (4000,))\n",
    "y_test = tf.reshape(test[:, 1:2], (4000,))\n",
    "\n",
    "plt.hist2d(x_test, y_test, bins=25)"
   ]
  },
  {
   "cell_type": "code",
   "execution_count": 12,
   "id": "f846c605",
   "metadata": {},
   "outputs": [
    {
     "data": {
      "text/plain": [
       "<matplotlib.legend.Legend at 0x7f63b01e2850>"
      ]
     },
     "execution_count": 12,
     "metadata": {},
     "output_type": "execute_result"
    },
    {
     "data": {
      "image/png": "[encoded data removed]",
      "text/plain": [
       "<Figure size 432x288 with 1 Axes>"
      ]
     },
     "metadata": {
      "needs_background": "light"
     },
     "output_type": "display_data"
    }
   ],
   "source": [
    "a = x_test.numpy()\n",
    "plt.hist(a, alpha=0.7, bins=30, label=\"Simulated Distribution x-axis\")\n",
    "plt.hist(x[:, :1].reshape(4000,), alpha=0.4, bins=30, label=\"Original Distribution x-axis\")\n",
    "plt.legend()\n",
    "#print(len(a), len(x[:, :1].reshape(4000,)))"
   ]
  },
  {
   "cell_type": "code",
   "execution_count": 13,
   "id": "8e710f10",
   "metadata": {
    "scrolled": true
   },
   "outputs": [
    {
     "data": {
      "text/plain": [
       "<matplotlib.legend.Legend at 0x7f639c22df10>"
      ]
     },
     "execution_count": 13,
     "metadata": {},
     "output_type": "execute_result"
    },
    {
     "data": {
      "image/png": "[encoded data removed]",
      "text/plain": [
       "<Figure size 432x288 with 1 Axes>"
      ]
     },
     "metadata": {
      "needs_background": "light"
     },
     "output_type": "display_data"
    }
   ],
   "source": [
    "b = y_test.numpy()\n",
    "plt.hist(b, alpha=0.7, bins=30, label=\"Simulated Distribution y-axis\")\n",
    "plt.hist(x[:, 1:2].reshape(4000,), alpha=0.4, bins=30, label=\"Original Distribution y-axis\")\n",
    "plt.legend()\n",
    "#print(len(b), len(x[:, 1:2].reshape(4000,)))"
   ]
  },
  {
   "cell_type": "code",
   "execution_count": 14,
   "id": "e8990c79",
   "metadata": {
    "scrolled": true
   },
   "outputs": [
    {
     "data": {
      "text/plain": [
       "(array([[   0.,    0.,    0.,    0.,    0.,    0.,    0.,    0.,    0.,\n",
       "            0.,    0.,    0.,    0.,    0.,    0.,    0.,    0.,    0.,\n",
       "            0.,    0.,    0.,    0.,    0.,    0.,    0.],\n",
       "        [   0.,    0.,    0.,    0.,    0.,    0.,    0.,    0.,    0.,\n",
       "            0.,    0.,    0.,    0.,    0.,    0.,    0.,    0.,    0.,\n",
       "            0.,    0.,    0.,    0.,    0.,    0.,    0.],\n",
       "        [   0.,    0.,    0.,    0.,    0.,    0.,    0.,    0.,    0.,\n",
       "            0.,    0.,    0.,    0.,    0.,    0.,    0.,    0.,    0.,\n",
       "            0.,    0.,    0.,    0.,    0.,    0.,    0.],\n",
       "        [   0.,    0.,    0.,    0.,    0.,    0.,    0.,    0.,    0.,\n",
       "            0.,    0.,    0.,    0.,    0.,    0.,    0.,    0.,    0.,\n",
       "            0.,    0.,    0.,    0.,    0.,    0.,    0.],\n",
       "        [   0.,    0.,    0.,    0.,    0.,    0.,    0.,    0.,    0.,\n",
       "            0.,    0.,    0.,    0.,    0.,    0.,    0.,    0.,    0.,\n",
       "            0.,    0.,    0.,    0.,    0.,    0.,    0.],\n",
       "        [   0.,    0.,    0.,    0.,    0.,    0.,    0.,    0.,    0.,\n",
       "            0.,    0.,    0.,    0.,    0.,    0.,    0.,    0.,    0.,\n",
       "            0.,    0.,    0.,    0.,    0.,    0.,    0.],\n",
       "        [   0.,    0.,    0.,    0.,    0.,    0.,    0.,    0.,    0.,\n",
       "            0.,    0.,    0.,    0.,    0.,    0.,    0.,    0.,    0.,\n",
       "            0.,    0.,    0.,    0.,    0.,    0.,    0.],\n",
       "        [   0.,    0.,    0.,    0.,    0.,    0.,    0.,    0.,    0.,\n",
       "            0.,    0.,    0.,    0.,    0.,    0.,    0.,    0.,    0.,\n",
       "            0.,    0.,    0.,    0.,    0.,    0.,    0.],\n",
       "        [   0.,    0.,    0.,    0.,    0.,    0.,    0.,    0.,    0.,\n",
       "            0.,    0.,    0.,    0.,    0.,    0.,    0.,    0.,    0.,\n",
       "            0.,    0.,    0.,    0.,    0.,    0.,    0.],\n",
       "        [   0.,    0.,    0.,    0.,    0.,    0.,    0.,    0.,    0.,\n",
       "            0.,    0.,    0.,    0.,    0.,    0.,    0.,    0.,    0.,\n",
       "            0.,    0.,    0.,    0.,    0.,    0.,    0.],\n",
       "        [   0.,    0.,    0.,    0.,    0.,    0.,    0.,    0.,    0.,\n",
       "            0.,    0.,    0.,    0.,    0.,    0.,    0.,    0.,    0.,\n",
       "            0.,    0.,    0.,    0.,    0.,    0.,    0.],\n",
       "        [   0.,    0.,    0.,    0.,    0.,    0.,    0.,    0.,    0.,\n",
       "            0.,    0.,    0.,    0.,    0.,    0.,    0.,    0.,    0.,\n",
       "            0.,    0.,    0.,    0.,    0.,    0.,    0.],\n",
       "        [   0.,    0.,    0.,    0.,    0.,    0.,    0.,    0.,    0.,\n",
       "            0.,    0.,    0., 4000.,    0.,    0.,    0.,    0.,    0.,\n",
       "            0.,    0.,    0.,    0.,    0.,    0.,    0.],\n",
       "        [   0.,    0.,    0.,    0.,    0.,    0.,    0.,    0.,    0.,\n",
       "            0.,    0.,    0.,    0.,    0.,    0.,    0.,    0.,    0.,\n",
       "            0.,    0.,    0.,    0.,    0.,    0.,    0.],\n",
       "        [   0.,    0.,    0.,    0.,    0.,    0.,    0.,    0.,    0.,\n",
       "            0.,    0.,    0.,    0.,    0.,    0.,    0.,    0.,    0.,\n",
       "            0.,    0.,    0.,    0.,    0.,    0.,    0.],\n",
       "        [   0.,    0.,    0.,    0.,    0.,    0.,    0.,    0.,    0.,\n",
       "            0.,    0.,    0.,    0.,    0.,    0.,    0.,    0.,    0.,\n",
       "            0.,    0.,    0.,    0.,    0.,    0.,    0.],\n",
       "        [   0.,    0.,    0.,    0.,    0.,    0.,    0.,    0.,    0.,\n",
       "            0.,    0.,    0.,    0.,    0.,    0.,    0.,    0.,    0.,\n",
       "            0.,    0.,    0.,    0.,    0.,    0.,    0.],\n",
       "        [   0.,    0.,    0.,    0.,    0.,    0.,    0.,    0.,    0.,\n",
       "            0.,    0.,    0.,    0.,    0.,    0.,    0.,    0.,    0.,\n",
       "            0.,    0.,    0.,    0.,    0.,    0.,    0.],\n",
       "        [   0.,    0.,    0.,    0.,    0.,    0.,    0.,    0.,    0.,\n",
       "            0.,    0.,    0.,    0.,    0.,    0.,    0.,    0.,    0.,\n",
       "            0.,    0.,    0.,    0.,    0.,    0.,    0.],\n",
       "        [   0.,    0.,    0.,    0.,    0.,    0.,    0.,    0.,    0.,\n",
       "            0.,    0.,    0.,    0.,    0.,    0.,    0.,    0.,    0.,\n",
       "            0.,    0.,    0.,    0.,    0.,    0.,    0.],\n",
       "        [   0.,    0.,    0.,    0.,    0.,    0.,    0.,    0.,    0.,\n",
       "            0.,    0.,    0.,    0.,    0.,    0.,    0.,    0.,    0.,\n",
       "            0.,    0.,    0.,    0.,    0.,    0.,    0.],\n",
       "        [   0.,    0.,    0.,    0.,    0.,    0.,    0.,    0.,    0.,\n",
       "            0.,    0.,    0.,    0.,    0.,    0.,    0.,    0.,    0.,\n",
       "            0.,    0.,    0.,    0.,    0.,    0.,    0.],\n",
       "        [   0.,    0.,    0.,    0.,    0.,    0.,    0.,    0.,    0.,\n",
       "            0.,    0.,    0.,    0.,    0.,    0.,    0.,    0.,    0.,\n",
       "            0.,    0.,    0.,    0.,    0.,    0.,    0.],\n",
       "        [   0.,    0.,    0.,    0.,    0.,    0.,    0.,    0.,    0.,\n",
       "            0.,    0.,    0.,    0.,    0.,    0.,    0.,    0.,    0.,\n",
       "            0.,    0.,    0.,    0.,    0.,    0.,    0.],\n",
       "        [   0.,    0.,    0.,    0.,    0.,    0.,    0.,    0.,    0.,\n",
       "            0.,    0.,    0.,    0.,    0.,    0.,    0.,    0.,    0.,\n",
       "            0.,    0.,    0.,    0.,    0.,    0.,    0.]]),\n",
       " array([0.5112772, 0.5512772, 0.5912772, 0.6312772, 0.6712772, 0.7112772,\n",
       "        0.7512772, 0.7912772, 0.8312772, 0.8712772, 0.9112772, 0.9512772,\n",
       "        0.9912772, 1.0312772, 1.0712772, 1.1112772, 1.1512772, 1.1912772,\n",
       "        1.2312772, 1.2712772, 1.3112772, 1.3512772, 1.3912772, 1.4312772,\n",
       "        1.4712772, 1.5112772]),\n",
       " array([0.50090837, 0.54090837, 0.58090837, 0.62090837, 0.66090837,\n",
       "        0.70090837, 0.74090837, 0.78090837, 0.82090837, 0.86090837,\n",
       "        0.90090837, 0.94090837, 0.98090837, 1.02090837, 1.06090837,\n",
       "        1.10090837, 1.14090837, 1.18090837, 1.22090837, 1.26090837,\n",
       "        1.30090837, 1.34090837, 1.38090837, 1.42090837, 1.46090837,\n",
       "        1.50090837]),\n",
       " <matplotlib.collections.QuadMesh at 0x7f639c1e0ca0>)"
      ]
     },
     "execution_count": 14,
     "metadata": {},
     "output_type": "execute_result"
    },
    {
     "data": {
      "image/png": "[encoded data removed]",
      "text/plain": [
       "<Figure size 432x288 with 1 Axes>"
      ]
     },
     "metadata": {
      "needs_background": "light"
     },
     "output_type": "display_data"
    }
   ],
   "source": [
    "plt.hist2d(a, b, bins=25)"
   ]
  },
  {
   "cell_type": "code",
   "execution_count": 15,
   "id": "59140663",
   "metadata": {},
   "outputs": [],
   "source": [
    "stats_gen_x = stats_dist(a, prnt=False)\n",
    "stats_gen_y = stats_dist(b, prnt=False)\n",
    "\n",
    "stats_or_x = stats_dist(x[:, :1].reshape(4000,), prnt=False)\n",
    "stats_or_y = stats_dist(x[:, 1:2].reshape(4000,), prnt=False)"
   ]
  },
  {
   "cell_type": "code",
   "execution_count": 16,
   "id": "8b888f18",
   "metadata": {
    "scrolled": true
   },
   "outputs": [
    {
     "data": {
      "text/html": [
       "<style type=\"text/css\">\n",
       "#T_975df_row0_col0, #T_975df_row1_col0, #T_975df_row2_col0, #T_975df_row3_col0 {\n",
       "  font-weight: bold;\n",
       "}\n",
       "</style>\n",
       "<table id=\"T_975df_\">\n",
       "  <thead>\n",
       "    <tr>\n",
       "      <th class=\"blank level0\" >&nbsp;</th>\n",
       "      <th class=\"col_heading level0 col0\" > </th>\n",
       "      <th class=\"col_heading level0 col1\" >original_x_dim</th>\n",
       "      <th class=\"col_heading level0 col2\" >generated_x_dim</th>\n",
       "      <th class=\"col_heading level0 col3\" >original_y_dim</th>\n",
       "      <th class=\"col_heading level0 col4\" >generated_y_dim</th>\n",
       "    </tr>\n",
       "  </thead>\n",
       "  <tbody>\n",
       "    <tr>\n",
       "      <th id=\"T_975df_level0_row0\" class=\"row_heading level0 row0\" >0</th>\n",
       "      <td id=\"T_975df_row0_col0\" class=\"data row0 col0\" >Mean:</td>\n",
       "      <td id=\"T_975df_row0_col1\" class=\"data row0 col1\" >1.000000</td>\n",
       "      <td id=\"T_975df_row0_col2\" class=\"data row0 col2\" >1.011277</td>\n",
       "      <td id=\"T_975df_row0_col3\" class=\"data row0 col3\" >1.000000</td>\n",
       "      <td id=\"T_975df_row0_col4\" class=\"data row0 col4\" >1.000908</td>\n",
       "    </tr>\n",
       "    <tr>\n",
       "      <th id=\"T_975df_level0_row1\" class=\"row_heading level0 row1\" >1</th>\n",
       "      <td id=\"T_975df_row1_col0\" class=\"data row1 col0\" >Standard Deviation:</td>\n",
       "      <td id=\"T_975df_row1_col1\" class=\"data row1 col1\" >0.000000</td>\n",
       "      <td id=\"T_975df_row1_col2\" class=\"data row1 col2\" >0.000000</td>\n",
       "      <td id=\"T_975df_row1_col3\" class=\"data row1 col3\" >0.000000</td>\n",
       "      <td id=\"T_975df_row1_col4\" class=\"data row1 col4\" >0.000000</td>\n",
       "    </tr>\n",
       "    <tr>\n",
       "      <th id=\"T_975df_level0_row2\" class=\"row_heading level0 row2\" >2</th>\n",
       "      <td id=\"T_975df_row2_col0\" class=\"data row2 col0\" > Variance:</td>\n",
       "      <td id=\"T_975df_row2_col1\" class=\"data row2 col1\" >0.000000</td>\n",
       "      <td id=\"T_975df_row2_col2\" class=\"data row2 col2\" >0.000000</td>\n",
       "      <td id=\"T_975df_row2_col3\" class=\"data row2 col3\" >0.000000</td>\n",
       "      <td id=\"T_975df_row2_col4\" class=\"data row2 col4\" >0.000000</td>\n",
       "    </tr>\n",
       "    <tr>\n",
       "      <th id=\"T_975df_level0_row3\" class=\"row_heading level0 row3\" >3</th>\n",
       "      <td id=\"T_975df_row3_col0\" class=\"data row3 col0\" >Covariance:</td>\n",
       "      <td id=\"T_975df_row3_col1\" class=\"data row3 col1\" >0.000000</td>\n",
       "      <td id=\"T_975df_row3_col2\" class=\"data row3 col2\" >0.000000</td>\n",
       "      <td id=\"T_975df_row3_col3\" class=\"data row3 col3\" >0.000000</td>\n",
       "      <td id=\"T_975df_row3_col4\" class=\"data row3 col4\" >0.000000</td>\n",
       "    </tr>\n",
       "  </tbody>\n",
       "</table>\n"
      ],
      "text/plain": [
       "<pandas.io.formats.style.Styler at 0x7f639c13d2e0>"
      ]
     },
     "execution_count": 16,
     "metadata": {},
     "output_type": "execute_result"
    }
   ],
   "source": [
    "stats_df = df_generator(stats_or_x,\n",
    "                        stats_gen_x,\n",
    "                        stats_or_y,\n",
    "                        stats_gen_y,\n",
    "                        np.array([\"Mean:\", \"Standard Deviation:\",\n",
    "                                  \" Variance:\", \"Covariance:\"]),\n",
    "                        df_style)\n",
    "\n",
    "stats_df"
   ]
  },
  {
   "cell_type": "code",
   "execution_count": 17,
   "id": "8f10586c",
   "metadata": {},
   "outputs": [
    {
     "data": {
      "text/plain": [
       "0.5087008503323887"
      ]
     },
     "execution_count": 17,
     "metadata": {},
     "output_type": "execute_result"
    }
   ],
   "source": [
    "# OpenCV function that compares 2 histograms, here specifically using the chi_square method to compute the distance\n",
    "cv2.compareHist(x[:, :1].reshape(4000,), a, cv2.HISTCMP_CHISQR)"
   ]
  },
  {
   "cell_type": "code",
   "execution_count": 18,
   "id": "24f5c944",
   "metadata": {},
   "outputs": [
    {
     "name": "stdout",
     "output_type": "stream",
     "text": [
      "0.0\n"
     ]
    },
    {
     "data": {
      "image/png": "[encoded data removed]",
      "text/plain": [
       "<Figure size 432x288 with 1 Axes>"
      ]
     },
     "metadata": {
      "needs_background": "light"
     },
     "output_type": "display_data"
    }
   ],
   "source": [
    "np_sample_1 = np.random.normal(stats_gen_x[0], stats_gen_x[1], 4000).astype(\"float32\")\n",
    "\n",
    "plt.hist(a, alpha=0.7, bins=30, label=\"Simulated Distribution x-axis\")\n",
    "plt.hist(np_sample_1, alpha=0.4, bins=30, label=\"Numpy generated distribution (same parameters)\")\n",
    "plt.legend()\n",
    "\n",
    "print(cv2.compareHist(a, np_sample_1, cv2.HISTCMP_CHISQR))"
   ]
  },
  {
   "cell_type": "code",
   "execution_count": 19,
   "id": "598516fe",
   "metadata": {},
   "outputs": [
    {
     "name": "stdout",
     "output_type": "stream",
     "text": [
      "4.698530124603476e-10\n"
     ]
    },
    {
     "data": {
      "image/png": "[encoded data removed]",
      "text/plain": [
       "<Figure size 432x288 with 1 Axes>"
      ]
     },
     "metadata": {
      "needs_background": "light"
     },
     "output_type": "display_data"
    }
   ],
   "source": [
    "np_sample_2 = np.random.normal(stats_gen_y[0], stats_gen_y[1], 4000).astype(\"float32\")\n",
    "\n",
    "plt.hist(b, alpha=0.7, bins=30, label=\"Simulated Distribution y-axis\")\n",
    "plt.hist(np_sample_2, alpha=0.4, bins=30, label=\"Numpy generated distribution (same parameters)\")\n",
    "plt.legend()\n",
    "\n",
    "print(cv2.compareHist(b, np_sample_2, cv2.HISTCMP_CHISQR))"
   ]
  },
  {
   "cell_type": "raw",
   "id": "ba10c3d6",
   "metadata": {},
   "source": [
    "Experiment N(1, 0):\n",
    "- Good convergence but a slight std deviation -> with 2 Binary crossentropy loss function D(25, 1), G(100, 10, 2), selu, 300 epochs\n",
    "\n",
    "- Same results -> same setup, relu instead\n",
    "\n",
    "- Good convergence, bad distributions when compared to numpy generation -> same setup, D(50, 1)\n",
    "\n",
    "- D too complex D(100, 10, 1) makes the generator have large loss, generated distributions wrong mean correct std.\n",
    "\n",
    "- D(10, 10, 1) decent convergence (pretty good actually), correct mean, however non-zero std. When we look at the generated distributions compared to numpy generated distributions, virtually 0 chi-squared.\n",
    "\n",
    "- Really similar results (slightly worse) with D(50, 10, 1)\n",
    "\n",
    "- G(100, 2) gives non-zero std good convergence and probability of fake preds seems to be tending to 0.5 eventually (more epochs might be helpful)\n",
    "\n",
    "- G(10, 10, 2), non-zero std, good convergence, really accurate mean and good chi-square with numpy generated\n",
    "\n",
    "- Best results since the start of the recording, 0 std, mean fairly close to +-0.01 - G(10, 10, 2), D(50, 10, 1), 300 epochs, relu for all activation functions, chi-square = 8\n",
    "\n",
    "- Repeated the experiment for consistency check, the mean gets closer as the number of epochs increases (500 epocs currently), let's try 1000\n",
    "\n",
    "- The mean shifted from being to the right to being to the left...\n",
    "\n",
    "- Changed D -> D(20, 10, 1) improved performance for 1000 epochs, std still 0, mean gets closer, virtually the same mean for y-dimension\n",
    "\n",
    "- Again, even better results currently, only parameter changed was D -> D(15, 10, 1) there seems to be a pattern that improves the model as the number of hidden neurons in the first layer goes down to a point.\n",
    "\n",
    "- Nicest convergence plot so far, however, the means seem to have a bigger offeset. This time D(10, 10, 1) was used.\n",
    "\n",
    "- Reducing the number of epochs to 750 does not seem to change performance.\n",
    "\n",
    "- Sweet spot D(15, 10, 1), G(10, 10, 2), 1000 epochs"
   ]
  }
 ],
 "metadata": {
  "kernelspec": {
   "display_name": "Python 3 (ipykernel)",
   "language": "python",
   "name": "python3"
  },
  "language_info": {
   "codemirror_mode": {
    "name": "ipython",
    "version": 3
   },
   "file_extension": ".py",
   "mimetype": "text/x-python",
   "name": "python",
   "nbconvert_exporter": "python",
   "pygments_lexer": "ipython3",
   "version": "3.9.7"
  }
 },
 "nbformat": 4,
 "nbformat_minor": 5
}
