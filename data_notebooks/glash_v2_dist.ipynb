{
 "cells": [
  {
   "cell_type": "code",
   "execution_count": 1,
   "id": "1d353efd",
   "metadata": {},
   "outputs": [
    {
     "name": "stderr",
     "output_type": "stream",
     "text": [
      "2021-12-20 02:10:53.576969: I tensorflow/stream_executor/platform/default/dso_loader.cc:49] Successfully opened dynamic library libcudart.so.10.1\n"
     ]
    }
   ],
   "source": [
    "import numpy as np\n",
    "import matplotlib.pyplot as plt\n",
    "import pandas as pd\n",
    "import sys\n",
    "import tensorflow as tf\n",
    "import os\n",
    "\n",
    "os.environ['TF_CPP_MIN_LOG_LEVEL'] = '3'  # or any {'0', '1', '2'}\n",
    "sys.path.append('../')\n",
    "tf.random.set_seed(42)\n",
    "\n",
    "from helpers import *\n",
    "from glash_v2 import glash_discriminator, glash_generator, Glash"
   ]
  },
  {
   "cell_type": "code",
   "execution_count": 2,
   "id": "4202d56d",
   "metadata": {},
   "outputs": [],
   "source": [
    "mean = (1, 1)\n",
    "cov = [[1, 0], [0, 1]] # Should be symmetric\n",
    "x = np.random.multivariate_normal(mean, cov, 1000).astype('float32')"
   ]
  },
  {
   "cell_type": "code",
   "execution_count": 3,
   "id": "274e06ab",
   "metadata": {
    "scrolled": true
   },
   "outputs": [
    {
     "data": {
      "text/plain": [
       "(array([[0., 0., 0., ..., 0., 0., 0.],\n",
       "        [0., 0., 0., ..., 0., 0., 0.],\n",
       "        [0., 0., 0., ..., 0., 0., 0.],\n",
       "        ...,\n",
       "        [0., 0., 0., ..., 0., 0., 0.],\n",
       "        [0., 0., 0., ..., 0., 0., 0.],\n",
       "        [0., 0., 0., ..., 0., 0., 0.]]),\n",
       " array([-2.02701664, -1.97128391, -1.91555118, -1.85981844, -1.80408571,\n",
       "        -1.74835298, -1.69262025, -1.63688752, -1.58115479, -1.52542205,\n",
       "        -1.46968932, -1.41395659, -1.35822386, -1.30249113, -1.24675839,\n",
       "        -1.19102566, -1.13529293, -1.0795602 , -1.02382747, -0.96809474,\n",
       "        -0.912362  , -0.85662927, -0.80089654, -0.74516381, -0.68943108,\n",
       "        -0.63369834, -0.57796561, -0.52223288, -0.46650015, -0.41076742,\n",
       "        -0.35503469, -0.29930195, -0.24356922, -0.18783649, -0.13210376,\n",
       "        -0.07637103, -0.02063829,  0.03509444,  0.09082717,  0.1465599 ,\n",
       "         0.20229263,  0.25802536,  0.3137581 ,  0.36949083,  0.42522356,\n",
       "         0.48095629,  0.53668902,  0.59242176,  0.64815449,  0.70388722,\n",
       "         0.75961995,  0.81535268,  0.87108541,  0.92681815,  0.98255088,\n",
       "         1.03828361,  1.09401634,  1.14974907,  1.20548181,  1.26121454,\n",
       "         1.31694727,  1.37268   ,  1.42841273,  1.48414546,  1.5398782 ,\n",
       "         1.59561093,  1.65134366,  1.70707639,  1.76280912,  1.81854186,\n",
       "         1.87427459,  1.93000732,  1.98574005,  2.04147278,  2.09720551,\n",
       "         2.15293825,  2.20867098,  2.26440371,  2.32013644,  2.37586917,\n",
       "         2.43160191,  2.48733464,  2.54306737,  2.5988001 ,  2.65453283,\n",
       "         2.71026556,  2.7659983 ,  2.82173103,  2.87746376,  2.93319649,\n",
       "         2.98892922,  3.04466196,  3.10039469,  3.15612742,  3.21186015,\n",
       "         3.26759288,  3.32332561,  3.37905835,  3.43479108,  3.49052381,\n",
       "         3.54625654]),\n",
       " array([-1.88938344, -1.83119606, -1.77300869, -1.71482131, -1.65663394,\n",
       "        -1.59844657, -1.54025919, -1.48207182, -1.42388444, -1.36569707,\n",
       "        -1.3075097 , -1.24932232, -1.19113495, -1.13294757, -1.0747602 ,\n",
       "        -1.01657283, -0.95838545, -0.90019808, -0.84201071, -0.78382333,\n",
       "        -0.72563596, -0.66744858, -0.60926121, -0.55107384, -0.49288646,\n",
       "        -0.43469909, -0.37651171, -0.31832434, -0.26013697, -0.20194959,\n",
       "        -0.14376222, -0.08557485, -0.02738747,  0.0307999 ,  0.08898728,\n",
       "         0.14717465,  0.20536202,  0.2635494 ,  0.32173677,  0.37992415,\n",
       "         0.43811152,  0.49629889,  0.55448627,  0.61267364,  0.67086102,\n",
       "         0.72904839,  0.78723576,  0.84542314,  0.90361051,  0.96179788,\n",
       "         1.01998526,  1.07817263,  1.13636001,  1.19454738,  1.25273475,\n",
       "         1.31092213,  1.3691095 ,  1.42729688,  1.48548425,  1.54367162,\n",
       "         1.601859  ,  1.66004637,  1.71823375,  1.77642112,  1.83460849,\n",
       "         1.89279587,  1.95098324,  2.00917061,  2.06735799,  2.12554536,\n",
       "         2.18373274,  2.24192011,  2.30010748,  2.35829486,  2.41648223,\n",
       "         2.47466961,  2.53285698,  2.59104435,  2.64923173,  2.7074191 ,\n",
       "         2.76560647,  2.82379385,  2.88198122,  2.9401686 ,  2.99835597,\n",
       "         3.05654334,  3.11473072,  3.17291809,  3.23110547,  3.28929284,\n",
       "         3.34748021,  3.40566759,  3.46385496,  3.52204234,  3.58022971,\n",
       "         3.63841708,  3.69660446,  3.75479183,  3.8129792 ,  3.87116658,\n",
       "         3.92935395]),\n",
       " <matplotlib.collections.QuadMesh at 0x7fa1afa65430>)"
      ]
     },
     "execution_count": 3,
     "metadata": {},
     "output_type": "execute_result"
    },
    {
     "data": {
      "image/png": "[encoded data removed]",
      "text/plain": [
       "<Figure size 432x288 with 1 Axes>"
      ]
     },
     "metadata": {
      "needs_background": "light"
     },
     "output_type": "display_data"
    }
   ],
   "source": [
    "plt.hist2d(x[:, :1].reshape(1000,), x[:, 1:2].reshape(1000,), bins=100)"
   ]
  },
  {
   "cell_type": "code",
   "execution_count": 4,
   "id": "c9066aed",
   "metadata": {
    "scrolled": true
   },
   "outputs": [
    {
     "name": "stderr",
     "output_type": "stream",
     "text": [
      "2021-12-20 02:10:55.061125: I tensorflow/compiler/jit/xla_cpu_device.cc:41] Not creating XLA devices, tf_xla_enable_xla_devices not set\n",
      "2021-12-20 02:10:55.062028: I tensorflow/stream_executor/platform/default/dso_loader.cc:49] Successfully opened dynamic library libcuda.so.1\n",
      "2021-12-20 02:10:55.122332: I tensorflow/stream_executor/cuda/cuda_gpu_executor.cc:941] successful NUMA node read from SysFS had negative value (-1), but there must be at least one NUMA node, so returning NUMA node zero\n",
      "2021-12-20 02:10:55.122966: I tensorflow/core/common_runtime/gpu/gpu_device.cc:1720] Found device 0 with properties: \n",
      "pciBusID: 0000:01:00.0 name: NVIDIA GeForce RTX 2060 computeCapability: 7.5\n",
      "coreClock: 1.2GHz coreCount: 30 deviceMemorySize: 5.79GiB deviceMemoryBandwidth: 312.97GiB/s\n",
      "2021-12-20 02:10:55.122995: I tensorflow/stream_executor/platform/default/dso_loader.cc:49] Successfully opened dynamic library libcudart.so.10.1\n",
      "2021-12-20 02:10:55.124407: I tensorflow/stream_executor/platform/default/dso_loader.cc:49] Successfully opened dynamic library libcublas.so.10\n",
      "2021-12-20 02:10:55.124488: I tensorflow/stream_executor/platform/default/dso_loader.cc:49] Successfully opened dynamic library libcublasLt.so.10\n",
      "2021-12-20 02:10:55.125963: I tensorflow/stream_executor/platform/default/dso_loader.cc:49] Successfully opened dynamic library libcufft.so.10\n",
      "2021-12-20 02:10:55.126257: I tensorflow/stream_executor/platform/default/dso_loader.cc:49] Successfully opened dynamic library libcurand.so.10\n",
      "2021-12-20 02:10:55.127894: I tensorflow/stream_executor/platform/default/dso_loader.cc:49] Successfully opened dynamic library libcusolver.so.10\n",
      "2021-12-20 02:10:55.128853: I tensorflow/stream_executor/platform/default/dso_loader.cc:49] Successfully opened dynamic library libcusparse.so.10\n",
      "2021-12-20 02:10:55.132170: I tensorflow/stream_executor/platform/default/dso_loader.cc:49] Successfully opened dynamic library libcudnn.so.7\n",
      "2021-12-20 02:10:55.132315: I tensorflow/stream_executor/cuda/cuda_gpu_executor.cc:941] successful NUMA node read from SysFS had negative value (-1), but there must be at least one NUMA node, so returning NUMA node zero\n",
      "2021-12-20 02:10:55.132763: I tensorflow/stream_executor/cuda/cuda_gpu_executor.cc:941] successful NUMA node read from SysFS had negative value (-1), but there must be at least one NUMA node, so returning NUMA node zero\n",
      "2021-12-20 02:10:55.133121: I tensorflow/core/common_runtime/gpu/gpu_device.cc:1862] Adding visible gpu devices: 0\n",
      "2021-12-20 02:10:55.133629: I tensorflow/core/platform/cpu_feature_guard.cc:142] This TensorFlow binary is optimized with oneAPI Deep Neural Network Library (oneDNN) to use the following CPU instructions in performance-critical operations:  SSE4.1 SSE4.2 AVX AVX2 FMA\n",
      "To enable them in other operations, rebuild TensorFlow with the appropriate compiler flags.\n",
      "2021-12-20 02:10:55.134273: I tensorflow/stream_executor/cuda/cuda_gpu_executor.cc:941] successful NUMA node read from SysFS had negative value (-1), but there must be at least one NUMA node, so returning NUMA node zero\n",
      "2021-12-20 02:10:55.134637: I tensorflow/core/common_runtime/gpu/gpu_device.cc:1720] Found device 0 with properties: \n",
      "pciBusID: 0000:01:00.0 name: NVIDIA GeForce RTX 2060 computeCapability: 7.5\n",
      "coreClock: 1.2GHz coreCount: 30 deviceMemorySize: 5.79GiB deviceMemoryBandwidth: 312.97GiB/s\n",
      "2021-12-20 02:10:55.134675: I tensorflow/stream_executor/platform/default/dso_loader.cc:49] Successfully opened dynamic library libcudart.so.10.1\n",
      "2021-12-20 02:10:55.134699: I tensorflow/stream_executor/platform/default/dso_loader.cc:49] Successfully opened dynamic library libcublas.so.10\n",
      "2021-12-20 02:10:55.134714: I tensorflow/stream_executor/platform/default/dso_loader.cc:49] Successfully opened dynamic library libcublasLt.so.10\n",
      "2021-12-20 02:10:55.134727: I tensorflow/stream_executor/platform/default/dso_loader.cc:49] Successfully opened dynamic library libcufft.so.10\n",
      "2021-12-20 02:10:55.134740: I tensorflow/stream_executor/platform/default/dso_loader.cc:49] Successfully opened dynamic library libcurand.so.10\n",
      "2021-12-20 02:10:55.134753: I tensorflow/stream_executor/platform/default/dso_loader.cc:49] Successfully opened dynamic library libcusolver.so.10\n",
      "2021-12-20 02:10:55.134766: I tensorflow/stream_executor/platform/default/dso_loader.cc:49] Successfully opened dynamic library libcusparse.so.10\n",
      "2021-12-20 02:10:55.134783: I tensorflow/stream_executor/platform/default/dso_loader.cc:49] Successfully opened dynamic library libcudnn.so.7\n",
      "2021-12-20 02:10:55.134840: I tensorflow/stream_executor/cuda/cuda_gpu_executor.cc:941] successful NUMA node read from SysFS had negative value (-1), but there must be at least one NUMA node, so returning NUMA node zero\n",
      "2021-12-20 02:10:55.135175: I tensorflow/stream_executor/cuda/cuda_gpu_executor.cc:941] successful NUMA node read from SysFS had negative value (-1), but there must be at least one NUMA node, so returning NUMA node zero\n",
      "2021-12-20 02:10:55.135464: I tensorflow/core/common_runtime/gpu/gpu_device.cc:1862] Adding visible gpu devices: 0\n",
      "2021-12-20 02:10:55.135499: I tensorflow/stream_executor/platform/default/dso_loader.cc:49] Successfully opened dynamic library libcudart.so.10.1\n",
      "2021-12-20 02:10:55.701489: I tensorflow/core/common_runtime/gpu/gpu_device.cc:1261] Device interconnect StreamExecutor with strength 1 edge matrix:\n",
      "2021-12-20 02:10:55.701517: I tensorflow/core/common_runtime/gpu/gpu_device.cc:1267]      0 \n",
      "2021-12-20 02:10:55.701523: I tensorflow/core/common_runtime/gpu/gpu_device.cc:1280] 0:   N \n",
      "2021-12-20 02:10:55.701714: I tensorflow/stream_executor/cuda/cuda_gpu_executor.cc:941] successful NUMA node read from SysFS had negative value (-1), but there must be at least one NUMA node, so returning NUMA node zero\n",
      "2021-12-20 02:10:55.702156: I tensorflow/stream_executor/cuda/cuda_gpu_executor.cc:941] successful NUMA node read from SysFS had negative value (-1), but there must be at least one NUMA node, so returning NUMA node zero\n",
      "2021-12-20 02:10:55.702495: I tensorflow/stream_executor/cuda/cuda_gpu_executor.cc:941] successful NUMA node read from SysFS had negative value (-1), but there must be at least one NUMA node, so returning NUMA node zero\n",
      "2021-12-20 02:10:55.702806: I tensorflow/core/common_runtime/gpu/gpu_device.cc:1406] Created TensorFlow device (/job:localhost/replica:0/task:0/device:GPU:0 with 4830 MB memory) -> physical GPU (device: 0, name: NVIDIA GeForce RTX 2060, pci bus id: 0000:01:00.0, compute capability: 7.5)\n",
      "2021-12-20 02:10:55.703077: I tensorflow/compiler/jit/xla_gpu_device.cc:99] Not creating XLA devices, tf_xla_enable_xla_devices not set\n"
     ]
    }
   ],
   "source": [
    "train_data = tf.data.Dataset.from_tensor_slices(x)\n",
    "train_data = train_data.batch(64).prefetch(32)"
   ]
  },
  {
   "cell_type": "code",
   "execution_count": 5,
   "id": "d5e69c9d",
   "metadata": {},
   "outputs": [],
   "source": [
    "glash = Glash(glash_discriminator(), glash_generator())\n",
    "glash.compile(\n",
    "    tf.keras.optimizers.Adam(),\n",
    "    tf.keras.optimizers.Adam(),\n",
    "    tf.keras.losses.BinaryCrossentropy(from_logits=True)\n",
    ")"
   ]
  },
  {
   "cell_type": "code",
   "execution_count": 6,
   "id": "d83e5712",
   "metadata": {},
   "outputs": [
    {
     "name": "stderr",
     "output_type": "stream",
     "text": [
      "2021-12-20 02:10:56.410219: I tensorflow/compiler/mlir/mlir_graph_optimization_pass.cc:116] None of the MLIR optimization passes are enabled (registered 2)\n",
      "2021-12-20 02:10:56.436163: I tensorflow/core/platform/profile_utils/cpu_utils.cc:112] CPU Frequency: 2199995000 Hz\n",
      "2021-12-20 02:10:56.541772: I tensorflow/stream_executor/platform/default/dso_loader.cc:49] Successfully opened dynamic library libcublas.so.10\n"
     ]
    }
   ],
   "source": [
    "generated_point_list = []\n",
    "\n",
    "cbk = tf.keras.callbacks.LambdaCallback(on_epoch_end=lambda epoch, logs: show_samples(generated_point_list, epoch, glash.generator, x))\n",
    "\n",
    "history = glash.fit(train_data, epochs=5000, callbacks=[cbk], verbose=False)"
   ]
  },
  {
   "cell_type": "code",
   "execution_count": 7,
   "id": "45c5c256",
   "metadata": {},
   "outputs": [
    {
     "data": {
      "text/plain": [
       "<matplotlib.legend.Legend at 0x7fa1af99fd30>"
      ]
     },
     "execution_count": 7,
     "metadata": {},
     "output_type": "execute_result"
    },
    {
     "data": {
      "image/png": "[encoded data removed]",
      "text/plain": [
       "<Figure size 432x288 with 1 Axes>"
      ]
     },
     "metadata": {
      "needs_background": "light"
     },
     "output_type": "display_data"
    }
   ],
   "source": [
    "plt.plot(history.history['d_loss'], color='blue', label='disriminator loss')\n",
    "plt.plot(history.history['g_loss'], color='red', label='generator loss')\n",
    "plt.xlabel('Epochs')\n",
    "plt.ylabel('Losses')\n",
    "plt.legend()"
   ]
  },
  {
   "cell_type": "code",
   "execution_count": 8,
   "id": "6a52ced0",
   "metadata": {},
   "outputs": [
    {
     "data": {
      "text/plain": [
       "(1000, 2)"
      ]
     },
     "execution_count": 8,
     "metadata": {},
     "output_type": "execute_result"
    }
   ],
   "source": [
    "noise = toy_data(1000, 0, 1).astype('float32')\n",
    "noise.shape"
   ]
  },
  {
   "cell_type": "code",
   "execution_count": 9,
   "id": "b25bd722",
   "metadata": {},
   "outputs": [
    {
     "data": {
      "text/plain": [
       "array([[0.60622157, 0.11421469, 0.94804511, 0.62059515, 0.3258435 ],\n",
       "       [0.38346833, 0.72170837, 0.72934857, 0.13929412, 0.44079807],\n",
       "       [0.15924471, 0.80646265, 0.50176984, 0.32632987, 0.34119563],\n",
       "       ...,\n",
       "       [0.84350303, 0.35437462, 0.94115995, 0.31049884, 0.22558759],\n",
       "       [0.68985906, 0.81841708, 0.1118652 , 0.8422504 , 0.26400699],\n",
       "       [0.04983252, 0.97989193, 0.95208462, 0.91225833, 0.38993861]])"
      ]
     },
     "execution_count": 9,
     "metadata": {},
     "output_type": "execute_result"
    }
   ],
   "source": [
    "np.random.uniform(0,1,(1000,5))"
   ]
  },
  {
   "cell_type": "code",
   "execution_count": 10,
   "id": "b377de56",
   "metadata": {
    "scrolled": true
   },
   "outputs": [
    {
     "data": {
      "text/plain": [
       "(array([[ 0.,  0.,  0.,  0.,  0.,  0.,  0.,  0.,  1.,  1.,  1.,  3.,  2.,\n",
       "          2.,  1.,  3.,  5.,  4.,  9.,  1.,  1.,  2.,  0.,  0.,  0.],\n",
       "        [ 0.,  0.,  0.,  0.,  0.,  0.,  0.,  0.,  0.,  0.,  4.,  0.,  4.,\n",
       "          1.,  1.,  1.,  1.,  1.,  2.,  0.,  4.,  2.,  0.,  0.,  0.],\n",
       "        [ 0.,  0.,  0.,  0.,  0.,  0.,  1.,  1.,  0.,  1.,  0.,  1.,  5.,\n",
       "          2.,  4.,  3.,  2.,  5.,  2.,  2.,  2.,  0.,  2.,  0.,  1.],\n",
       "        [ 0.,  0.,  0.,  0.,  0.,  0.,  2.,  0.,  0.,  2.,  0.,  4.,  4.,\n",
       "          2.,  5.,  4.,  2.,  3.,  3.,  4.,  0.,  0.,  0.,  0.,  1.],\n",
       "        [ 0.,  1.,  1.,  0.,  1.,  0.,  2.,  0.,  0.,  1.,  0.,  2.,  4.,\n",
       "          2.,  3.,  2.,  3.,  2.,  2.,  2.,  0.,  0.,  2.,  0.,  1.],\n",
       "        [ 0.,  0.,  0.,  1.,  0.,  1.,  1.,  0.,  4.,  0.,  4.,  2.,  1.,\n",
       "          3., 10.,  5.,  6.,  5.,  2.,  3.,  2.,  2.,  2.,  0.,  0.],\n",
       "        [ 0.,  0.,  4.,  2.,  1.,  0.,  1.,  2.,  3.,  3.,  1.,  5.,  7.,\n",
       "          3.,  7.,  1.,  3.,  5.,  2.,  4.,  1.,  3.,  3.,  1.,  0.],\n",
       "        [ 0.,  1.,  1.,  1.,  4.,  4.,  3.,  4.,  3.,  3.,  2.,  4.,  3.,\n",
       "          9.,  3.,  3.,  2.,  4.,  0.,  1.,  1.,  2.,  2.,  2.,  0.],\n",
       "        [ 1.,  2.,  0.,  4.,  1.,  3.,  4.,  1.,  5.,  3.,  8.,  4.,  5.,\n",
       "          5.,  4.,  7.,  2.,  4.,  1.,  4.,  1.,  4.,  1.,  2.,  0.],\n",
       "        [ 3.,  2.,  1.,  5.,  1.,  2.,  3., 11.,  5.,  5.,  4.,  4.,  8.,\n",
       "          8.,  1.,  2.,  5.,  4.,  7.,  3.,  1.,  1.,  2.,  0.,  0.],\n",
       "        [ 1.,  1.,  6.,  5.,  2.,  4.,  2.,  2.,  5.,  7.,  2.,  4.,  3.,\n",
       "          4.,  3.,  5.,  4.,  3.,  2.,  5.,  2.,  2.,  2.,  0.,  1.],\n",
       "        [ 1.,  4.,  0.,  4.,  3.,  4.,  2.,  6.,  6.,  6.,  4.,  2.,  4.,\n",
       "          8.,  3.,  3.,  4.,  3.,  2.,  1.,  2.,  0.,  1.,  1.,  0.],\n",
       "        [ 2.,  2.,  1.,  3.,  2.,  2.,  5.,  6.,  4.,  4.,  8.,  5.,  6.,\n",
       "          2.,  3.,  2.,  1.,  1.,  2.,  1.,  1.,  1.,  0.,  0.,  0.],\n",
       "        [ 1.,  1.,  2.,  1.,  3.,  4.,  1.,  0.,  5.,  3.,  5.,  4.,  4.,\n",
       "          4.,  3.,  2.,  2.,  2.,  1.,  1.,  0.,  2.,  0.,  1.,  0.],\n",
       "        [ 2.,  2.,  4.,  2.,  2.,  5.,  4.,  2.,  5.,  5.,  5.,  6.,  2.,\n",
       "          5.,  2.,  0.,  1.,  0.,  2.,  1.,  0.,  1.,  1.,  0.,  0.],\n",
       "        [ 2.,  2.,  1.,  2.,  5., 10.,  8.,  6.,  6.,  8.,  4.,  2.,  6.,\n",
       "          2.,  2.,  0.,  1.,  2.,  0.,  1.,  2.,  3.,  0.,  0.,  0.],\n",
       "        [ 0.,  0.,  0.,  0.,  3.,  2.,  1.,  0.,  4.,  4.,  6.,  2.,  1.,\n",
       "          5.,  0.,  1.,  0.,  1.,  0.,  1.,  0.,  1.,  0.,  0.,  0.],\n",
       "        [ 0.,  0.,  1.,  2.,  2.,  3.,  1.,  2.,  2.,  2.,  1.,  2.,  2.,\n",
       "          1.,  0.,  0.,  0.,  0.,  0.,  0.,  0.,  0.,  0.,  0.,  0.],\n",
       "        [ 0.,  0.,  0.,  0.,  0.,  1.,  1.,  3.,  1.,  0.,  0.,  2.,  1.,\n",
       "          1.,  2.,  0.,  0.,  0.,  0.,  0.,  0.,  0.,  0.,  0.,  0.],\n",
       "        [ 0.,  0.,  1.,  3.,  0.,  0.,  1.,  2.,  0.,  2.,  1.,  0.,  0.,\n",
       "          0.,  2.,  0.,  1.,  0.,  0.,  0.,  0.,  0.,  0.,  0.,  0.],\n",
       "        [ 0.,  0.,  0.,  1.,  0.,  0.,  0.,  0.,  0.,  0.,  1.,  1.,  0.,\n",
       "          0.,  0.,  0.,  0.,  0.,  0.,  0.,  0.,  0.,  0.,  0.,  0.],\n",
       "        [ 0.,  0.,  0.,  0.,  0.,  0.,  1.,  1.,  0.,  1.,  0.,  1.,  0.,\n",
       "          1.,  0.,  0.,  0.,  0.,  0.,  0.,  0.,  0.,  0.,  0.,  0.],\n",
       "        [ 0.,  0.,  0.,  0.,  0.,  1.,  1.,  0.,  1.,  2.,  0.,  1.,  1.,\n",
       "          0.,  0.,  1.,  1.,  0.,  0.,  0.,  0.,  0.,  0.,  0.,  0.],\n",
       "        [ 0.,  0.,  0.,  0.,  0.,  0.,  0.,  1.,  0.,  0.,  1.,  0.,  0.,\n",
       "          0.,  0.,  0.,  0.,  0.,  0.,  0.,  0.,  0.,  0.,  0.,  0.],\n",
       "        [ 0.,  0.,  0.,  0.,  0.,  0.,  0.,  1.,  0.,  0.,  0.,  0.,  1.,\n",
       "          0.,  0.,  0.,  0.,  0.,  0.,  0.,  0.,  0.,  0.,  0.,  0.]]),\n",
       " array([0.05698626, 0.12193909, 0.18689192, 0.25184475, 0.31679758,\n",
       "        0.38175041, 0.44670324, 0.51165607, 0.5766089 , 0.64156173,\n",
       "        0.70651456, 0.77146739, 0.83642022, 0.90137304, 0.96632587,\n",
       "        1.0312787 , 1.09623153, 1.16118436, 1.22613719, 1.29109002,\n",
       "        1.35604285, 1.42099568, 1.48594851, 1.55090134, 1.61585417,\n",
       "        1.68080699]),\n",
       " array([0.22027588, 0.301038  , 0.38180012, 0.46256224, 0.54332436,\n",
       "        0.62408648, 0.70484859, 0.78561071, 0.86637283, 0.94713495,\n",
       "        1.02789707, 1.10865919, 1.18942131, 1.27018343, 1.35094555,\n",
       "        1.43170767, 1.51246979, 1.59323191, 1.67399403, 1.75475615,\n",
       "        1.83551826, 1.91628038, 1.9970425 , 2.07780462, 2.15856674,\n",
       "        2.23932886]),\n",
       " <matplotlib.collections.QuadMesh at 0x7fa1d9099340>)"
      ]
     },
     "execution_count": 10,
     "metadata": {},
     "output_type": "execute_result"
    },
    {
     "data": {
      "image/png": "[encoded data removed]",
      "text/plain": [
       "<Figure size 432x288 with 1 Axes>"
      ]
     },
     "metadata": {
      "needs_background": "light"
     },
     "output_type": "display_data"
    }
   ],
   "source": [
    "test = glash(np.random.uniform(0,1,(1000,5)))\n",
    "x_test = tf.reshape(test[:, :1], (1000,))\n",
    "y_test = tf.reshape(test[:, 1:2], (1000,))\n",
    "\n",
    "plt.hist2d(x_test, y_test, bins=25)"
   ]
  },
  {
   "cell_type": "code",
   "execution_count": 11,
   "id": "f846c605",
   "metadata": {},
   "outputs": [
    {
     "data": {
      "text/plain": [
       "(array([35., 16., 20., 28., 35., 24., 45., 48., 51., 54., 65., 79., 59.,\n",
       "        69., 54., 54., 43., 47., 63., 39., 16., 17., 10.,  8.,  3.,  2.,\n",
       "         9.,  4.,  1.,  2.]),\n",
       " array([0.05698626, 0.11111362, 0.16524097, 0.21936834, 0.2734957 ,\n",
       "        0.32762304, 0.3817504 , 0.43587777, 0.49000514, 0.5441325 ,\n",
       "        0.59825987, 0.6523872 , 0.70651454, 0.76064193, 0.81476927,\n",
       "        0.8688966 , 0.923024  , 0.97715133, 1.0312787 , 1.0854061 ,\n",
       "        1.1395334 , 1.1936607 , 1.2477882 , 1.3019155 , 1.3560429 ,\n",
       "        1.4101702 , 1.4642975 , 1.5184249 , 1.5725523 , 1.6266797 ,\n",
       "        1.680807  ], dtype=float32),\n",
       " <BarContainer object of 30 artists>)"
      ]
     },
     "execution_count": 11,
     "metadata": {},
     "output_type": "execute_result"
    },
    {
     "data": {
      "image/png": "[encoded data removed]",
      "text/plain": [
       "<Figure size 432x288 with 1 Axes>"
      ]
     },
     "metadata": {
      "needs_background": "light"
     },
     "output_type": "display_data"
    }
   ],
   "source": [
    "a = x_test.numpy()\n",
    "plt.hist(a, bins=30)"
   ]
  },
  {
   "cell_type": "code",
   "execution_count": 12,
   "id": "8e710f10",
   "metadata": {
    "scrolled": true
   },
   "outputs": [
    {
     "data": {
      "text/plain": [
       "(array([11., 14., 20., 27., 21., 27., 42., 25., 46., 54., 42., 56., 50.,\n",
       "        57., 56., 61., 52., 50., 36., 45., 37., 34., 30., 32., 17., 19.,\n",
       "        17., 15.,  4.,  3.]),\n",
       " array([0.22027588, 0.28757766, 0.3548794 , 0.4221812 , 0.48948294,\n",
       "        0.5567847 , 0.6240865 , 0.69138825, 0.75869   , 0.82599175,\n",
       "        0.89329356, 0.9605953 , 1.0278971 , 1.0951989 , 1.1625006 ,\n",
       "        1.2298024 , 1.2971041 , 1.3644059 , 1.4317076 , 1.4990095 ,\n",
       "        1.5663112 , 1.633613  , 1.7009147 , 1.7682165 , 1.8355182 ,\n",
       "        1.90282   , 1.9701217 , 2.0374236 , 2.1047254 , 2.172027  ,\n",
       "        2.2393289 ], dtype=float32),\n",
       " <BarContainer object of 30 artists>)"
      ]
     },
     "execution_count": 12,
     "metadata": {},
     "output_type": "execute_result"
    },
    {
     "data": {
      "image/png": "[encoded data removed]",
      "text/plain": [
       "<Figure size 432x288 with 1 Axes>"
      ]
     },
     "metadata": {
      "needs_background": "light"
     },
     "output_type": "display_data"
    }
   ],
   "source": [
    "b = y_test.numpy()\n",
    "plt.hist(b, bins=30)"
   ]
  },
  {
   "cell_type": "code",
   "execution_count": 13,
   "id": "59140663",
   "metadata": {},
   "outputs": [],
   "source": [
    "stats_gen_x = stats_dist(a, prnt=False)\n",
    "stats_gen_y = stats_dist(b, prnt=False)\n",
    "\n",
    "stats_or_x = stats_dist(x[:, :1].reshape(1000,), prnt=False)\n",
    "stats_or_y = stats_dist(x[:, 1:2].reshape(1000,), prnt=False)"
   ]
  },
  {
   "cell_type": "code",
   "execution_count": 14,
   "id": "8b888f18",
   "metadata": {},
   "outputs": [
    {
     "data": {
      "text/html": [
       "<style type=\"text/css\">\n",
       "#T_45013_row0_col0, #T_45013_row1_col0, #T_45013_row2_col0, #T_45013_row3_col0 {\n",
       "  font-weight: bold;\n",
       "}\n",
       "</style>\n",
       "<table id=\"T_45013_\">\n",
       "  <thead>\n",
       "    <tr>\n",
       "      <th class=\"blank level0\" >&nbsp;</th>\n",
       "      <th class=\"col_heading level0 col0\" > </th>\n",
       "      <th class=\"col_heading level0 col1\" >original_x_dim</th>\n",
       "      <th class=\"col_heading level0 col2\" >generated_x_dim</th>\n",
       "      <th class=\"col_heading level0 col3\" >original_y_dim</th>\n",
       "      <th class=\"col_heading level0 col4\" >generated_y_dim</th>\n",
       "    </tr>\n",
       "  </thead>\n",
       "  <tbody>\n",
       "    <tr>\n",
       "      <th id=\"T_45013_level0_row0\" class=\"row_heading level0 row0\" >0</th>\n",
       "      <td id=\"T_45013_row0_col0\" class=\"data row0 col0\" >Mean:</td>\n",
       "      <td id=\"T_45013_row0_col1\" class=\"data row0 col1\" >0.995628</td>\n",
       "      <td id=\"T_45013_row0_col2\" class=\"data row0 col2\" >0.710409</td>\n",
       "      <td id=\"T_45013_row0_col3\" class=\"data row0 col3\" >1.003480</td>\n",
       "      <td id=\"T_45013_row0_col4\" class=\"data row0 col4\" >1.174681</td>\n",
       "    </tr>\n",
       "    <tr>\n",
       "      <th id=\"T_45013_level0_row1\" class=\"row_heading level0 row1\" >1</th>\n",
       "      <td id=\"T_45013_row1_col0\" class=\"data row1 col0\" >Standard Deviation:</td>\n",
       "      <td id=\"T_45013_row1_col1\" class=\"data row1 col1\" >0.996837</td>\n",
       "      <td id=\"T_45013_row1_col2\" class=\"data row1 col2\" >0.318013</td>\n",
       "      <td id=\"T_45013_row1_col3\" class=\"data row1 col3\" >1.014810</td>\n",
       "      <td id=\"T_45013_row1_col4\" class=\"data row1 col4\" >0.443066</td>\n",
       "    </tr>\n",
       "    <tr>\n",
       "      <th id=\"T_45013_level0_row2\" class=\"row_heading level0 row2\" >2</th>\n",
       "      <td id=\"T_45013_row2_col0\" class=\"data row2 col0\" > Variance:</td>\n",
       "      <td id=\"T_45013_row2_col1\" class=\"data row2 col1\" >0.993684</td>\n",
       "      <td id=\"T_45013_row2_col2\" class=\"data row2 col2\" >0.101132</td>\n",
       "      <td id=\"T_45013_row2_col3\" class=\"data row2 col3\" >1.029840</td>\n",
       "      <td id=\"T_45013_row2_col4\" class=\"data row2 col4\" >0.196307</td>\n",
       "    </tr>\n",
       "    <tr>\n",
       "      <th id=\"T_45013_level0_row3\" class=\"row_heading level0 row3\" >3</th>\n",
       "      <td id=\"T_45013_row3_col0\" class=\"data row3 col0\" >Covariance:</td>\n",
       "      <td id=\"T_45013_row3_col1\" class=\"data row3 col1\" >0.994679</td>\n",
       "      <td id=\"T_45013_row3_col2\" class=\"data row3 col2\" >0.101233</td>\n",
       "      <td id=\"T_45013_row3_col3\" class=\"data row3 col3\" >1.030871</td>\n",
       "      <td id=\"T_45013_row3_col4\" class=\"data row3 col4\" >0.196504</td>\n",
       "    </tr>\n",
       "  </tbody>\n",
       "</table>\n"
      ],
      "text/plain": [
       "<pandas.io.formats.style.Styler at 0x7fa12438d9a0>"
      ]
     },
     "execution_count": 14,
     "metadata": {},
     "output_type": "execute_result"
    }
   ],
   "source": [
    "stats_df = df_generator(stats_or_x,\n",
    "                        stats_gen_x,\n",
    "                        stats_or_y,\n",
    "                        stats_gen_y,\n",
    "                        np.array([\"Mean:\", \"Standard Deviation:\",\n",
    "                                  \" Variance:\", \"Covariance:\"]),\n",
    "                        df_style)\n",
    "\n",
    "stats_df"
   ]
  }
 ],
 "metadata": {
  "kernelspec": {
   "display_name": "Python 3 (ipykernel)",
   "language": "python",
   "name": "python3"
  },
  "language_info": {
   "codemirror_mode": {
    "name": "ipython",
    "version": 3
   },
   "file_extension": ".py",
   "mimetype": "text/x-python",
   "name": "python",
   "nbconvert_exporter": "python",
   "pygments_lexer": "ipython3",
   "version": "3.9.7"
  }
 },
 "nbformat": 4,
 "nbformat_minor": 5
}
