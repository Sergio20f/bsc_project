{
 "cells": [
  {
   "cell_type": "code",
   "execution_count": 1,
   "id": "1d353efd",
   "metadata": {},
   "outputs": [
    {
     "name": "stderr",
     "output_type": "stream",
     "text": [
      "2022-01-27 20:44:05.299631: I tensorflow/stream_executor/platform/default/dso_loader.cc:49] Successfully opened dynamic library libcudart.so.10.1\n"
     ]
    }
   ],
   "source": [
    "import numpy as np\n",
    "import matplotlib.pyplot as plt\n",
    "import pandas as pd\n",
    "import sys\n",
    "import tensorflow as tf\n",
    "import cv2\n",
    "import os\n",
    "\n",
    "os.environ['TF_CPP_MIN_LOG_LEVEL'] = '3'  # or any {'0', '1', '2'}\n",
    "sys.path.append('../')\n",
    "tf.random.set_seed(42)\n",
    "\n",
    "from helpers import *\n",
    "from glash_v2 import glash_discriminator, glash_generator, Glash"
   ]
  },
  {
   "cell_type": "code",
   "execution_count": 2,
   "id": "4202d56d",
   "metadata": {},
   "outputs": [],
   "source": [
    "mean = (1, 1)\n",
    "cov = [[1, 0], [0, 1]] # Should be symmetric\n",
    "x = np.random.multivariate_normal(mean, cov, 4000).astype('float32')"
   ]
  },
  {
   "cell_type": "code",
   "execution_count": 3,
   "id": "274e06ab",
   "metadata": {
    "scrolled": true
   },
   "outputs": [
    {
     "data": {
      "text/plain": [
       "(array([[ 0.,  0.,  0.,  0.,  0.,  0.,  0.,  0.,  0.,  0.,  0.,  0.,  2.,\n",
       "          0.,  0.,  0.,  0.,  0.,  0.,  0.,  0.,  0.,  0.,  0.,  0.],\n",
       "        [ 0.,  0.,  0.,  0.,  0.,  0.,  0.,  0.,  0.,  0.,  0.,  0.,  0.,\n",
       "          0.,  0.,  0.,  0.,  0.,  0.,  0.,  0.,  0.,  0.,  0.,  0.],\n",
       "        [ 0.,  0.,  0.,  0.,  0.,  0.,  0.,  0.,  0.,  1.,  1.,  0.,  0.,\n",
       "          0.,  2.,  0.,  0.,  0.,  0.,  0.,  0.,  0.,  0.,  0.,  0.],\n",
       "        [ 0.,  0.,  0.,  0.,  0.,  0.,  0.,  0.,  0.,  2.,  1.,  1.,  3.,\n",
       "          2.,  0.,  2.,  0.,  0.,  0.,  0.,  0.,  0.,  0.,  0.,  0.],\n",
       "        [ 0.,  0.,  0.,  0.,  0.,  1.,  1.,  2.,  4.,  1.,  2.,  1.,  2.,\n",
       "          4.,  3.,  1.,  1.,  1.,  1.,  0.,  1.,  0.,  0.,  0.,  0.],\n",
       "        [ 0.,  0.,  0.,  1.,  1.,  0.,  2.,  2.,  3.,  4.,  5., 10.,  4.,\n",
       "          4.,  6.,  3.,  5.,  3.,  1.,  1.,  0.,  0.,  0.,  0.,  0.],\n",
       "        [ 0.,  0.,  0.,  0.,  0.,  2.,  1.,  5.,  7.,  5., 10.,  9.,  7.,\n",
       "          6.,  8.,  6.,  3.,  3.,  4.,  3.,  0.,  1.,  0.,  0.,  0.],\n",
       "        [ 0.,  1.,  0.,  4.,  1.,  3.,  3.,  2., 10.,  6., 14., 18., 13.,\n",
       "         20., 14., 15.,  6.,  7.,  1.,  2.,  1.,  0.,  0.,  0.,  0.],\n",
       "        [ 0.,  0.,  0.,  1.,  3.,  0.,  8., 11., 17., 19., 22., 14., 22.,\n",
       "         18., 19., 12., 10.,  7.,  2.,  1.,  0.,  0.,  0.,  0.,  0.],\n",
       "        [ 0.,  0.,  1.,  3.,  2.,  6., 11., 11., 20., 26., 31., 34., 29.,\n",
       "         31., 20., 18., 17., 13.,  5.,  2.,  1.,  1.,  1.,  1.,  0.],\n",
       "        [ 0.,  0.,  1.,  2.,  5.,  7., 11., 18., 23., 27., 45., 38., 47.,\n",
       "         36., 33., 29., 23., 19., 11.,  4.,  4.,  0.,  1.,  0.,  0.],\n",
       "        [ 0.,  0.,  2.,  3.,  3.,  7., 13., 21., 35., 57., 53., 56., 59.,\n",
       "         46., 53., 29., 22., 17., 12.,  7.,  2.,  0.,  1.,  0.,  0.],\n",
       "        [ 0.,  1.,  2.,  5.,  6., 19., 14., 13., 24., 33., 45., 41., 49.,\n",
       "         49., 43., 42., 29., 16., 14.,  4.,  2.,  0.,  0.,  0.,  0.],\n",
       "        [ 0.,  0.,  1.,  1.,  3.,  6., 15., 21., 26., 30., 55., 51., 47.,\n",
       "         51., 43., 23., 24., 19., 16., 11.,  3.,  4.,  0.,  2.,  2.],\n",
       "        [ 0.,  0.,  1.,  2.,  3.,  9.,  7., 18., 24., 30., 47., 38., 45.,\n",
       "         52., 42., 28., 19., 19.,  7.,  7.,  2.,  2.,  1.,  1.,  1.],\n",
       "        [ 0.,  0.,  0.,  3.,  2.,  4., 11., 23., 18., 27., 32., 39., 33.,\n",
       "         37., 35., 22., 20., 11.,  7.,  4.,  3.,  1.,  1.,  0.,  0.],\n",
       "        [ 1.,  0.,  1.,  1.,  3.,  5.,  9., 14., 14., 16., 26., 35., 27.,\n",
       "         32., 20., 20., 13., 11.,  6.,  6.,  3.,  0.,  0.,  0.,  0.],\n",
       "        [ 0.,  0.,  1.,  1.,  1.,  5.,  7.,  6., 17., 20., 19., 23., 15.,\n",
       "         10., 18., 11., 10.,  6.,  7.,  3.,  0.,  0.,  0.,  0.,  0.],\n",
       "        [ 0.,  2.,  0.,  1.,  1.,  0.,  3.,  2.,  5., 16., 10., 14., 11.,\n",
       "         13., 10.,  5.,  6.,  7.,  3.,  3.,  1.,  0.,  1.,  0.,  0.],\n",
       "        [ 0.,  0.,  0.,  0.,  0.,  0.,  4.,  2.,  8.,  8.,  5.,  5.,  5.,\n",
       "          6.,  9.,  5.,  6.,  3.,  1.,  2.,  0.,  0.,  0.,  0.,  0.],\n",
       "        [ 0.,  0.,  0.,  0.,  0.,  0.,  0.,  1.,  0.,  0.,  3.,  8.,  4.,\n",
       "          3.,  4.,  4.,  0.,  1.,  0.,  1.,  0.,  0.,  1.,  0.,  0.],\n",
       "        [ 0.,  0.,  0.,  0.,  0.,  0.,  2.,  1.,  3.,  1.,  0.,  3.,  2.,\n",
       "          1.,  0.,  1.,  0.,  2.,  1.,  0.,  0.,  0.,  0.,  0.,  0.],\n",
       "        [ 0.,  0.,  0.,  0.,  0.,  0.,  0.,  0.,  2.,  1.,  0.,  1.,  0.,\n",
       "          0.,  0.,  1.,  0.,  0.,  0.,  1.,  1.,  0.,  0.,  0.,  0.],\n",
       "        [ 0.,  0.,  0.,  0.,  0.,  1.,  0.,  1.,  0.,  0.,  0.,  0.,  1.,\n",
       "          1.,  0.,  1.,  0.,  0.,  0.,  0.,  0.,  0.,  0.,  0.,  0.],\n",
       "        [ 0.,  0.,  0.,  1.,  0.,  0.,  0.,  0.,  0.,  0.,  0.,  0.,  0.,\n",
       "          0.,  0.,  0.,  0.,  0.,  0.,  0.,  0.,  0.,  0.,  0.,  0.]]),\n",
       " array([-2.81008625, -2.51192797, -2.21376968, -1.9156114 , -1.61745312,\n",
       "        -1.31929483, -1.02113655, -0.72297827, -0.42481998, -0.1266617 ,\n",
       "         0.17149658,  0.46965487,  0.76781315,  1.06597143,  1.36412971,\n",
       "         1.662288  ,  1.96044628,  2.25860456,  2.55676285,  2.85492113,\n",
       "         3.15307941,  3.4512377 ,  3.74939598,  4.04755426,  4.34571255,\n",
       "         4.64387083]),\n",
       " array([-2.4876368 , -2.2029475 , -1.9182582 , -1.6335689 , -1.34887959,\n",
       "        -1.06419029, -0.77950099, -0.49481169, -0.21012239,  0.07456692,\n",
       "         0.35925622,  0.64394552,  0.92863482,  1.21332413,  1.49801343,\n",
       "         1.78270273,  2.06739203,  2.35208134,  2.63677064,  2.92145994,\n",
       "         3.20614924,  3.49083855,  3.77552785,  4.06021715,  4.34490645,\n",
       "         4.62959576]),\n",
       " <matplotlib.collections.QuadMesh at 0x7f6a7c062c40>)"
      ]
     },
     "execution_count": 3,
     "metadata": {},
     "output_type": "execute_result"
    },
    {
     "data": {
      "image/png": "[encoded data removed]",
      "text/plain": [
       "<Figure size 432x288 with 1 Axes>"
      ]
     },
     "metadata": {
      "needs_background": "light"
     },
     "output_type": "display_data"
    }
   ],
   "source": [
    "plt.hist2d(x[:, :1].reshape(4000,), x[:, 1:2].reshape(4000,), bins=25)"
   ]
  },
  {
   "cell_type": "code",
   "execution_count": 4,
   "id": "c9066aed",
   "metadata": {
    "scrolled": true
   },
   "outputs": [
    {
     "name": "stderr",
     "output_type": "stream",
     "text": [
      "2022-01-27 20:44:06.644328: I tensorflow/compiler/jit/xla_cpu_device.cc:41] Not creating XLA devices, tf_xla_enable_xla_devices not set\n",
      "2022-01-27 20:44:06.645163: I tensorflow/stream_executor/platform/default/dso_loader.cc:49] Successfully opened dynamic library libcuda.so.1\n",
      "2022-01-27 20:44:06.695923: I tensorflow/stream_executor/cuda/cuda_gpu_executor.cc:941] successful NUMA node read from SysFS had negative value (-1), but there must be at least one NUMA node, so returning NUMA node zero\n",
      "2022-01-27 20:44:06.696313: I tensorflow/core/common_runtime/gpu/gpu_device.cc:1720] Found device 0 with properties: \n",
      "pciBusID: 0000:01:00.0 name: NVIDIA GeForce RTX 2060 computeCapability: 7.5\n",
      "coreClock: 1.2GHz coreCount: 30 deviceMemorySize: 5.79GiB deviceMemoryBandwidth: 312.97GiB/s\n",
      "2022-01-27 20:44:06.696338: I tensorflow/stream_executor/platform/default/dso_loader.cc:49] Successfully opened dynamic library libcudart.so.10.1\n",
      "2022-01-27 20:44:06.697649: I tensorflow/stream_executor/platform/default/dso_loader.cc:49] Successfully opened dynamic library libcublas.so.10\n",
      "2022-01-27 20:44:06.697693: I tensorflow/stream_executor/platform/default/dso_loader.cc:49] Successfully opened dynamic library libcublasLt.so.10\n",
      "2022-01-27 20:44:06.698848: I tensorflow/stream_executor/platform/default/dso_loader.cc:49] Successfully opened dynamic library libcufft.so.10\n",
      "2022-01-27 20:44:06.699067: I tensorflow/stream_executor/platform/default/dso_loader.cc:49] Successfully opened dynamic library libcurand.so.10\n",
      "2022-01-27 20:44:06.700417: I tensorflow/stream_executor/platform/default/dso_loader.cc:49] Successfully opened dynamic library libcusolver.so.10\n",
      "2022-01-27 20:44:06.701128: I tensorflow/stream_executor/platform/default/dso_loader.cc:49] Successfully opened dynamic library libcusparse.so.10\n",
      "2022-01-27 20:44:06.704189: I tensorflow/stream_executor/platform/default/dso_loader.cc:49] Successfully opened dynamic library libcudnn.so.7\n",
      "2022-01-27 20:44:06.704341: I tensorflow/stream_executor/cuda/cuda_gpu_executor.cc:941] successful NUMA node read from SysFS had negative value (-1), but there must be at least one NUMA node, so returning NUMA node zero\n",
      "2022-01-27 20:44:06.704734: I tensorflow/stream_executor/cuda/cuda_gpu_executor.cc:941] successful NUMA node read from SysFS had negative value (-1), but there must be at least one NUMA node, so returning NUMA node zero\n",
      "2022-01-27 20:44:06.705001: I tensorflow/core/common_runtime/gpu/gpu_device.cc:1862] Adding visible gpu devices: 0\n",
      "2022-01-27 20:44:06.705721: I tensorflow/core/platform/cpu_feature_guard.cc:142] This TensorFlow binary is optimized with oneAPI Deep Neural Network Library (oneDNN) to use the following CPU instructions in performance-critical operations:  SSE4.1 SSE4.2 AVX AVX2 FMA\n",
      "To enable them in other operations, rebuild TensorFlow with the appropriate compiler flags.\n",
      "2022-01-27 20:44:06.706292: I tensorflow/stream_executor/cuda/cuda_gpu_executor.cc:941] successful NUMA node read from SysFS had negative value (-1), but there must be at least one NUMA node, so returning NUMA node zero\n",
      "2022-01-27 20:44:06.706569: I tensorflow/core/common_runtime/gpu/gpu_device.cc:1720] Found device 0 with properties: \n",
      "pciBusID: 0000:01:00.0 name: NVIDIA GeForce RTX 2060 computeCapability: 7.5\n",
      "coreClock: 1.2GHz coreCount: 30 deviceMemorySize: 5.79GiB deviceMemoryBandwidth: 312.97GiB/s\n",
      "2022-01-27 20:44:06.706600: I tensorflow/stream_executor/platform/default/dso_loader.cc:49] Successfully opened dynamic library libcudart.so.10.1\n",
      "2022-01-27 20:44:06.706621: I tensorflow/stream_executor/platform/default/dso_loader.cc:49] Successfully opened dynamic library libcublas.so.10\n",
      "2022-01-27 20:44:06.706634: I tensorflow/stream_executor/platform/default/dso_loader.cc:49] Successfully opened dynamic library libcublasLt.so.10\n",
      "2022-01-27 20:44:06.706647: I tensorflow/stream_executor/platform/default/dso_loader.cc:49] Successfully opened dynamic library libcufft.so.10\n",
      "2022-01-27 20:44:06.706659: I tensorflow/stream_executor/platform/default/dso_loader.cc:49] Successfully opened dynamic library libcurand.so.10\n",
      "2022-01-27 20:44:06.706673: I tensorflow/stream_executor/platform/default/dso_loader.cc:49] Successfully opened dynamic library libcusolver.so.10\n",
      "2022-01-27 20:44:06.706685: I tensorflow/stream_executor/platform/default/dso_loader.cc:49] Successfully opened dynamic library libcusparse.so.10\n",
      "2022-01-27 20:44:06.706699: I tensorflow/stream_executor/platform/default/dso_loader.cc:49] Successfully opened dynamic library libcudnn.so.7\n",
      "2022-01-27 20:44:06.706749: I tensorflow/stream_executor/cuda/cuda_gpu_executor.cc:941] successful NUMA node read from SysFS had negative value (-1), but there must be at least one NUMA node, so returning NUMA node zero\n",
      "2022-01-27 20:44:06.707032: I tensorflow/stream_executor/cuda/cuda_gpu_executor.cc:941] successful NUMA node read from SysFS had negative value (-1), but there must be at least one NUMA node, so returning NUMA node zero\n",
      "2022-01-27 20:44:06.707762: I tensorflow/core/common_runtime/gpu/gpu_device.cc:1862] Adding visible gpu devices: 0\n",
      "2022-01-27 20:44:06.707797: I tensorflow/stream_executor/platform/default/dso_loader.cc:49] Successfully opened dynamic library libcudart.so.10.1\n",
      "2022-01-27 20:44:07.347794: I tensorflow/core/common_runtime/gpu/gpu_device.cc:1261] Device interconnect StreamExecutor with strength 1 edge matrix:\n",
      "2022-01-27 20:44:07.347817: I tensorflow/core/common_runtime/gpu/gpu_device.cc:1267]      0 \n",
      "2022-01-27 20:44:07.347822: I tensorflow/core/common_runtime/gpu/gpu_device.cc:1280] 0:   N \n",
      "2022-01-27 20:44:07.347995: I tensorflow/stream_executor/cuda/cuda_gpu_executor.cc:941] successful NUMA node read from SysFS had negative value (-1), but there must be at least one NUMA node, so returning NUMA node zero\n",
      "2022-01-27 20:44:07.348343: I tensorflow/stream_executor/cuda/cuda_gpu_executor.cc:941] successful NUMA node read from SysFS had negative value (-1), but there must be at least one NUMA node, so returning NUMA node zero\n",
      "2022-01-27 20:44:07.348650: I tensorflow/stream_executor/cuda/cuda_gpu_executor.cc:941] successful NUMA node read from SysFS had negative value (-1), but there must be at least one NUMA node, so returning NUMA node zero\n",
      "2022-01-27 20:44:07.348924: I tensorflow/core/common_runtime/gpu/gpu_device.cc:1406] Created TensorFlow device (/job:localhost/replica:0/task:0/device:GPU:0 with 4844 MB memory) -> physical GPU (device: 0, name: NVIDIA GeForce RTX 2060, pci bus id: 0000:01:00.0, compute capability: 7.5)\n",
      "2022-01-27 20:44:07.349113: I tensorflow/compiler/jit/xla_gpu_device.cc:99] Not creating XLA devices, tf_xla_enable_xla_devices not set\n"
     ]
    }
   ],
   "source": [
    "train_data = tf.data.Dataset.from_tensor_slices(x)\n",
    "train_data = train_data.batch(64).prefetch(32)"
   ]
  },
  {
   "cell_type": "code",
   "execution_count": 5,
   "id": "d5e69c9d",
   "metadata": {},
   "outputs": [],
   "source": [
    "glash = Glash(glash_discriminator(), glash_generator())\n",
    "glash.compile(\n",
    "    tf.keras.optimizers.Adam(),\n",
    "    tf.keras.optimizers.Adam(),\n",
    "    tf.keras.losses.BinaryCrossentropy(from_logits=True)\n",
    ")"
   ]
  },
  {
   "cell_type": "code",
   "execution_count": 6,
   "id": "d83e5712",
   "metadata": {},
   "outputs": [
    {
     "name": "stderr",
     "output_type": "stream",
     "text": [
      "2022-01-27 20:44:08.023011: I tensorflow/compiler/mlir/mlir_graph_optimization_pass.cc:116] None of the MLIR optimization passes are enabled (registered 2)\n",
      "2022-01-27 20:44:08.050254: I tensorflow/core/platform/profile_utils/cpu_utils.cc:112] CPU Frequency: 2199995000 Hz\n",
      "2022-01-27 20:44:08.168065: I tensorflow/stream_executor/platform/default/dso_loader.cc:49] Successfully opened dynamic library libcublas.so.10\n"
     ]
    }
   ],
   "source": [
    "generated_point_list = []\n",
    "\n",
    "cbk = tf.keras.callbacks.LambdaCallback(on_epoch_end=lambda epoch, logs: show_samples(generated_point_list, epoch, glash.generator, x))\n",
    "\n",
    "history = glash.fit(train_data, epochs=3000, callbacks=[cbk], verbose=False)"
   ]
  },
  {
   "cell_type": "code",
   "execution_count": 7,
   "id": "45c5c256",
   "metadata": {},
   "outputs": [
    {
     "data": {
      "text/plain": [
       "<matplotlib.legend.Legend at 0x7f695c02cb20>"
      ]
     },
     "execution_count": 7,
     "metadata": {},
     "output_type": "execute_result"
    },
    {
     "data": {
      "image/png": "[encoded data removed]",
      "text/plain": [
       "<Figure size 432x288 with 1 Axes>"
      ]
     },
     "metadata": {
      "needs_background": "light"
     },
     "output_type": "display_data"
    }
   ],
   "source": [
    "plt.plot(history.history['d_loss'], color='blue', label='disriminator loss')\n",
    "plt.plot(history.history['g_loss'], color='red', label='generator loss')\n",
    "plt.xlabel('Epochs')\n",
    "plt.ylabel('Losses')\n",
    "plt.legend()"
   ]
  },
  {
   "cell_type": "code",
   "execution_count": 8,
   "id": "6a52ced0",
   "metadata": {},
   "outputs": [
    {
     "data": {
      "text/plain": [
       "(4000, 2)"
      ]
     },
     "execution_count": 8,
     "metadata": {},
     "output_type": "execute_result"
    }
   ],
   "source": [
    "noise = toy_data(4000, 0, 1).astype('float32')\n",
    "noise.shape"
   ]
  },
  {
   "cell_type": "code",
   "execution_count": 9,
   "id": "b25bd722",
   "metadata": {},
   "outputs": [
    {
     "data": {
      "text/plain": [
       "array([[0.24792168, 0.65216347, 0.91302128, 0.02204322, 0.31836744],\n",
       "       [0.13994679, 0.13961498, 0.77236194, 0.77155935, 0.42779525],\n",
       "       [0.14597931, 0.85613298, 0.28877497, 0.52070773, 0.96105949],\n",
       "       ...,\n",
       "       [0.45642164, 0.96363273, 0.04740134, 0.35940573, 0.42070685],\n",
       "       [0.67671165, 0.08201278, 0.25034506, 0.46348798, 0.66988195],\n",
       "       [0.16548627, 0.44496966, 0.58386043, 0.82614653, 0.46016363]])"
      ]
     },
     "execution_count": 9,
     "metadata": {},
     "output_type": "execute_result"
    }
   ],
   "source": [
    "np.random.uniform(0,1,(4000,5))"
   ]
  },
  {
   "cell_type": "code",
   "execution_count": 10,
   "id": "b377de56",
   "metadata": {
    "scrolled": true
   },
   "outputs": [
    {
     "data": {
      "text/plain": [
       "(array([[ 0.,  0.,  0.,  0.,  0.,  0.,  1.,  3.,  2.,  2.,  5.,  2.,  2.,\n",
       "          3.,  3.,  1.,  1.,  0.,  0.,  0.,  0.,  0.,  0.,  0.,  0.],\n",
       "        [ 0.,  1.,  2.,  1.,  0.,  1.,  5.,  1.,  1.,  3.,  3.,  3.,  2.,\n",
       "          7.,  4.,  2.,  1.,  4.,  0.,  0.,  0.,  0.,  0.,  0.,  0.],\n",
       "        [ 1.,  1.,  0.,  1.,  3.,  3.,  3.,  3.,  2.,  4.,  4.,  4.,  2.,\n",
       "          8.,  3.,  2.,  4.,  5.,  0.,  0.,  0.,  0.,  0.,  0.,  0.],\n",
       "        [ 1.,  3.,  3.,  3.,  4.,  4.,  2.,  4.,  6.,  3.,  9.,  4., 12.,\n",
       "          9.,  2.,  8., 10.,  7.,  2.,  1.,  0.,  0.,  0.,  0.,  0.],\n",
       "        [ 3.,  1.,  4.,  5.,  5.,  6.,  4.,  8., 10.,  4.,  4.,  8.,  7.,\n",
       "         13., 10., 13.,  7.,  6.,  5.,  1.,  0.,  0.,  0.,  0.,  0.],\n",
       "        [ 1.,  7.,  5.,  3.,  5.,  9.,  8.,  7., 14., 12.,  8.,  9.,  8.,\n",
       "         11., 12.,  9., 11.,  7.,  7.,  4.,  4.,  2.,  0.,  0.,  0.],\n",
       "        [ 3.,  2.,  5., 12., 10.,  6.,  4., 12., 16., 13., 11., 14., 15.,\n",
       "         16., 18., 14., 13., 11.,  2.,  8.,  5.,  0.,  0.,  0.,  0.],\n",
       "        [ 0.,  3.,  8.,  6., 11.,  6.,  9., 15., 15., 15., 13., 16., 13.,\n",
       "         11., 12., 15., 23., 17., 11.,  9.,  6.,  4.,  0.,  0.,  0.],\n",
       "        [ 0.,  2.,  6.,  5., 11.,  9.,  9.,  8., 17., 16., 11., 15., 21.,\n",
       "         16., 12., 24., 26., 18., 14., 12., 12.,  5.,  2.,  0.,  0.],\n",
       "        [ 0.,  1.,  0.,  4.,  9.,  9., 17., 13., 11., 25., 12., 12., 24.,\n",
       "         18., 22., 14., 25., 19., 20.,  8.,  7., 10.,  7.,  2.,  0.],\n",
       "        [ 0.,  0.,  2.,  4.,  7.,  8., 10., 13., 20., 11., 14., 17., 18.,\n",
       "         20., 19., 20., 19., 16., 24., 18., 10., 12., 11.,  1.,  1.],\n",
       "        [ 0.,  0.,  2.,  3.,  3., 12.,  6.,  5., 18., 17., 23., 19., 18.,\n",
       "         18., 21., 19., 32., 19., 18., 20., 16., 10., 15.,  1.,  2.],\n",
       "        [ 0.,  0.,  1.,  1.,  3.,  4., 13., 14., 14., 25., 20., 16., 23.,\n",
       "         24., 26., 23., 29., 31., 22., 11., 13., 14., 11.,  4.,  0.],\n",
       "        [ 0.,  0.,  0.,  0.,  3.,  0.,  8.,  8., 10.,  9., 20., 13., 20.,\n",
       "         29., 25., 28., 18., 28., 19.,  8., 17., 11.,  5.,  4.,  2.],\n",
       "        [ 0.,  0.,  0.,  0.,  2.,  0.,  4.,  5.,  5., 11., 11., 15., 16.,\n",
       "         21., 23., 34., 29., 18., 22., 20., 16., 12., 11.,  6.,  1.],\n",
       "        [ 0.,  0.,  0.,  0.,  0.,  1.,  1.,  1.,  5.,  4.,  8., 20., 21.,\n",
       "         18., 10., 24., 22., 25., 20., 16., 14., 19., 12.,  7.,  2.],\n",
       "        [ 0.,  0.,  0.,  0.,  0.,  0.,  0.,  1.,  8., 12.,  3.,  9., 14.,\n",
       "          8., 16., 22., 27., 25., 12., 14., 17., 15.,  8.,  7.,  2.],\n",
       "        [ 0.,  0.,  0.,  0.,  0.,  0.,  0.,  0.,  0.,  4.,  6.,  2.,  9.,\n",
       "         12., 14., 15., 15., 16.,  8., 17.,  8.,  5., 13.,  2.,  4.],\n",
       "        [ 0.,  0.,  0.,  0.,  0.,  0.,  0.,  0.,  0.,  0.,  2.,  1.,  7.,\n",
       "          9., 12., 11.,  8., 14., 13., 13., 12., 12.,  6.,  5.,  2.],\n",
       "        [ 0.,  0.,  0.,  0.,  0.,  0.,  0.,  0.,  0.,  0.,  0.,  0.,  1.,\n",
       "          3., 10.,  5., 13.,  8.,  7.,  8.,  8., 11.,  4.,  4.,  5.],\n",
       "        [ 0.,  0.,  0.,  0.,  0.,  0.,  0.,  0.,  0.,  0.,  0.,  0.,  0.,\n",
       "          0.,  1.,  4.,  6.,  6.,  4.,  9.,  8.,  6.,  7.,  2.,  3.],\n",
       "        [ 0.,  0.,  0.,  0.,  0.,  0.,  0.,  0.,  0.,  0.,  0.,  0.,  0.,\n",
       "          0.,  0.,  0.,  2.,  5.,  4.,  4.,  8.,  5.,  7.,  4.,  0.],\n",
       "        [ 0.,  0.,  0.,  0.,  0.,  0.,  0.,  0.,  0.,  0.,  0.,  0.,  0.,\n",
       "          0.,  0.,  0.,  0.,  1.,  2.,  3.,  4.,  5.,  3.,  0.,  0.],\n",
       "        [ 0.,  0.,  0.,  0.,  0.,  0.,  0.,  0.,  0.,  0.,  0.,  0.,  0.,\n",
       "          0.,  0.,  0.,  0.,  0.,  2.,  1.,  4.,  3.,  2.,  1.,  0.],\n",
       "        [ 0.,  0.,  0.,  0.,  0.,  0.,  0.,  0.,  0.,  0.,  0.,  0.,  0.,\n",
       "          0.,  0.,  0.,  0.,  0.,  0.,  4.,  0.,  1.,  3.,  0.,  0.]]),\n",
       " array([0.67061371, 0.78508986, 0.899566  , 1.01404215, 1.1285183 ,\n",
       "        1.24299445, 1.3574706 , 1.47194675, 1.5864229 , 1.70089905,\n",
       "        1.8153752 , 1.92985135, 2.0443275 , 2.15880364, 2.27327979,\n",
       "        2.38775594, 2.50223209, 2.61670824, 2.73118439, 2.84566054,\n",
       "        2.96013669, 3.07461284, 3.18908899, 3.30356514, 3.41804128,\n",
       "        3.53251743]),\n",
       " array([2.1055305 , 2.15363202, 2.20173354, 2.24983506, 2.29793658,\n",
       "        2.3460381 , 2.39413962, 2.44224114, 2.49034266, 2.53844419,\n",
       "        2.58654571, 2.63464723, 2.68274875, 2.73085027, 2.77895179,\n",
       "        2.82705331, 2.87515483, 2.92325635, 2.97135787, 3.01945939,\n",
       "        3.06756091, 3.11566243, 3.16376395, 3.21186547, 3.25996699,\n",
       "        3.30806851]),\n",
       " <matplotlib.collections.QuadMesh at 0x7f69acd9d340>)"
      ]
     },
     "execution_count": 10,
     "metadata": {},
     "output_type": "execute_result"
    },
    {
     "data": {
      "image/png": "[encoded data removed]",
      "text/plain": [
       "<Figure size 432x288 with 1 Axes>"
      ]
     },
     "metadata": {
      "needs_background": "light"
     },
     "output_type": "display_data"
    }
   ],
   "source": [
    "test = glash(np.random.uniform(0,1,(4000,5)))\n",
    "x_test = tf.reshape(test[:, :1], (4000,))\n",
    "y_test = tf.reshape(test[:, 1:2], (4000,))\n",
    "\n",
    "plt.hist2d(x_test, y_test, bins=25)"
   ]
  },
  {
   "cell_type": "code",
   "execution_count": 11,
   "id": "f846c605",
   "metadata": {},
   "outputs": [
    {
     "data": {
      "text/plain": [
       "(array([ 23.,  30.,  31.,  62.,  92., 102., 131., 174., 191., 202., 242.,\n",
       "        231., 248., 262., 284., 247., 260., 220., 201., 207., 140., 118.,\n",
       "         99.,  69.,  51.,  36.,  19.,  13.,  11.,   4.]),\n",
       " array([0.6706137, 0.7660105, 0.8614073, 0.9568041, 1.0522009, 1.1475977,\n",
       "        1.2429944, 1.3383912, 1.4337881, 1.5291848, 1.6245816, 1.7199785,\n",
       "        1.8153752, 1.910772 , 2.0061688, 2.1015656, 2.1969624, 2.292359 ,\n",
       "        2.3877559, 2.4831526, 2.5785496, 2.6739464, 2.7693431, 2.86474  ,\n",
       "        2.9601367, 3.0555334, 3.1509302, 3.2463272, 3.341724 , 3.4371207,\n",
       "        3.5325174], dtype=float32),\n",
       " <BarContainer object of 30 artists>)"
      ]
     },
     "execution_count": 11,
     "metadata": {},
     "output_type": "execute_result"
    },
    {
     "data": {
      "image/png": "[encoded data removed]",
      "text/plain": [
       "<Figure size 432x288 with 1 Axes>"
      ]
     },
     "metadata": {
      "needs_background": "light"
     },
     "output_type": "display_data"
    }
   ],
   "source": [
    "a = x_test.numpy()\n",
    "plt.hist(a, bins=30)"
   ]
  },
  {
   "cell_type": "code",
   "execution_count": 12,
   "id": "8e710f10",
   "metadata": {
    "scrolled": true
   },
   "outputs": [
    {
     "data": {
      "text/plain": [
       "(array([  5.,  16.,  22.,  36.,  44.,  69.,  61.,  88.,  90., 125., 142.,\n",
       "        161., 159., 154., 208., 217., 217., 233., 256., 293., 261., 223.,\n",
       "        196., 172., 155., 157., 115.,  74.,  33.,  18.]),\n",
       " array([2.1055305, 2.145615 , 2.1856997, 2.2257843, 2.265869 , 2.3059535,\n",
       "        2.346038 , 2.3861227, 2.4262073, 2.466292 , 2.5063765, 2.546461 ,\n",
       "        2.5865457, 2.6266303, 2.666715 , 2.7067995, 2.746884 , 2.7869687,\n",
       "        2.8270533, 2.867138 , 2.9072225, 2.947307 , 2.9873917, 3.0274763,\n",
       "        3.067561 , 3.1076455, 3.14773  , 3.1878147, 3.2278993, 3.267984 ,\n",
       "        3.3080685], dtype=float32),\n",
       " <BarContainer object of 30 artists>)"
      ]
     },
     "execution_count": 12,
     "metadata": {},
     "output_type": "execute_result"
    },
    {
     "data": {
      "image/png": "[encoded data removed]",
      "text/plain": [
       "<Figure size 432x288 with 1 Axes>"
      ]
     },
     "metadata": {
      "needs_background": "light"
     },
     "output_type": "display_data"
    }
   ],
   "source": [
    "b = y_test.numpy()\n",
    "plt.hist(b, bins=30)"
   ]
  },
  {
   "cell_type": "code",
   "execution_count": 13,
   "id": "59140663",
   "metadata": {},
   "outputs": [],
   "source": [
    "stats_gen_x = stats_dist(a, prnt=False)\n",
    "stats_gen_y = stats_dist(b, prnt=False)\n",
    "\n",
    "stats_or_x = stats_dist(x[:, :1].reshape(4000,), prnt=False)\n",
    "stats_or_y = stats_dist(x[:, 1:2].reshape(4000,), prnt=False)"
   ]
  },
  {
   "cell_type": "code",
   "execution_count": 14,
   "id": "8b888f18",
   "metadata": {
    "scrolled": true
   },
   "outputs": [
    {
     "data": {
      "text/html": [
       "<style type=\"text/css\">\n",
       "#T_661bf_row0_col0, #T_661bf_row1_col0, #T_661bf_row2_col0, #T_661bf_row3_col0 {\n",
       "  font-weight: bold;\n",
       "}\n",
       "</style>\n",
       "<table id=\"T_661bf_\">\n",
       "  <thead>\n",
       "    <tr>\n",
       "      <th class=\"blank level0\" >&nbsp;</th>\n",
       "      <th class=\"col_heading level0 col0\" > </th>\n",
       "      <th class=\"col_heading level0 col1\" >original_x_dim</th>\n",
       "      <th class=\"col_heading level0 col2\" >generated_x_dim</th>\n",
       "      <th class=\"col_heading level0 col3\" >original_y_dim</th>\n",
       "      <th class=\"col_heading level0 col4\" >generated_y_dim</th>\n",
       "    </tr>\n",
       "  </thead>\n",
       "  <tbody>\n",
       "    <tr>\n",
       "      <th id=\"T_661bf_level0_row0\" class=\"row_heading level0 row0\" >0</th>\n",
       "      <td id=\"T_661bf_row0_col0\" class=\"data row0 col0\" >Mean:</td>\n",
       "      <td id=\"T_661bf_row0_col1\" class=\"data row0 col1\" >0.999292</td>\n",
       "      <td id=\"T_661bf_row0_col2\" class=\"data row0 col2\" >1.992735</td>\n",
       "      <td id=\"T_661bf_row0_col3\" class=\"data row0 col3\" >1.000246</td>\n",
       "      <td id=\"T_661bf_row0_col4\" class=\"data row0 col4\" >2.793783</td>\n",
       "    </tr>\n",
       "    <tr>\n",
       "      <th id=\"T_661bf_level0_row1\" class=\"row_heading level0 row1\" >1</th>\n",
       "      <td id=\"T_661bf_row1_col0\" class=\"data row1 col0\" >Standard Deviation:</td>\n",
       "      <td id=\"T_661bf_row1_col1\" class=\"data row1 col1\" >1.003834</td>\n",
       "      <td id=\"T_661bf_row1_col2\" class=\"data row1 col2\" >0.533891</td>\n",
       "      <td id=\"T_661bf_row1_col3\" class=\"data row1 col3\" >1.004512</td>\n",
       "      <td id=\"T_661bf_row1_col4\" class=\"data row1 col4\" >0.243217</td>\n",
       "    </tr>\n",
       "    <tr>\n",
       "      <th id=\"T_661bf_level0_row2\" class=\"row_heading level0 row2\" >2</th>\n",
       "      <td id=\"T_661bf_row2_col0\" class=\"data row2 col0\" > Variance:</td>\n",
       "      <td id=\"T_661bf_row2_col1\" class=\"data row2 col1\" >1.007683</td>\n",
       "      <td id=\"T_661bf_row2_col2\" class=\"data row2 col2\" >0.285039</td>\n",
       "      <td id=\"T_661bf_row2_col3\" class=\"data row2 col3\" >1.009045</td>\n",
       "      <td id=\"T_661bf_row2_col4\" class=\"data row2 col4\" >0.059154</td>\n",
       "    </tr>\n",
       "    <tr>\n",
       "      <th id=\"T_661bf_level0_row3\" class=\"row_heading level0 row3\" >3</th>\n",
       "      <td id=\"T_661bf_row3_col0\" class=\"data row3 col0\" >Covariance:</td>\n",
       "      <td id=\"T_661bf_row3_col1\" class=\"data row3 col1\" >1.007935</td>\n",
       "      <td id=\"T_661bf_row3_col2\" class=\"data row3 col2\" >0.285111</td>\n",
       "      <td id=\"T_661bf_row3_col3\" class=\"data row3 col3\" >1.009297</td>\n",
       "      <td id=\"T_661bf_row3_col4\" class=\"data row3 col4\" >0.059169</td>\n",
       "    </tr>\n",
       "  </tbody>\n",
       "</table>\n"
      ],
      "text/plain": [
       "<pandas.io.formats.style.Styler at 0x7f690869a2b0>"
      ]
     },
     "execution_count": 14,
     "metadata": {},
     "output_type": "execute_result"
    }
   ],
   "source": [
    "stats_df = df_generator(stats_or_x,\n",
    "                        stats_gen_x,\n",
    "                        stats_or_y,\n",
    "                        stats_gen_y,\n",
    "                        np.array([\"Mean:\", \"Standard Deviation:\",\n",
    "                                  \" Variance:\", \"Covariance:\"]),\n",
    "                        df_style)\n",
    "\n",
    "stats_df"
   ]
  },
  {
   "cell_type": "code",
   "execution_count": 16,
   "id": "8252ec61",
   "metadata": {},
   "outputs": [
    {
     "data": {
      "text/plain": [
       "17471.990157899007"
      ]
     },
     "execution_count": 16,
     "metadata": {},
     "output_type": "execute_result"
    }
   ],
   "source": [
    "# OpenCV function that compares 2 histograms, here specifically using the chi_square method to compute the distance\n",
    "cv2.compareHist(x[:, :1].reshape(4000,), a, cv2.HISTCMP_CHISQR)"
   ]
  }
 ],
 "metadata": {
  "kernelspec": {
   "display_name": "Python 3 (ipykernel)",
   "language": "python",
   "name": "python3"
  },
  "language_info": {
   "codemirror_mode": {
    "name": "ipython",
    "version": 3
   },
   "file_extension": ".py",
   "mimetype": "text/x-python",
   "name": "python",
   "nbconvert_exporter": "python",
   "pygments_lexer": "ipython3",
   "version": "3.9.7"
  }
 },
 "nbformat": 4,
 "nbformat_minor": 5
}
