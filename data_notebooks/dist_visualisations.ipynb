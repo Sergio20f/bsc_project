{
 "cells": [
  {
   "cell_type": "code",
   "execution_count": null,
   "id": "ea36f66a",
   "metadata": {},
   "outputs": [],
   "source": [
    "import sys\n",
    "sys.path.append('../')\n",
    "import matplotlib.pyplot as plt\n",
    "import numpy as np\n",
    "\n",
    "from data_generation import simple_generation"
   ]
  },
  {
   "cell_type": "code",
   "execution_count": null,
   "id": "9b7ad0f4",
   "metadata": {
    "scrolled": true
   },
   "outputs": [],
   "source": [
    "a = simple_generation(0, 1,1000000)\n",
    "plt.hist(a.init_dist)"
   ]
  },
  {
   "cell_type": "code",
   "execution_count": null,
   "id": "15389790",
   "metadata": {
    "scrolled": true
   },
   "outputs": [],
   "source": [
    "plt.hist(a.quad_fit())"
   ]
  },
  {
   "cell_type": "code",
   "execution_count": null,
   "id": "246185c9",
   "metadata": {
    "scrolled": false
   },
   "outputs": [],
   "source": [
    "lin = a.linear_fit()\n",
    "plt.hist(a.linear_fit())"
   ]
  },
  {
   "cell_type": "code",
   "execution_count": null,
   "id": "b65609b8",
   "metadata": {},
   "outputs": [],
   "source": [
    "x = a.init_dist\n",
    "y = a.quad_fit()\n",
    "plt.plot(x, y, \".\")"
   ]
  },
  {
   "cell_type": "code",
   "execution_count": null,
   "id": "7c932536",
   "metadata": {
    "scrolled": false
   },
   "outputs": [],
   "source": [
    "b = a.linear_fit()\n",
    "c = a.c_return()\n",
    "\n",
    "d = b**2\n",
    "\n",
    "plt.plot(x, b, \".\")\n",
    "plt.figure()\n",
    "plt.plot(x,-d,'.')"
   ]
  },
  {
   "cell_type": "code",
   "execution_count": null,
   "id": "0399b4e9",
   "metadata": {
    "scrolled": true
   },
   "outputs": [],
   "source": [
    "plt.plot(x, np.exp(-d), \".\")"
   ]
  },
  {
   "cell_type": "code",
   "execution_count": null,
   "id": "b1821088",
   "metadata": {},
   "outputs": [],
   "source": [
    "plt.hist(np.exp(-d))"
   ]
  }
 ],
 "metadata": {
  "kernelspec": {
   "display_name": "Python 3 (ipykernel)",
   "language": "python",
   "name": "python3"
  },
  "language_info": {
   "codemirror_mode": {
    "name": "ipython",
    "version": 3
   },
   "file_extension": ".py",
   "mimetype": "text/x-python",
   "name": "python",
   "nbconvert_exporter": "python",
   "pygments_lexer": "ipython3",
   "version": "3.9.5"
  }
 },
 "nbformat": 4,
 "nbformat_minor": 5
}
