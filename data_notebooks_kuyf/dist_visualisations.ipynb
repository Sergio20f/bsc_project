{
 "cells": [
  {
   "cell_type": "code",
   "execution_count": null,
   "id": "7d61de81",
   "metadata": {},
   "outputs": [],
   "source": [
    "import matplotlib.pyplot as plt\n",
    "from data_generation import simple_generation"
   ]
  },
  {
   "cell_type": "code",
   "execution_count": null,
   "id": "fd18217d",
   "metadata": {},
   "outputs": [],
   "source": [
    "gen1 = simple_generation()\n",
    "dist = gen1.linear_fit(-10,1,20)"
   ]
  },
  {
   "cell_type": "code",
   "execution_count": null,
   "id": "4f87c7a0",
   "metadata": {},
   "outputs": [],
   "source": [
    "# Linear Distribution\n",
    "plt.hist(dist)\n",
    "plt.title('Linear Distribution')"
   ]
  },
  {
   "cell_type": "code",
   "execution_count": null,
   "id": "9036418a",
   "metadata": {},
   "outputs": [],
   "source": [
    "# Gaussian distribution\n",
    "dist = gen1.gaussian_fit(-10,1,1000)\n",
    "plt.hist(dist)\n",
    "plt.title('Gaussian Distribution')"
   ]
  },
  {
   "cell_type": "code",
   "execution_count": null,
   "id": "8f1716f7",
   "metadata": {},
   "outputs": [],
   "source": [
    "# Exponential distribution\n",
    "dist = gen1.exp_fit(1000)\n",
    "plt.hist(dist)\n",
    "plt.title('Exponential Distribution')"
   ]
  },
  {
   "cell_type": "code",
   "execution_count": null,
   "id": "ef817965",
   "metadata": {},
   "outputs": [],
   "source": [
    "# Quadratic distribution\n",
    "dist = gen1.quad_fit(-10,1,20)\n",
    "plt.hist(dist)\n",
    "plt.title('Quadratic Distribution')"
   ]
  }
 ],
 "metadata": {
  "kernelspec": {
   "display_name": "Python 3 (ipykernel)",
   "language": "python",
   "name": "python3"
  },
  "language_info": {
   "codemirror_mode": {
    "name": "ipython",
    "version": 3
   },
   "file_extension": ".py",
   "mimetype": "text/x-python",
   "name": "python",
   "nbconvert_exporter": "python",
   "pygments_lexer": "ipython3",
   "version": "3.9.7"
  }
 },
 "nbformat": 4,
 "nbformat_minor": 5
}
