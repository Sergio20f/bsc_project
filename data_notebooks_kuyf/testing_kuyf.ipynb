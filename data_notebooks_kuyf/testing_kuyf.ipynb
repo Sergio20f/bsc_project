{
 "cells": [
  {
   "cell_type": "code",
   "execution_count": 1,
   "metadata": {},
   "outputs": [
    {
     "name": "stderr",
     "output_type": "stream",
     "text": [
      "2021-11-10 20:46:13.051714: I tensorflow/stream_executor/platform/default/dso_loader.cc:49] Successfully opened dynamic library libcudart.so.10.1\n",
      "2021-11-10 20:46:14.988106: I tensorflow/compiler/jit/xla_cpu_device.cc:41] Not creating XLA devices, tf_xla_enable_xla_devices not set\n",
      "2021-11-10 20:46:14.988290: W tensorflow/stream_executor/platform/default/dso_loader.cc:60] Could not load dynamic library 'libcuda.so.1'; dlerror: libcuda.so.1: cannot open shared object file: No such file or directory\n",
      "2021-11-10 20:46:14.988296: W tensorflow/stream_executor/cuda/cuda_driver.cc:326] failed call to cuInit: UNKNOWN ERROR (303)\n",
      "2021-11-10 20:46:14.988308: I tensorflow/stream_executor/cuda/cuda_diagnostics.cc:156] kernel driver does not appear to be running on this host (pop-os): /proc/driver/nvidia/version does not exist\n",
      "2021-11-10 20:46:14.988504: I tensorflow/core/platform/cpu_feature_guard.cc:142] This TensorFlow binary is optimized with oneAPI Deep Neural Network Library (oneDNN) to use the following CPU instructions in performance-critical operations:  SSE4.1 SSE4.2 AVX AVX2 AVX512F FMA\n",
      "To enable them in other operations, rebuild TensorFlow with the appropriate compiler flags.\n",
      "2021-11-10 20:46:14.988639: I tensorflow/compiler/jit/xla_gpu_device.cc:99] Not creating XLA devices, tf_xla_enable_xla_devices not set\n"
     ]
    },
    {
     "data": {
      "image/png": "[encoded data removed]",
      "text/plain": [
       "<Figure size 432x288 with 1 Axes>"
      ]
     },
     "metadata": {
      "needs_background": "light"
     },
     "output_type": "display_data"
    }
   ],
   "source": [
    "import tensorflow as tf \n",
    "from tensorflow import keras\n",
    "import matplotlib.pyplot as plt \n",
    "import numpy as np\n",
    "import sklearn\n",
    "import pandas as pd\n",
    "\n",
    "from kuyf import Kuyf\n",
    "\n",
    "\n",
    "dataset = [np.random.normal(10, 1, 10000) for i in range(50)]\n",
    "plt.hist(dataset[0],bins=100)\n",
    "\n",
    "dataset = tf.constant(dataset,dtype=np.float32)"
   ]
  },
  {
   "cell_type": "code",
   "execution_count": 2,
   "metadata": {},
   "outputs": [],
   "source": [
    "model = Kuyf(10000)\n",
    "model.kuyf_compile()"
   ]
  },
  {
   "cell_type": "code",
   "execution_count": 6,
   "metadata": {
    "scrolled": false
   },
   "outputs": [
    {
     "name": "stdout",
     "output_type": "stream",
     "text": [
      "Model: \"model_2\"\n",
      "__________________________________________________________________________________________________\n",
      "Layer (type)                    Output Shape         Param #     Connected to                     \n",
      "==================================================================================================\n",
      "input_1 (InputLayer)            [(None, 10000)]      0                                            \n",
      "__________________________________________________________________________________________________\n",
      "model (Functional)              [(None, 2), (None, 2 1005354     input_1[0][0]                    \n",
      "__________________________________________________________________________________________________\n",
      "model_1 (Functional)            (None, 10000)        1015250     model[0][2]                      \n",
      "__________________________________________________________________________________________________\n",
      "dense (Dense)                   (None, 100)          1000100     input_1[0][0]                    \n",
      "__________________________________________________________________________________________________\n",
      "dense_1 (Dense)                 (None, 50)           5050        dense[0][0]                      \n",
      "__________________________________________________________________________________________________\n",
      "dense_3 (Dense)                 (None, 2)            102         dense_1[0][0]                    \n",
      "__________________________________________________________________________________________________\n",
      "tf.__operators__.add (TFOpLambd (None, 2)            0           dense_3[0][0]                    \n",
      "__________________________________________________________________________________________________\n",
      "tf.math.exp (TFOpLambda)        (None, 2)            0           dense_3[0][0]                    \n",
      "__________________________________________________________________________________________________\n",
      "dense_2 (Dense)                 (None, 2)            102         dense_1[0][0]                    \n",
      "__________________________________________________________________________________________________\n",
      "tf.math.subtract (TFOpLambda)   (None, 2)            0           tf.__operators__.add[0][0]       \n",
      "                                                                 tf.math.exp[0][0]                \n",
      "__________________________________________________________________________________________________\n",
      "tf.math.square (TFOpLambda)     (None, 2)            0           dense_2[0][0]                    \n",
      "__________________________________________________________________________________________________\n",
      "tf.math.subtract_1 (TFOpLambda) (None, 2)            0           tf.math.subtract[0][0]           \n",
      "                                                                 tf.math.square[0][0]             \n",
      "__________________________________________________________________________________________________\n",
      "tf.math.reduce_sum (TFOpLambda) ()                   0           tf.math.subtract_1[0][0]         \n",
      "__________________________________________________________________________________________________\n",
      "tf.math.multiply (TFOpLambda)   ()                   0           tf.math.reduce_sum[0][0]         \n",
      "__________________________________________________________________________________________________\n",
      "add_loss (AddLoss)              ()                   0           tf.math.multiply[0][0]           \n",
      "==================================================================================================\n",
      "Total params: 2,020,604\n",
      "Trainable params: 2,020,604\n",
      "Non-trainable params: 0\n",
      "__________________________________________________________________________________________________\n"
     ]
    },
    {
     "data": {
      "text/plain": [
       "<AxesSubplot:>"
      ]
     },
     "execution_count": 6,
     "metadata": {},
     "output_type": "execute_result"
    },
    {
     "data": {
      "image/png": "[encoded data removed]",
      "text/plain": [
       "<Figure size 432x288 with 1 Axes>"
      ]
     },
     "metadata": {
      "needs_background": "light"
     },
     "output_type": "display_data"
    }
   ],
   "source": [
    "model.kuyf.summary()\n",
    "history = model.kuyf_fit(dataset,120,32)\n",
    "pd.DataFrame(history.history).plot()\n"
   ]
  },
  {
   "cell_type": "code",
   "execution_count": 7,
   "metadata": {},
   "outputs": [
    {
     "name": "stdout",
     "output_type": "stream",
     "text": [
      "[35527.80078125, 36108.5859375, 36401.76953125, 36681.69140625, 36841.3203125, 37063.56640625, 37489.078125, 37341.8984375, 37434.12890625, 37339.1640625, 37517.984375, 37312.42578125, 37263.25390625, 37286.73828125, 37237.55078125, 37140.86328125, 37076.28125, 37218.60546875, 36948.296875, 36879.0234375, 36835.9453125, 36718.69921875, 36581.8671875, 36439.93359375, 36445.93359375, 36302.5625, 36214.95703125, 36150.71484375, 36097.5078125, 35951.109375, 35862.0546875, 35775.87890625, 35685.1953125, 35604.21875, 35510.953125, 35449.93359375, 35345.90625, 35263.86328125, 35175.7421875, 35079.82421875, 34989.7734375, 34911.89453125, 34841.82421875, 34721.8359375, 34636.0703125, 34560.703125, 34474.66015625, 34406.34765625, 34298.74609375, 34203.03515625, 34119.39453125, 34039.73046875, 33944.57421875, 33855.125, 33763.7109375, 33673.4609375, 33588.3984375, 33497.62890625, 33517.75390625, 33526.25390625, 33519.69140625, 33508.85546875, 33473.63671875, 33568.703125, 33481.32421875, 33389.56640625, 33396.5234375, 33406.50390625, 33349.00390625, 33362.9453125, 33388.421875, 33325.40625, 33327.89453125, 33301.32421875, 33318.765625, 33301.484375, 33253.9140625, 33246.89453125, 33219.48046875, 33221.37109375, 33191.55859375, 33182.484375, 33204.43359375, 33213.17578125, 33290.41796875, 33161.140625, 33157.6640625, 33189.48828125, 33241.94140625, 33240.96875, 33215.95703125, 33477.375, 33234.76953125, 33201.55859375, 33064.41015625, 33074.203125, 33029.04296875, 33011.984375, 33015.01953125, 32996.71875, 32987.79296875, 32985.24609375, 32958.1484375, 32949.50390625, 32938.62109375, 32957.87890625, 32963.96484375, 33021.86328125, 32972.11328125, 32898.0234375, 32931.58984375, 32857.98828125, 32874.5, 32926.78515625, 32949.8359375, 32831.9921875, 32822.953125, 32870.36328125, 32829.00390625, 32803.8203125]\n"
     ]
    }
   ],
   "source": [
    "#print(min(abs(np.array(history.history['loss']))))\n",
    "print(history.history['loss'])"
   ]
  },
  {
   "cell_type": "code",
   "execution_count": 8,
   "metadata": {},
   "outputs": [
    {
     "data": {
      "text/plain": [
       "(array([  1.,   1.,   0.,   1.,   0.,   0.,   0.,   1.,   0.,   1.,   1.,\n",
       "          0.,   1.,   0.,   0.,   0.,   1.,   0.,   0.,   1.,   0.,   2.,\n",
       "          1.,   0.,   0.,   1.,   1.,   0.,   3.,   1.,   0.,   2.,   1.,\n",
       "          2.,   1.,   0.,   1.,   1.,   2.,   0.,   1.,   0.,   1.,   1.,\n",
       "          0.,   2.,   2.,   1.,   0.,   1.,   2.,   2.,   3.,   1.,   2.,\n",
       "          1.,   3.,   1.,   4.,   0.,   2.,   2.,   4.,   3.,   0.,   3.,\n",
       "          1.,   2.,  10.,   5.,   5.,   1.,   8.,   3.,   4.,   3.,   3.,\n",
       "          4.,   6.,   7.,   5.,  10.,   7.,   5.,  14.,   5.,  17.,  10.,\n",
       "         11.,  13.,  18.,  18.,  19.,  25.,  17.,  28.,  15.,  25.,  19.,\n",
       "         40.,  45.,  56.,  57.,  51.,  57.,  64.,  63.,  82.,  82.,  92.,\n",
       "         99., 103., 121., 117., 136., 139., 136., 167., 157., 148., 158.,\n",
       "        163., 167., 160., 152., 161., 171., 185., 183., 188., 193., 222.,\n",
       "        210., 202., 249., 233., 228., 208., 191., 202., 205., 199., 204.,\n",
       "        204., 179., 199., 182., 184., 176., 183., 144., 166., 134., 113.,\n",
       "        106., 109., 122.,  83.,  77.,  84.,  63.,  49.,  67.,  59.,  39.,\n",
       "         48.,  39.,  30.,  39.,  24.,  39.,  21.,  23.,  21.,  29.,  14.,\n",
       "         24.,  22.,   7.,   9.,   7.,   6.,   7.,   1.,   0.,   0.,   1.,\n",
       "          2.,   2.,   2.,   0.,   0.,   0.,   1.,   0.,   0.,   0.,   0.,\n",
       "          0.,   1.]),\n",
       " array([0.17308362, 0.17718144, 0.18127926, 0.18537708, 0.1894749 ,\n",
       "        0.19357271, 0.19767055, 0.20176837, 0.20586619, 0.209964  ,\n",
       "        0.21406183, 0.21815965, 0.22225747, 0.22635528, 0.2304531 ,\n",
       "        0.23455092, 0.23864876, 0.24274658, 0.2468444 , 0.2509422 ,\n",
       "        0.25504002, 0.25913784, 0.2632357 , 0.2673335 , 0.27143133,\n",
       "        0.27552915, 0.27962697, 0.28372478, 0.2878226 , 0.29192042,\n",
       "        0.29601824, 0.30011606, 0.30421388, 0.3083117 , 0.31240952,\n",
       "        0.31650734, 0.32060516, 0.32470298, 0.3288008 , 0.33289862,\n",
       "        0.33699644, 0.34109426, 0.34519207, 0.34928992, 0.35338774,\n",
       "        0.35748556, 0.36158338, 0.3656812 , 0.36977902, 0.37387684,\n",
       "        0.37797466, 0.38207248, 0.3861703 , 0.39026812, 0.39436594,\n",
       "        0.39846376, 0.40256158, 0.4066594 , 0.4107572 , 0.41485503,\n",
       "        0.41895285, 0.42305067, 0.4271485 , 0.4312463 , 0.43534416,\n",
       "        0.43944198, 0.4435398 , 0.44763762, 0.45173544, 0.45583326,\n",
       "        0.45993108, 0.4640289 , 0.4681267 , 0.47222453, 0.47632235,\n",
       "        0.48042017, 0.484518  , 0.4886158 , 0.49271363, 0.49681145,\n",
       "        0.50090927, 0.5050071 , 0.5091049 , 0.5132027 , 0.51730055,\n",
       "        0.52139837, 0.5254962 , 0.529594  , 0.5336918 , 0.53778964,\n",
       "        0.54188746, 0.5459853 , 0.5500831 , 0.5541809 , 0.55827874,\n",
       "        0.5623766 , 0.56647444, 0.57057226, 0.5746701 , 0.5787679 ,\n",
       "        0.5828657 , 0.58696353, 0.59106135, 0.5951592 , 0.599257  ,\n",
       "        0.6033548 , 0.60745263, 0.61155045, 0.61564827, 0.6197461 ,\n",
       "        0.6238439 , 0.6279417 , 0.63203955, 0.63613737, 0.6402352 ,\n",
       "        0.644333  , 0.6484308 , 0.65252864, 0.65662646, 0.6607243 ,\n",
       "        0.6648221 , 0.6689199 , 0.67301774, 0.67711556, 0.6812134 ,\n",
       "        0.6853112 , 0.689409  , 0.69350684, 0.69760466, 0.7017025 ,\n",
       "        0.7058003 , 0.7098981 , 0.71399593, 0.71809375, 0.7221916 ,\n",
       "        0.7262894 , 0.7303872 , 0.7344851 , 0.7385829 , 0.7426807 ,\n",
       "        0.74677855, 0.75087637, 0.7549742 , 0.759072  , 0.7631698 ,\n",
       "        0.76726764, 0.77136546, 0.7754633 , 0.7795611 , 0.7836589 ,\n",
       "        0.78775674, 0.79185456, 0.7959524 , 0.8000502 , 0.804148  ,\n",
       "        0.80824584, 0.81234366, 0.8164415 , 0.8205393 , 0.8246371 ,\n",
       "        0.82873493, 0.83283275, 0.8369306 , 0.8410284 , 0.8451262 ,\n",
       "        0.84922403, 0.85332185, 0.85741967, 0.8615175 , 0.8656153 ,\n",
       "        0.8697131 , 0.87381095, 0.87790877, 0.8820066 , 0.8861044 ,\n",
       "        0.8902022 , 0.89430004, 0.89839786, 0.9024957 , 0.90659356,\n",
       "        0.9106914 , 0.9147892 , 0.918887  , 0.92298484, 0.92708266,\n",
       "        0.9311805 , 0.9352783 , 0.9393761 , 0.94347394, 0.94757175,\n",
       "        0.9516696 , 0.9557674 , 0.9598652 , 0.96396303, 0.96806085,\n",
       "        0.9721587 , 0.9762565 , 0.9803543 , 0.9844521 , 0.98854995,\n",
       "        0.99264777], dtype=float32),\n",
       " <BarContainer object of 200 artists>)"
      ]
     },
     "execution_count": 8,
     "metadata": {},
     "output_type": "execute_result"
    },
    {
     "data": {
      "image/png": "[encoded data removed]",
      "text/plain": [
       "<Figure size 432x288 with 1 Axes>"
      ]
     },
     "metadata": {
      "needs_background": "light"
     },
     "output_type": "display_data"
    }
   ],
   "source": [
    "distr = model.kuyf_generate()\n",
    "plt.hist(distr,bins=200)"
   ]
  },
  {
   "cell_type": "code",
   "execution_count": null,
   "metadata": {},
   "outputs": [],
   "source": [
    "# add a callback so that we can see how the model performs \n",
    "# for an early stopping algorithm\n",
    "\n",
    "# look into more activaion functions that have negative output\n",
    "\n",
    "# try to generate other distributions aswell so work on the data generation methods\n",
    "\n",
    "# experiment more with coding sizes\n",
    "# (increasing the coding size changes the model drastically) 2 is a good coding size\n",
    "\n",
    "# tails for the gaussians look good, and the generated gaussians have\n",
    "# a shape that looks gaussian however some are quite bad\n",
    "\n",
    "# I have no clue why some Gaussians are drastically different from\n",
    "# other generated ones\n",
    "\n",
    "# tried "
   ]
  },
  {
   "cell_type": "code",
   "execution_count": null,
   "metadata": {},
   "outputs": [],
   "source": []
  }
 ],
 "metadata": {
  "interpreter": {
   "hash": "7f38dfcc6e01e17d40ad36b78a6f17846c0cc7ff69a7403f8fe5041a110e5653"
  },
  "kernelspec": {
   "display_name": "Python 3 (ipykernel)",
   "language": "python",
   "name": "python3"
  },
  "language_info": {
   "codemirror_mode": {
    "name": "ipython",
    "version": 3
   },
   "file_extension": ".py",
   "mimetype": "text/x-python",
   "name": "python",
   "nbconvert_exporter": "python",
   "pygments_lexer": "ipython3",
   "version": "3.9.7"
  }
 },
 "nbformat": 4,
 "nbformat_minor": 2
}
